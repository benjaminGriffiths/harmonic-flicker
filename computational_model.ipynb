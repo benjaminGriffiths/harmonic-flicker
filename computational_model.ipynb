{
 "cells": [
  {
   "cell_type": "markdown",
   "source": [
    "### Section 0: Preparation\n",
    "First, import the necessary modules"
   ],
   "metadata": {
    "collapsed": false
   }
  },
  {
   "cell_type": "code",
   "execution_count": 1,
   "metadata": {
    "collapsed": true,
    "ExecuteTime": {
     "end_time": "2023-07-20T14:07:31.386175Z",
     "start_time": "2023-07-20T14:07:30.355977Z"
    }
   },
   "outputs": [],
   "source": [
    "import numpy as np\n",
    "import pandas as pd\n",
    "import matplotlib as mpl\n",
    "import platform\n",
    "import scipy\n",
    "import statsmodels.api as sm\n",
    "import sys\n",
    "\n",
    "from matplotlib import pyplot as plt\n",
    "from matplotlib import cm as colmap\n",
    "from scipy import signal\n",
    "\n",
    "# check python version is correct\n",
    "p = sys.version_info\n",
    "assert((p.major == 3) & (p.minor == 10) & (p.micro == 11))\n",
    "del p\n",
    "\n",
    "# cross-check package versions are correct\n",
    "assert(mpl.__version__ == '3.7.1')  # matplotlib\n",
    "assert(np.__version__ == '1.25.0')  # numpy\n",
    "assert(pd.__version__ == '2.0.2')  # pandas\n",
    "assert(scipy.__version__ == '1.11.0')  # scipy\n",
    "assert(sm.__version__ == '0.13.5')  # statsmodels\n",
    "mpl.rcParams.update({\"axes.grid\" : False})"
   ]
  },
  {
   "cell_type": "markdown",
   "source": [
    "This function, taken from https://towardsdatascience.com/optimize-memory-tips-in-python-3bbb44512937, reduces the amount of memory that a dataframe consumes. We use this to reduce computational load"
   ],
   "metadata": {
    "collapsed": false
   }
  },
  {
   "cell_type": "code",
   "execution_count": 2,
   "outputs": [],
   "source": [
    "def data_optimize(df, object_option=False):\n",
    "    \"\"\"Reduce the size of the input dataframe\n",
    "    Parameters\n",
    "    ----------\n",
    "    df: pd.DataFrame\n",
    "        input DataFrame\n",
    "    object_option : bool, default=False\n",
    "        if true, try to convert object to category\n",
    "    Returns\n",
    "    -------\n",
    "    df: pd.DataFrame\n",
    "        data type optimized output dataframe]\n",
    "\n",
    "    Taken from https://towardsdatascience.com/optimize-memory-tips-in-python-3bbb44512937\n",
    "    \"\"\"\n",
    "\n",
    "    # loop columns in the dataframe to downcast the dtype\n",
    "    for col in df.columns:\n",
    "        # process the int columns\n",
    "        if df[col].dtype == 'int':\n",
    "            col_min = df[col].min()\n",
    "            col_max = df[col].max()\n",
    "            # if all are non-negative, change to uint\n",
    "            if col_min >= 0:\n",
    "                if col_max < np.iinfo(np.uint8).max:\n",
    "                    df[col] = df[col].astype(np.uint8)\n",
    "                elif col_max < np.iinfo(np.uint16).max:\n",
    "                    df[col] = df[col].astype(np.uint16)\n",
    "                elif col_max < np.iinfo(np.uint32).max:\n",
    "                    df[col] = df[col].astype(np.uint32)\n",
    "                else:\n",
    "                    df[col] = df[col]\n",
    "            else:\n",
    "                # if it has negative values, downcast based on the min and max\n",
    "                if col_max < np.iinfo(np.int8).max and col_min > np.iinfo(np.int8).min:\n",
    "                    df[col] = df[col].astype(np.int8)\n",
    "                elif col_max < np.iinfo(np.int16).max and col_min > np.iinfo(np.int16).min:\n",
    "                    df[col] = df[col].astype(np.int16)\n",
    "                elif col_max < np.iinfo(np.int32).max and col_min > np.iinfo(np.int32).min:\n",
    "                    df[col] = df[col].astype(np.int32)\n",
    "                else:\n",
    "                    df[col] = df[col]\n",
    "\n",
    "        # process the float columns\n",
    "        elif df[col].dtype == 'float':\n",
    "            col_min = df[col].min()\n",
    "            col_max = df[col].max()\n",
    "            # downcast based on the min and max\n",
    "            if col_min > np.finfo(np.float32).min and col_max < np.finfo(np.float32).max:\n",
    "                df[col] = df[col].astype(np.float32)\n",
    "            else:\n",
    "                df[col] = df[col]\n",
    "\n",
    "        if object_option:\n",
    "            if df[col].dtype == 'object':\n",
    "                if len(df[col].value_counts()) < 0.5 * df.shape[0]:\n",
    "                    df[col] = df[col].astype('category')\n",
    "\n",
    "    return df"
   ],
   "metadata": {
    "collapsed": false,
    "pycharm": {
     "name": "#%%\n"
    },
    "ExecuteTime": {
     "end_time": "2023-07-20T14:07:31.389685Z",
     "start_time": "2023-07-20T14:07:30.780932Z"
    }
   }
  },
  {
   "cell_type": "markdown",
   "source": [
    "This function defines the default parameters for the model. Users can specify the inputs when calling the function if they wish to alter any of the parameters."
   ],
   "metadata": {
    "collapsed": false
   }
  },
  {
   "cell_type": "code",
   "execution_count": 3,
   "outputs": [],
   "source": [
    "def get_params(fs=1000, T=5001, Ne=320, Ni=80, osc_ratio=0.2, ei_ratio=2/5, ee=0, ei=0.5, ie=-0.6, ii=-1.0,\n",
    "               dc=4.2, npp=1, seed=0, freqs=0):\n",
    "\n",
    "    # set random seed\n",
    "    np.random.seed(seed)\n",
    "\n",
    "    # define basic parameters\n",
    "    params = dict()\n",
    "    params['fs'] = fs\n",
    "    params['T'] = T\n",
    "    params['Ne'] = Ne\n",
    "    params['Ni'] = Ni\n",
    "    params['osc_ratio'] = osc_ratio\n",
    "    params['ei_ratio'] = ei_ratio\n",
    "    params['dc'] = dc\n",
    "    params['npp'] = npp\n",
    "    params['freqs'] = freqs\n",
    "\n",
    "    # define neuron parameters\n",
    "    params['a'] = np.concatenate([0.02 * np.ones(Ne), (0.02 * np.ones(Ni)) + (0.08 * np.random.rand(Ni))])\n",
    "    params['b'] = np.concatenate([0.2 * np.ones(Ne), (0.25 * np.ones(Ni)) - (0.05 * np.random.rand(Ni))])\n",
    "    params['c'] = np.concatenate([(-65 * np.ones(Ne)) + (15 * (np.random.rand(Ne) ** 2)), -65 * np.ones(Ni)])\n",
    "    params['d'] = np.concatenate([(8 * np.ones(Ne)) - (6 * (np.random.rand(Ne) ** 2)), 2 * np.ones(Ni)])\n",
    "    params['v'] = -65 * np.ones(Ne + Ni)\n",
    "    params['u'] = params['b'] * params['v']\n",
    "\n",
    "    # define connectivity\n",
    "    c_mat_e = np.concatenate([ee * np.random.rand(Ne, Ne), ei * np.random.rand(Ni, Ne)], axis=0)\n",
    "    c_mat_i = np.concatenate([ie * np.random.rand(Ne, Ni), ii * np.random.rand(Ni, Ni)], axis=0)\n",
    "    params['S'] = np.concatenate([c_mat_e, c_mat_i], axis=1)\n",
    "    np.fill_diagonal(params['S'], 0)\n",
    "\n",
    "    return params\n"
   ],
   "metadata": {
    "collapsed": false,
    "pycharm": {
     "name": "#%%\n"
    },
    "ExecuteTime": {
     "end_time": "2023-07-20T14:07:31.389850Z",
     "start_time": "2023-07-20T14:07:30.797920Z"
    }
   }
  },
  {
   "cell_type": "markdown",
   "source": [
    "This function calculates the input that we will present to the network. There is a DC component, a sine wave, and normally distributed noise. All aspects of the input are determined by 'p', a dictionary containing the parameters defined in the last function. 'fi' provides the index for which frequency (contained in 'p') to use."
   ],
   "metadata": {
    "collapsed": false
   }
  },
  {
   "cell_type": "code",
   "execution_count": 4,
   "outputs": [],
   "source": [
    "def calculate_input(p, fi):\n",
    "    # for each cell, calculate the input the cell receives over time. This input varies as a function of direct\n",
    "    # current (dc), the ratio of oscillatory input to \"dc\" (osc_ratio), and the percentage of \"dc\" passed to\n",
    "    # inhibitory cells (ei_ratio). A time-series of inputs is returned for each cell (I).\n",
    "\n",
    "    # compute oscillatory input (excit. only)\n",
    "    amp = (p['dc'] * p['osc_ratio'])\n",
    "    osc_input = ((amp * np.sin(2 * np.pi * p['freqs'][fi] * np.arange(0, p['T']) / p['fs'])) + amp) / 2\n",
    "    osc_input = np.concatenate([np.repeat(osc_input[:, np.newaxis], p['Ne'], axis=1).transpose(),\n",
    "                               np.zeros((p['Ni'], p['T']))])\n",
    "\n",
    "    # compute direct input\n",
    "    dir_input = np.concatenate([p['dc'] * np.ones((p['Ne'], p['T'])) + (p['dc']/10) *\n",
    "                                np.random.randn(p['Ne'], p['T']), p['dc'] * p['ei_ratio'] *\n",
    "                                np.ones((p['Ni'], p['T'])) + ((p['dc'] * p['ei_ratio'])/10) *\n",
    "                                np.random.randn(p['Ni'], p['T'])])\n",
    "\n",
    "    # return summed input\n",
    "    ex_in = dir_input + osc_input\n",
    "\n",
    "    # stagger onset to avoid artificial synchrony\n",
    "    stagger_win = p['fs'] * 0.1  # stagger by 100ms\n",
    "    for neuron in range(0, np.size(ex_in, axis=0)):\n",
    "        neuron_delay = int(np.random.rand(1) * stagger_win)\n",
    "        ex_in[neuron, :neuron_delay] = 0\n",
    "\n",
    "    del osc_input\n",
    "    return ex_in"
   ],
   "metadata": {
    "collapsed": false,
    "pycharm": {
     "name": "#%%\n"
    },
    "ExecuteTime": {
     "end_time": "2023-07-20T14:07:31.392733Z",
     "start_time": "2023-07-20T14:07:30.806484Z"
    }
   }
  },
  {
   "cell_type": "markdown",
   "source": [
    "This function runs the model, as outlined by Izhikevich (2004), given the pre-specified parameters ('p') and the network input ('ex_in')."
   ],
   "metadata": {
    "collapsed": false
   }
  },
  {
   "cell_type": "code",
   "execution_count": 5,
   "outputs": [],
   "source": [
    "def run_model(p, ex_in):\n",
    "    # run the standard Izhikevich model, returning when spikes occurred (firings), the voltage over time (volts)\n",
    "    # and the inputs at a given moment in time (inputs)\n",
    "\n",
    "    # extract variables\n",
    "    Ne = p['Ne']\n",
    "    Ni = p['Ni']\n",
    "    T = p['T']\n",
    "    v = p['v']\n",
    "    u = p['u']\n",
    "    S = p['S']\n",
    "    a = p['a']\n",
    "    b = p['b']\n",
    "    c = p['c']\n",
    "    d = p['d']\n",
    "\n",
    "    # predefine loop outputs\n",
    "    fs_ = np.zeros((Ne + Ni, T))\n",
    "    vs_ = np.zeros((T, 2))\n",
    "    is_ = np.zeros((T, 2))\n",
    "\n",
    "    # cycle through samples\n",
    "    for t in np.arange(0, T):\n",
    "\n",
    "        # address firing neurons\n",
    "        fired = np.where(v >= 30)[0]  # find units that fire\n",
    "        for n in fired:\n",
    "            fs_[n, t] = 1\n",
    "            v[n] = c[n]\n",
    "            u[n] = u[n]+d[n]\n",
    "\n",
    "        # add voltage results to dataframe\n",
    "        vs_[t, :] = [np.mean(v[:Ne]), np.mean(v[Ne:])]\n",
    "\n",
    "        # add exo. and endo. stimulation to numpy array\n",
    "        is_[t, :] = [np.mean(ex_in[:, t], axis=0), np.mean(np.sum(S[:, fired], axis=1))]\n",
    "\n",
    "        # define time point input\n",
    "        I = ex_in[:, t] + np.sum(S[:, fired], axis=1)\n",
    "\n",
    "        # update neuron values\n",
    "        v = v+(0.04*v**2+5*v+140-u+I)\n",
    "        u = u+a*(b*v-u)\n",
    "\n",
    "    # return key values\n",
    "    del Ne, Ni, a, b, c, d, u, v, S, T, t, fired\n",
    "    return fs_, vs_, is_"
   ],
   "metadata": {
    "collapsed": false,
    "pycharm": {
     "name": "#%%\n"
    },
    "ExecuteTime": {
     "end_time": "2023-07-20T14:07:31.395551Z",
     "start_time": "2023-07-20T14:07:30.814532Z"
    }
   }
  },
  {
   "cell_type": "markdown",
   "source": [
    "This function organises the data returned from the model"
   ],
   "metadata": {
    "collapsed": false
   }
  },
  {
   "cell_type": "code",
   "execution_count": 6,
   "outputs": [],
   "source": [
    "def create_output_dataframes(p, sto_, voo_, spo_):\n",
    "    # define the output dataframes for three variables of interest (volts, spikes, and input).\n",
    "\n",
    "    # extract variables\n",
    "    Ne = p['Ne']\n",
    "    Ni = p['Ni']\n",
    "    T = p['T']\n",
    "\n",
    "    # predefine output dataframes\n",
    "    N = Ne+Ni\n",
    "    vs_ = pd.DataFrame(np.zeros((T * 2, 4)), columns=['t', 'f', 'cell', 'vals'])\n",
    "    sp_ = pd.DataFrame(np.zeros((T * (Ne + Ni), 4)), columns=['t', 'f', 'neuron', 'spike'])\n",
    "    st_ = pd.DataFrame(np.zeros((T * 2, 4)), columns=['t', 'f', 'type', 'vals'])\n",
    "\n",
    "    # add in times/freqs/cells to voltage dataframe\n",
    "    vs_['cell'] = np.repeat(['e', 'i'], T)\n",
    "    vs_['t'] = np.tile(np.arange(0, T), 2)\n",
    "    vs_['vals'] = np.concatenate(voo_)\n",
    "    vs_ = data_optimize(vs_)\n",
    "\n",
    "    # add in times/freqs/cells to spike-time dataframe\n",
    "    if spo_ != None:\n",
    "        sp_['neuron'] = np.repeat(np.arange(0, N), T)\n",
    "        sp_['t'] = np.tile(np.arange(0, T), N)\n",
    "        sp_['spike'] = np.concatenate(spo_)\n",
    "        sp_ = data_optimize(sp_)\n",
    "    else:\n",
    "        sp_ = None\n",
    "\n",
    "    # add in times/freqs to stimulation dataframe\n",
    "    st_['type'] = np.repeat(['exo', 'endo'], T)\n",
    "    st_['t'] = np.tile(np.arange(0, T), 2)\n",
    "    st_['vals'] = np.concatenate(sto_)\n",
    "    st_ = data_optimize(st_)\n",
    "\n",
    "    # return\n",
    "    del Ne, Ni, T, N\n",
    "    return vs_, sp_, st_"
   ],
   "metadata": {
    "collapsed": false,
    "pycharm": {
     "name": "#%%\n"
    },
    "ExecuteTime": {
     "end_time": "2023-07-20T14:07:31.395762Z",
     "start_time": "2023-07-20T14:07:30.821978Z"
    }
   }
  },
  {
   "cell_type": "markdown",
   "source": [
    "This function uses Welch's method to estimate the power spectrum of the 'v' parameter returned from the model."
   ],
   "metadata": {
    "collapsed": false
   }
  },
  {
   "cell_type": "code",
   "execution_count": 7,
   "outputs": [],
   "source": [
    "def get_fft(xi, trim_edges=True, nperseg=1000):\n",
    "    if trim_edges:\n",
    "        n = int(np.size(xi) / 10)\n",
    "        xi = xi[n:-n]\n",
    "        del n\n",
    "    fwelch, spec = scipy.signal.welch(xi, fs=1000, window='hann', nperseg=nperseg, noverlap=nperseg-50)\n",
    "    spec = spec[fwelch <= 150]\n",
    "    fwelch = fwelch[fwelch <= 150]\n",
    "    peak_f = fwelch[max(spec) == spec][0]\n",
    "    return fwelch, spec, peak_f"
   ],
   "metadata": {
    "collapsed": false,
    "pycharm": {
     "name": "#%%\n"
    },
    "ExecuteTime": {
     "end_time": "2023-07-20T14:07:31.395868Z",
     "start_time": "2023-07-20T14:07:30.826966Z"
    }
   }
  },
  {
   "cell_type": "markdown",
   "source": [
    "This function determines the power of the most prominent spectral peak in the data."
   ],
   "metadata": {
    "collapsed": false
   }
  },
  {
   "cell_type": "code",
   "execution_count": 8,
   "outputs": [],
   "source": [
    "def get_power_at_peak(x, fr):\n",
    "\n",
    "    # get peak power for every participant and exogenous frequency\n",
    "    powi = np.zeros(np.size(x, axis=0))\n",
    "    for pi in range(0, np.size(x, axis=0)):\n",
    "        tmp_pow = x[pi, fr]  # get power around endogenous peak\n",
    "        tmp_peak = np.argmax(tmp_pow)\n",
    "        powi[pi] = tmp_pow[tmp_peak]\n",
    "\n",
    "    # return key values\n",
    "    del pi, tmp_pow, tmp_peak\n",
    "    return powi"
   ],
   "metadata": {
    "collapsed": false,
    "pycharm": {
     "name": "#%%\n"
    },
    "ExecuteTime": {
     "end_time": "2023-07-20T14:07:31.407882Z",
     "start_time": "2023-07-20T14:07:30.831311Z"
    }
   }
  },
  {
   "cell_type": "markdown",
   "source": [
    "This function calculates the peak-to-peak delay between oscillatory cycles, together with the amplitude of the oscillation"
   ],
   "metadata": {
    "collapsed": false
   }
  },
  {
   "cell_type": "code",
   "execution_count": 9,
   "outputs": [],
   "source": [
    "def get_peak_to_peak(xi):\n",
    "    volt_z = scipy.stats.zscore(xi)\n",
    "    peaks = scipy.signal.find_peaks(volt_z, prominence=1)\n",
    "    hist_peaks, _ = np.histogram(np.diff(peaks[0]), np.arange(0, 152))\n",
    "    hist_peaks = hist_peaks / (np.size(peaks[0])-1)\n",
    "    yi = hist_peaks\n",
    "    zi = peaks[1]['prominences'].mean()\n",
    "    return yi, zi"
   ],
   "metadata": {
    "collapsed": false,
    "pycharm": {
     "name": "#%%\n"
    },
    "ExecuteTime": {
     "end_time": "2023-07-20T14:07:31.408502Z",
     "start_time": "2023-07-20T14:07:30.836135Z"
    }
   }
  },
  {
   "cell_type": "markdown",
   "source": [
    "This function normalises an input so that the minimum is 0 and the maximum is 1."
   ],
   "metadata": {
    "collapsed": false
   }
  },
  {
   "cell_type": "code",
   "execution_count": 10,
   "outputs": [],
   "source": [
    "def normalise(xi):\n",
    "    yi = (xi - min(xi)) / (max(xi) - min(xi))\n",
    "    return yi"
   ],
   "metadata": {
    "collapsed": false,
    "pycharm": {
     "name": "#%%\n"
    },
    "ExecuteTime": {
     "end_time": "2023-07-20T14:07:31.411814Z",
     "start_time": "2023-07-20T14:07:30.843046Z"
    }
   }
  },
  {
   "cell_type": "markdown",
   "source": [
    "This function smooths an input using a moving average of size 'span'"
   ],
   "metadata": {
    "collapsed": false
   }
  },
  {
   "cell_type": "code",
   "execution_count": 11,
   "outputs": [],
   "source": [
    "def smooth(x, span):\n",
    "    if span % 2 == 0:\n",
    "        span += 1\n",
    "    a = int(np.floor(span / 2))\n",
    "    b = int(np.ceil(span / 2))\n",
    "    y = np.zeros(np.size(x))\n",
    "    for i in np.arange(0, np.size(x)):\n",
    "        idx = np.arange(i-a, i+b)\n",
    "        idx = idx[idx >= 0]\n",
    "        idx = idx[idx < np.size(x)]\n",
    "        y[i] = np.mean(x[idx])\n",
    "    return y"
   ],
   "metadata": {
    "collapsed": false,
    "pycharm": {
     "name": "#%%\n"
    },
    "ExecuteTime": {
     "end_time": "2023-07-20T14:07:31.412041Z",
     "start_time": "2023-07-20T14:07:30.848514Z"
    }
   }
  },
  {
   "cell_type": "markdown",
   "source": [
    "### Section 1: The Basic Model\n",
    "First, we define the necessary directories and set the RNG seed."
   ],
   "metadata": {
    "collapsed": false
   }
  },
  {
   "cell_type": "code",
   "execution_count": 12,
   "outputs": [],
   "source": [
    "# define key directories\n",
    "if platform.system() == 'Windows':\n",
    "    data_directory = 'C:/Users/griffibz/Dropbox/work_data/beh_gammaFlicker/'\n",
    "else:\n",
    "    data_directory = '/Users/ben/Dropbox/work_data/beh_gammaFlicker/'\n",
    "\n",
    "# reset seed\n",
    "rand_seed = 1\n",
    "np.random.seed(rand_seed)"
   ],
   "metadata": {
    "collapsed": false,
    "pycharm": {
     "name": "#%%\n"
    },
    "ExecuteTime": {
     "end_time": "2023-07-20T14:07:31.412148Z",
     "start_time": "2023-07-20T14:07:30.853232Z"
    }
   }
  },
  {
   "cell_type": "markdown",
   "source": [
    "We define how the model parameters vary as a function of model type. The first model is the 'slow gamma' model, which has a small DC input. The second is the 'fast gamma' model, which has a larger DC input to excite the cells more rapidly. The last is the 'arrhythmic' model, which has the same DC input as the 'slow' gamma model, but internal network connections are silenced to prevent the generation of gamma oscillations. Target frequencies ranging from 5Hz to 140Hz are also defined."
   ],
   "metadata": {
    "collapsed": false
   }
  },
  {
   "cell_type": "code",
   "execution_count": 13,
   "outputs": [],
   "source": [
    "# define model-varying parameters\n",
    "mod_var = {'dc_var': [4.26, 15.25, 4.26],\n",
    "           'endo_var': [32, 64, 32],\n",
    "           'ie_var': [-0.6, -0.6, 0],\n",
    "           'ii_var': [-1, -1, 0]}\n",
    "target_freqs = np.concatenate((np.zeros(1), np.arange(5, 141, 1.25)))"
   ],
   "metadata": {
    "collapsed": false,
    "pycharm": {
     "name": "#%%\n"
    },
    "ExecuteTime": {
     "end_time": "2023-07-20T14:07:31.412249Z",
     "start_time": "2023-07-20T14:07:30.857590Z"
    }
   }
  },
  {
   "cell_type": "markdown",
   "source": [
    "#### Section 1.1: An Example Model\n",
    "Here, we are going to run one version of the 'fast gamma' model to demonstrate what each stage produces. First, we define the parameters based on what came above. Oscillatory input strength is exaggerated to help visualise the example."
   ],
   "metadata": {
    "collapsed": false
   }
  },
  {
   "cell_type": "code",
   "execution_count": 14,
   "outputs": [],
   "source": [
    "# define target freqs.\n",
    "params = get_params(seed=rand_seed, dc=mod_var['dc_var'][1],\n",
    "                    ie=mod_var['ie_var'][1], ii=mod_var['ii_var'][1],\n",
    "                    freqs=np.array(target_freqs), osc_ratio=0.5)"
   ],
   "metadata": {
    "collapsed": false,
    "pycharm": {
     "name": "#%%\n"
    },
    "ExecuteTime": {
     "end_time": "2023-07-20T14:07:31.424198Z",
     "start_time": "2023-07-20T14:07:30.862351Z"
    }
   }
  },
  {
   "cell_type": "markdown",
   "source": [
    "Next, we reset the random seed and determine the exogenous input into the network. In the main loop, only one exogenous input is generated. Here, two are produced to provide an intuition of the differences between the DC-only and DC+sine inputs."
   ],
   "metadata": {
    "collapsed": false
   }
  },
  {
   "cell_type": "code",
   "execution_count": 15,
   "outputs": [
    {
     "name": "stderr",
     "output_type": "stream",
     "text": [
      "/var/folders/n4/4yfr_qsj01l2w4k6v2ksq22m0000gn/T/ipykernel_17543/604055345.py:24: DeprecationWarning: Conversion of an array with ndim > 0 to a scalar is deprecated, and will error in future. Ensure you extract a single element from your array before performing this operation. (Deprecated NumPy 1.25.)\n",
      "  neuron_delay = int(np.random.rand(1) * stagger_win)\n"
     ]
    },
    {
     "data": {
      "text/plain": "<Figure size 400x300 with 1 Axes>",
      "image/png": "[encoded data removed]"
     },
     "metadata": {},
     "output_type": "display_data"
    }
   ],
   "source": [
    "# reset seed so underlying endogenous dynamics are identical no matter the exogenous input\n",
    "np.random.seed(rand_seed)\n",
    "\n",
    "# define input for freq. condition\n",
    "exo_input = calculate_input(params, 0)\n",
    "exo_input_withStim = calculate_input(params, 49)  # 49 is the index for 65Hz stim.\n",
    "\n",
    "# plot\n",
    "plt.subplots(1, 1, figsize=(4, 3))\n",
    "plt.plot(exo_input[0, :], label='DC-only')\n",
    "plt.plot(exo_input_withStim[0, :], label='DC+sine')\n",
    "plt.xlim([1000, 1120])\n",
    "plt.xlabel('Time (samples)')\n",
    "plt.ylim([10, 30])\n",
    "plt.ylabel('Exogenous Input (arb. units)')\n",
    "plt.legend()\n",
    "plt.show()"
   ],
   "metadata": {
    "collapsed": false,
    "pycharm": {
     "name": "#%%\n"
    },
    "ExecuteTime": {
     "end_time": "2023-07-20T14:07:31.683235Z",
     "start_time": "2023-07-20T14:07:30.871490Z"
    }
   }
  },
  {
   "cell_type": "markdown",
   "source": [
    "Here's the key moment when we run the model, which returns information about spiking and LFP. As above, we will run two models here to compare the effect of stimulation, but this is a purely descriptive exercise at this stage."
   ],
   "metadata": {
    "collapsed": false
   }
  },
  {
   "cell_type": "code",
   "execution_count": 16,
   "outputs": [
    {
     "data": {
      "text/plain": "<Figure size 700x400 with 4 Axes>",
      "image/png": "[encoded data removed]"
     },
     "metadata": {},
     "output_type": "display_data"
    }
   ],
   "source": [
    "# run model\n",
    "spikes_noStim, LFP_noStim, _ = run_model(params, exo_input)\n",
    "spikes_wStim, LFP_wStim, _ = run_model(params, exo_input_withStim)\n",
    "\n",
    "# plot\n",
    "_, ax = plt.subplots(2, 2, figsize=(7, 4), sharex='all')\n",
    "ax[0, 0].pcolor(spikes_noStim[:, 1000:1121])\n",
    "ax[0, 0].set_ylabel('Neuron #')\n",
    "ax[0, 0].set_title('Unstimulated Network')\n",
    "ax[1, 0].plot(LFP_noStim[1000:1121, 0], label='Excitatory')\n",
    "ax[1, 0].plot(LFP_noStim[1000:1121, 1], label='Inhibitory')\n",
    "ax[1, 0].set_ylim([-90, -10])\n",
    "ax[1, 0].set_xlabel('Time (samples)')\n",
    "ax[1, 0].set_ylabel('LFP (arb. units)')\n",
    "ax[1, 0].legend(loc='upper right')\n",
    "ax[0, 1].pcolor(spikes_wStim[:, 1000:1121])\n",
    "ax[0, 1].set_title('Stimulated Network')\n",
    "ax[1, 1].plot(LFP_wStim[1000:1121, 0], label='Excitatory')\n",
    "ax[1, 1].plot(LFP_wStim[1000:1121, 1], label='Inhibitory')\n",
    "ax[1, 1].set_ylim([-90, -10])\n",
    "ax[1, 1].set_xlabel('Time (samples)')\n",
    "ax[1, 1].legend(loc='upper right')\n",
    "plt.tight_layout()\n",
    "plt.show()\n",
    "\n",
    "# tidy up\n",
    "del spikes_noStim, spikes_wStim, ax, exo_input, exo_input_withStim, _"
   ],
   "metadata": {
    "collapsed": false,
    "pycharm": {
     "name": "#%%\n"
    },
    "ExecuteTime": {
     "end_time": "2023-07-20T14:07:36.323979Z",
     "start_time": "2023-07-20T14:07:31.482292Z"
    }
   }
  },
  {
   "cell_type": "markdown",
   "source": [
    "We can then get the power spectrum of the LFP to look for peaks in the data"
   ],
   "metadata": {
    "collapsed": false
   }
  },
  {
   "cell_type": "code",
   "execution_count": 17,
   "outputs": [
    {
     "data": {
      "text/plain": "<Figure size 400x300 with 1 Axes>",
      "image/png": "[encoded data removed]"
     },
     "metadata": {},
     "output_type": "display_data"
    }
   ],
   "source": [
    "# compute FFT\n",
    "freqs, power_noStim, _ = get_fft(LFP_noStim[:, 0])\n",
    "_, power_wStim, _ = get_fft(LFP_wStim[:, 0])\n",
    "\n",
    "# plot\n",
    "plt.subplots(1, 1, figsize=(4, 3))\n",
    "plt.plot(freqs, power_noStim, label='No Stim.')\n",
    "plt.plot(freqs, power_wStim, label='With Stim.')\n",
    "plt.xlabel('Freq. (Hz)')\n",
    "plt.ylabel('Power (arb. units)')\n",
    "plt.legend()\n",
    "plt.show()\n",
    "\n",
    "# tidy up\n",
    "del freqs, power_noStim, power_wStim, _"
   ],
   "metadata": {
    "collapsed": false,
    "pycharm": {
     "name": "#%%\n"
    },
    "ExecuteTime": {
     "end_time": "2023-07-20T14:07:36.534386Z",
     "start_time": "2023-07-20T14:07:36.326721Z"
    }
   }
  },
  {
   "cell_type": "markdown",
   "source": [
    "We can also explore non-Fourier based estimates of oscillatory duration and amplitude"
   ],
   "metadata": {
    "collapsed": false
   }
  },
  {
   "cell_type": "code",
   "execution_count": 18,
   "outputs": [
    {
     "data": {
      "text/plain": "<Figure size 600x300 with 2 Axes>",
      "image/png": "[encoded data removed]"
     },
     "metadata": {},
     "output_type": "display_data"
    }
   ],
   "source": [
    "# get delays and amplitudes\n",
    "delay_noStim, amp_noStim = get_peak_to_peak(LFP_noStim[:, 0])\n",
    "delay_wStim, amp_wStim = get_peak_to_peak(LFP_wStim[:, 0])\n",
    "\n",
    "# create figure\n",
    "fig, ax = plt.subplots(1, 2, figsize=(6, 3))\n",
    "\n",
    "# plot histogram of peak-to-peak delays\n",
    "ax[0].plot(delay_noStim, label='No Stim.')\n",
    "ax[0].plot(delay_wStim, label='With Stim.')\n",
    "ax[0].set_xlim([0, 40])\n",
    "ax[0].set_xlabel('Time (ms)')\n",
    "ax[0].set_ylabel('Proportion (%)')\n",
    "ax[0].legend()\n",
    "\n",
    "# plot oscillatory amplitude\n",
    "ax[1].bar(x=[1, 2], height=[amp_noStim, amp_wStim])\n",
    "ax[1].set_xticks([1, 2])\n",
    "ax[1].set_xticklabels(['No Stim.', 'With Stim.'])\n",
    "ax[1].set_ylabel('Osc. Peak Amp. (arb. units)')\n",
    "ax[1].set_ylim([3, 3.2])\n",
    "ax[1].set_yticks(np.arange(3, 3.21, 0.05))\n",
    "plt.tight_layout()\n",
    "\n",
    "# tidy up\n",
    "del delay_wStim, delay_noStim, amp_wStim, amp_noStim, LFP_wStim, LFP_noStim, ax, fig, params"
   ],
   "metadata": {
    "collapsed": false,
    "pycharm": {
     "name": "#%%\n"
    },
    "ExecuteTime": {
     "end_time": "2023-07-20T14:07:36.920401Z",
     "start_time": "2023-07-20T14:07:36.538701Z"
    }
   }
  },
  {
   "cell_type": "markdown",
   "source": [
    "#### Section 1.2: The Big Loop\n",
    "First, we define necessary output variables"
   ],
   "metadata": {
    "collapsed": false
   }
  },
  {
   "cell_type": "code",
   "execution_count": 19,
   "outputs": [],
   "source": [
    "# create empty numpy arrays for exemplar outputs\n",
    "stim = [[], [], []]\n",
    "volts = stim.copy()\n",
    "spikes = stim.copy()\n",
    "\n",
    "# create dataframe for key outputs (five columns = )\n",
    "group_ts = np.zeros((np.size(mod_var['dc_var']), np.size(target_freqs), 5001))\n",
    "group_stim = np.zeros((np.size(mod_var['dc_var']), np.size(target_freqs), 5001))\n",
    "group_power = np.zeros((np.size(mod_var['dc_var']), np.size(target_freqs), 151))  # [model, exo_freq, endo_freq]\n",
    "group_peak = np.zeros((np.size(mod_var['dc_var']), np.size(target_freqs)))  # [model, exo_freq]\n",
    "group_nonFourier_peak = np.zeros((np.size(mod_var['dc_var']), np.size(target_freqs), 151))  # [model, exo_freq, time]\n",
    "group_nonFourier_amp = np.zeros((np.size(mod_var['dc_var']), np.size(target_freqs)))  # [model, exo_freq]"
   ],
   "metadata": {
    "collapsed": false,
    "pycharm": {
     "name": "#%%\n"
    },
    "ExecuteTime": {
     "end_time": "2023-07-20T14:07:36.930512Z",
     "start_time": "2023-07-20T14:07:36.927497Z"
    }
   }
  },
  {
   "cell_type": "markdown",
   "source": [
    "Now, we run many iterations of the three models, using a range of stimulation frequencies."
   ],
   "metadata": {
    "collapsed": false
   }
  },
  {
   "cell_type": "code",
   "execution_count": 20,
   "outputs": [
    {
     "name": "stderr",
     "output_type": "stream",
     "text": [
      "/var/folders/n4/4yfr_qsj01l2w4k6v2ksq22m0000gn/T/ipykernel_17543/604055345.py:24: DeprecationWarning: Conversion of an array with ndim > 0 to a scalar is deprecated, and will error in future. Ensure you extract a single element from your array before performing this operation. (Deprecated NumPy 1.25.)\n",
      "  neuron_delay = int(np.random.rand(1) * stagger_win)\n"
     ]
    },
    {
     "name": "stdout",
     "output_type": "stream",
     "text": [
      "model 0, freq 0 complete...\n",
      "model 0, freq 1 complete...\n",
      "model 0, freq 2 complete...\n",
      "model 0, freq 3 complete...\n",
      "model 0, freq 4 complete...\n",
      "model 0, freq 5 complete...\n",
      "model 0, freq 6 complete...\n",
      "model 0, freq 7 complete...\n",
      "model 0, freq 8 complete...\n",
      "model 0, freq 9 complete...\n",
      "model 0, freq 10 complete...\n",
      "model 0, freq 11 complete...\n",
      "model 0, freq 12 complete...\n",
      "model 0, freq 13 complete...\n",
      "model 0, freq 14 complete...\n",
      "model 0, freq 15 complete...\n",
      "model 0, freq 16 complete...\n",
      "model 0, freq 17 complete...\n",
      "model 0, freq 18 complete...\n",
      "model 0, freq 19 complete...\n",
      "model 0, freq 20 complete...\n",
      "model 0, freq 21 complete...\n",
      "model 0, freq 22 complete...\n",
      "model 0, freq 23 complete...\n",
      "model 0, freq 24 complete...\n",
      "model 0, freq 25 complete...\n",
      "model 0, freq 26 complete...\n",
      "model 0, freq 27 complete...\n",
      "model 0, freq 28 complete...\n",
      "model 0, freq 29 complete...\n",
      "model 0, freq 30 complete...\n",
      "model 0, freq 31 complete...\n",
      "model 0, freq 32 complete...\n",
      "model 0, freq 33 complete...\n",
      "model 0, freq 34 complete...\n",
      "model 0, freq 35 complete...\n",
      "model 0, freq 36 complete...\n",
      "model 0, freq 37 complete...\n",
      "model 0, freq 38 complete...\n",
      "model 0, freq 39 complete...\n",
      "model 0, freq 40 complete...\n",
      "model 0, freq 41 complete...\n",
      "model 0, freq 42 complete...\n",
      "model 0, freq 43 complete...\n",
      "model 0, freq 44 complete...\n",
      "model 0, freq 45 complete...\n",
      "model 0, freq 46 complete...\n",
      "model 0, freq 47 complete...\n",
      "model 0, freq 48 complete...\n",
      "model 0, freq 49 complete...\n",
      "model 0, freq 50 complete...\n",
      "model 0, freq 51 complete...\n",
      "model 0, freq 52 complete...\n",
      "model 0, freq 53 complete...\n",
      "model 0, freq 54 complete...\n",
      "model 0, freq 55 complete...\n",
      "model 0, freq 56 complete...\n",
      "model 0, freq 57 complete...\n",
      "model 0, freq 58 complete...\n",
      "model 0, freq 59 complete...\n",
      "model 0, freq 60 complete...\n",
      "model 0, freq 61 complete...\n",
      "model 0, freq 62 complete...\n",
      "model 0, freq 63 complete...\n",
      "model 0, freq 64 complete...\n",
      "model 0, freq 65 complete...\n",
      "model 0, freq 66 complete...\n",
      "model 0, freq 67 complete...\n",
      "model 0, freq 68 complete...\n",
      "model 0, freq 69 complete...\n",
      "model 0, freq 70 complete...\n",
      "model 0, freq 71 complete...\n",
      "model 0, freq 72 complete...\n",
      "model 0, freq 73 complete...\n",
      "model 0, freq 74 complete...\n",
      "model 0, freq 75 complete...\n",
      "model 0, freq 76 complete...\n",
      "model 0, freq 77 complete...\n",
      "model 0, freq 78 complete...\n",
      "model 0, freq 79 complete...\n",
      "model 0, freq 80 complete...\n",
      "model 0, freq 81 complete...\n",
      "model 0, freq 82 complete...\n",
      "model 0, freq 83 complete...\n",
      "model 0, freq 84 complete...\n",
      "model 0, freq 85 complete...\n",
      "model 0, freq 86 complete...\n",
      "model 0, freq 87 complete...\n",
      "model 0, freq 88 complete...\n",
      "model 0, freq 89 complete...\n",
      "model 0, freq 90 complete...\n",
      "model 0, freq 91 complete...\n",
      "model 0, freq 92 complete...\n",
      "model 0, freq 93 complete...\n",
      "model 0, freq 94 complete...\n",
      "model 0, freq 95 complete...\n",
      "model 0, freq 96 complete...\n",
      "model 0, freq 97 complete...\n",
      "model 0, freq 98 complete...\n",
      "model 0, freq 99 complete...\n",
      "model 0, freq 100 complete...\n",
      "model 0, freq 101 complete...\n",
      "model 0, freq 102 complete...\n",
      "model 0, freq 103 complete...\n",
      "model 0, freq 104 complete...\n",
      "model 0, freq 105 complete...\n",
      "model 0, freq 106 complete...\n",
      "model 0, freq 107 complete...\n",
      "model 0, freq 108 complete...\n",
      "model 0, freq 109 complete...\n"
     ]
    },
    {
     "name": "stderr",
     "output_type": "stream",
     "text": [
      "/var/folders/n4/4yfr_qsj01l2w4k6v2ksq22m0000gn/T/ipykernel_17543/604055345.py:24: DeprecationWarning: Conversion of an array with ndim > 0 to a scalar is deprecated, and will error in future. Ensure you extract a single element from your array before performing this operation. (Deprecated NumPy 1.25.)\n",
      "  neuron_delay = int(np.random.rand(1) * stagger_win)\n"
     ]
    },
    {
     "name": "stdout",
     "output_type": "stream",
     "text": [
      "model 1, freq 0 complete...\n",
      "model 1, freq 1 complete...\n",
      "model 1, freq 2 complete...\n",
      "model 1, freq 3 complete...\n",
      "model 1, freq 4 complete...\n",
      "model 1, freq 5 complete...\n",
      "model 1, freq 6 complete...\n",
      "model 1, freq 7 complete...\n",
      "model 1, freq 8 complete...\n",
      "model 1, freq 9 complete...\n",
      "model 1, freq 10 complete...\n",
      "model 1, freq 11 complete...\n",
      "model 1, freq 12 complete...\n",
      "model 1, freq 13 complete...\n",
      "model 1, freq 14 complete...\n",
      "model 1, freq 15 complete...\n",
      "model 1, freq 16 complete...\n",
      "model 1, freq 17 complete...\n",
      "model 1, freq 18 complete...\n",
      "model 1, freq 19 complete...\n",
      "model 1, freq 20 complete...\n",
      "model 1, freq 21 complete...\n",
      "model 1, freq 22 complete...\n",
      "model 1, freq 23 complete...\n",
      "model 1, freq 24 complete...\n",
      "model 1, freq 25 complete...\n",
      "model 1, freq 26 complete...\n",
      "model 1, freq 27 complete...\n",
      "model 1, freq 28 complete...\n",
      "model 1, freq 29 complete...\n",
      "model 1, freq 30 complete...\n",
      "model 1, freq 31 complete...\n",
      "model 1, freq 32 complete...\n",
      "model 1, freq 33 complete...\n",
      "model 1, freq 34 complete...\n",
      "model 1, freq 35 complete...\n",
      "model 1, freq 36 complete...\n",
      "model 1, freq 37 complete...\n",
      "model 1, freq 38 complete...\n",
      "model 1, freq 39 complete...\n",
      "model 1, freq 40 complete...\n",
      "model 1, freq 41 complete...\n",
      "model 1, freq 42 complete...\n",
      "model 1, freq 43 complete...\n",
      "model 1, freq 44 complete...\n",
      "model 1, freq 45 complete...\n",
      "model 1, freq 46 complete...\n",
      "model 1, freq 47 complete...\n",
      "model 1, freq 48 complete...\n",
      "model 1, freq 49 complete...\n",
      "model 1, freq 50 complete...\n",
      "model 1, freq 51 complete...\n",
      "model 1, freq 52 complete...\n",
      "model 1, freq 53 complete...\n",
      "model 1, freq 54 complete...\n",
      "model 1, freq 55 complete...\n",
      "model 1, freq 56 complete...\n",
      "model 1, freq 57 complete...\n",
      "model 1, freq 58 complete...\n",
      "model 1, freq 59 complete...\n",
      "model 1, freq 60 complete...\n",
      "model 1, freq 61 complete...\n",
      "model 1, freq 62 complete...\n",
      "model 1, freq 63 complete...\n",
      "model 1, freq 64 complete...\n",
      "model 1, freq 65 complete...\n",
      "model 1, freq 66 complete...\n",
      "model 1, freq 67 complete...\n",
      "model 1, freq 68 complete...\n",
      "model 1, freq 69 complete...\n",
      "model 1, freq 70 complete...\n",
      "model 1, freq 71 complete...\n",
      "model 1, freq 72 complete...\n",
      "model 1, freq 73 complete...\n",
      "model 1, freq 74 complete...\n",
      "model 1, freq 75 complete...\n",
      "model 1, freq 76 complete...\n",
      "model 1, freq 77 complete...\n",
      "model 1, freq 78 complete...\n",
      "model 1, freq 79 complete...\n",
      "model 1, freq 80 complete...\n",
      "model 1, freq 81 complete...\n",
      "model 1, freq 82 complete...\n",
      "model 1, freq 83 complete...\n",
      "model 1, freq 84 complete...\n",
      "model 1, freq 85 complete...\n",
      "model 1, freq 86 complete...\n",
      "model 1, freq 87 complete...\n",
      "model 1, freq 88 complete...\n",
      "model 1, freq 89 complete...\n",
      "model 1, freq 90 complete...\n",
      "model 1, freq 91 complete...\n",
      "model 1, freq 92 complete...\n",
      "model 1, freq 93 complete...\n",
      "model 1, freq 94 complete...\n",
      "model 1, freq 95 complete...\n",
      "model 1, freq 96 complete...\n",
      "model 1, freq 97 complete...\n",
      "model 1, freq 98 complete...\n",
      "model 1, freq 99 complete...\n",
      "model 1, freq 100 complete...\n",
      "model 1, freq 101 complete...\n",
      "model 1, freq 102 complete...\n",
      "model 1, freq 103 complete...\n",
      "model 1, freq 104 complete...\n",
      "model 1, freq 105 complete...\n",
      "model 1, freq 106 complete...\n",
      "model 1, freq 107 complete...\n",
      "model 1, freq 108 complete...\n",
      "model 1, freq 109 complete...\n"
     ]
    },
    {
     "name": "stderr",
     "output_type": "stream",
     "text": [
      "/var/folders/n4/4yfr_qsj01l2w4k6v2ksq22m0000gn/T/ipykernel_17543/604055345.py:24: DeprecationWarning: Conversion of an array with ndim > 0 to a scalar is deprecated, and will error in future. Ensure you extract a single element from your array before performing this operation. (Deprecated NumPy 1.25.)\n",
      "  neuron_delay = int(np.random.rand(1) * stagger_win)\n"
     ]
    },
    {
     "name": "stdout",
     "output_type": "stream",
     "text": [
      "model 2, freq 0 complete...\n",
      "model 2, freq 1 complete...\n",
      "model 2, freq 2 complete...\n",
      "model 2, freq 3 complete...\n",
      "model 2, freq 4 complete...\n",
      "model 2, freq 5 complete...\n",
      "model 2, freq 6 complete...\n",
      "model 2, freq 7 complete...\n",
      "model 2, freq 8 complete...\n",
      "model 2, freq 9 complete...\n",
      "model 2, freq 10 complete...\n",
      "model 2, freq 11 complete...\n",
      "model 2, freq 12 complete...\n",
      "model 2, freq 13 complete...\n",
      "model 2, freq 14 complete...\n",
      "model 2, freq 15 complete...\n",
      "model 2, freq 16 complete...\n",
      "model 2, freq 17 complete...\n",
      "model 2, freq 18 complete...\n",
      "model 2, freq 19 complete...\n",
      "model 2, freq 20 complete...\n",
      "model 2, freq 21 complete...\n",
      "model 2, freq 22 complete...\n",
      "model 2, freq 23 complete...\n",
      "model 2, freq 24 complete...\n",
      "model 2, freq 25 complete...\n",
      "model 2, freq 26 complete...\n",
      "model 2, freq 27 complete...\n",
      "model 2, freq 28 complete...\n",
      "model 2, freq 29 complete...\n",
      "model 2, freq 30 complete...\n",
      "model 2, freq 31 complete...\n",
      "model 2, freq 32 complete...\n",
      "model 2, freq 33 complete...\n",
      "model 2, freq 34 complete...\n",
      "model 2, freq 35 complete...\n",
      "model 2, freq 36 complete...\n",
      "model 2, freq 37 complete...\n",
      "model 2, freq 38 complete...\n",
      "model 2, freq 39 complete...\n",
      "model 2, freq 40 complete...\n",
      "model 2, freq 41 complete...\n",
      "model 2, freq 42 complete...\n",
      "model 2, freq 43 complete...\n",
      "model 2, freq 44 complete...\n",
      "model 2, freq 45 complete...\n",
      "model 2, freq 46 complete...\n",
      "model 2, freq 47 complete...\n",
      "model 2, freq 48 complete...\n",
      "model 2, freq 49 complete...\n",
      "model 2, freq 50 complete...\n",
      "model 2, freq 51 complete...\n",
      "model 2, freq 52 complete...\n",
      "model 2, freq 53 complete...\n",
      "model 2, freq 54 complete...\n",
      "model 2, freq 55 complete...\n",
      "model 2, freq 56 complete...\n",
      "model 2, freq 57 complete...\n",
      "model 2, freq 58 complete...\n",
      "model 2, freq 59 complete...\n",
      "model 2, freq 60 complete...\n",
      "model 2, freq 61 complete...\n",
      "model 2, freq 62 complete...\n",
      "model 2, freq 63 complete...\n",
      "model 2, freq 64 complete...\n",
      "model 2, freq 65 complete...\n",
      "model 2, freq 66 complete...\n",
      "model 2, freq 67 complete...\n",
      "model 2, freq 68 complete...\n",
      "model 2, freq 69 complete...\n",
      "model 2, freq 70 complete...\n",
      "model 2, freq 71 complete...\n",
      "model 2, freq 72 complete...\n",
      "model 2, freq 73 complete...\n",
      "model 2, freq 74 complete...\n",
      "model 2, freq 75 complete...\n",
      "model 2, freq 76 complete...\n",
      "model 2, freq 77 complete...\n",
      "model 2, freq 78 complete...\n",
      "model 2, freq 79 complete...\n",
      "model 2, freq 80 complete...\n",
      "model 2, freq 81 complete...\n",
      "model 2, freq 82 complete...\n",
      "model 2, freq 83 complete...\n",
      "model 2, freq 84 complete...\n",
      "model 2, freq 85 complete...\n",
      "model 2, freq 86 complete...\n",
      "model 2, freq 87 complete...\n",
      "model 2, freq 88 complete...\n",
      "model 2, freq 89 complete...\n",
      "model 2, freq 90 complete...\n",
      "model 2, freq 91 complete...\n",
      "model 2, freq 92 complete...\n",
      "model 2, freq 93 complete...\n",
      "model 2, freq 94 complete...\n",
      "model 2, freq 95 complete...\n",
      "model 2, freq 96 complete...\n",
      "model 2, freq 97 complete...\n",
      "model 2, freq 98 complete...\n",
      "model 2, freq 99 complete...\n",
      "model 2, freq 100 complete...\n",
      "model 2, freq 101 complete...\n",
      "model 2, freq 102 complete...\n",
      "model 2, freq 103 complete...\n",
      "model 2, freq 104 complete...\n",
      "model 2, freq 105 complete...\n",
      "model 2, freq 106 complete...\n",
      "model 2, freq 107 complete...\n",
      "model 2, freq 108 complete...\n",
      "model 2, freq 109 complete...\n",
      "all models complete...\n"
     ]
    }
   ],
   "source": [
    "# reset seed so underlying endogenous dynamics are identical no matter the exogenous input\n",
    "np.random.seed(rand_seed)\n",
    "\n",
    "\n",
    "# cycle through each model\n",
    "for m in np.arange(0, np.size(mod_var['dc_var'])):\n",
    "\n",
    "    # define target freqs.\n",
    "    params = get_params(seed=rand_seed, dc=mod_var['dc_var'][m],\n",
    "                        ie=mod_var['ie_var'][m], ii=mod_var['ii_var'][m],\n",
    "                        freqs=np.array(target_freqs), osc_ratio=0.1)\n",
    "\n",
    "    # create empty numpy arrays for outputs (faster than iteratively adding to dataframe)\n",
    "    stim_output = []\n",
    "    volts_output = []\n",
    "    spikes_output = []\n",
    "\n",
    "    # cycle through each exogenous frequency\n",
    "    for f in np.arange(0, np.size(params['freqs'])):\n",
    "\n",
    "        # reset seed so underlying endogenous dynamics are identical no matter the exogenous input\n",
    "        np.random.seed(rand_seed)\n",
    "\n",
    "        # define input for freq. condition\n",
    "        exo_input = calculate_input(params, f)\n",
    "\n",
    "        # run model\n",
    "        firings, volt_ts, inputs = run_model(params, exo_input)\n",
    "        group_ts[m, f, :] = volt_ts[:, 0]\n",
    "        group_stim[m, f, :] = inputs[:, 0]\n",
    "        del exo_input\n",
    "\n",
    "        # compute FFT\n",
    "        _, group_power[m, f, :], group_peak[m, f] = get_fft(volt_ts[:, 0])\n",
    "        del _\n",
    "\n",
    "        # compute non-Fourier measures\n",
    "        group_nonFourier_peak[m, f, :], group_nonFourier_amp[m, f] = get_peak_to_peak(volt_ts[:, 0])\n",
    "\n",
    "        # add inputs to dataframe\n",
    "        if (f == 0):\n",
    "            stim_output.append(inputs[:, 0])  # add exogenous input\n",
    "            stim_output.append(inputs[:, 1])  # add endogenous input\n",
    "            volts_output.append(volt_ts[:, 0])  # add excitatory v\n",
    "            volts_output.append(volt_ts[:, 1])  # add inhibitory v\n",
    "            spikes_output.append(np.concatenate(firings))\n",
    "\n",
    "        # tidy workspace\n",
    "        print(\"model {}, freq {} complete...\".format(m, f))\n",
    "        del firings, inputs, volt_ts, f\n",
    "\n",
    "    # convert outputs into dataframe\n",
    "    volts[m], spikes[m], stim[m] = create_output_dataframes(params, stim_output, volts_output, spikes_output)\n",
    "    del stim_output, volts_output, spikes_output, m\n",
    "\n",
    "# update user\n",
    "print(\"all models complete...\")"
   ],
   "metadata": {
    "collapsed": false,
    "pycharm": {
     "name": "#%%\n",
     "is_executing": true
    },
    "ExecuteTime": {
     "end_time": "2023-07-20T14:11:06.505926Z",
     "start_time": "2023-07-20T14:07:36.937990Z"
    }
   }
  },
  {
   "cell_type": "markdown",
   "source": [
    "#### Section 1.3: Fitting the Behaviour to the Model\n",
    "In this section, we see how well the models fit to the behavioural data. First, we load in the behavioural data"
   ],
   "metadata": {
    "collapsed": false
   }
  },
  {
   "cell_type": "code",
   "execution_count": 21,
   "outputs": [],
   "source": [
    "# load model data\n",
    "beh_models = pd.read_csv('{}/data_groupModels.csv'.format(data_directory))\n",
    "beh_models = beh_models.query('dataset == 0 and outcome == \"recalled\"')\n",
    "\n",
    "# extract behavioural data\n",
    "beh_data = np.zeros((np.size(np.unique(beh_models['pp'])), 3))\n",
    "beh_data[:, 0] = beh_models['regressor_t'][beh_models['predictor'] == '33Hz_retrieval'].to_list()\n",
    "beh_data[:, 1] = beh_models['regressor_t'][beh_models['predictor'] == '43Hz_retrieval'].to_list()\n",
    "beh_data[:, 2] = beh_models['regressor_t'][beh_models['predictor'] == '65Hz_retrieval'].to_list()\n",
    "\n",
    "# extract outliers\n",
    "outliers = np.zeros((np.size(np.unique(beh_models['pp'])), 3))\n",
    "outliers[:, 0] = beh_models['outlier'][beh_models['predictor'] == '33Hz_retrieval'].to_list()\n",
    "outliers[:, 1] = beh_models['outlier'][beh_models['predictor'] == '43Hz_retrieval'].to_list()\n",
    "outliers[:, 2] = beh_models['outlier'][beh_models['predictor'] == '65Hz_retrieval'].to_list()\n",
    "\n",
    "# restrict data to good participants\n",
    "good_pps = (outliers==0).all(axis=1)\n",
    "beh_data = beh_data[good_pps, :]\n",
    "npp = np.size(beh_data, axis=0)\n",
    "\n",
    "# scale behavioural data\n",
    "beh_data = scipy.stats.zscore(beh_data, axis=1)\n",
    "\n",
    "# tidy up\n",
    "del beh_models, good_pps, outliers"
   ],
   "metadata": {
    "collapsed": false,
    "pycharm": {
     "name": "#%%\n",
     "is_executing": true
    },
    "ExecuteTime": {
     "end_time": "2023-07-20T14:11:06.524398Z",
     "start_time": "2023-07-20T14:11:06.510864Z"
    }
   }
  },
  {
   "cell_type": "markdown",
   "source": [
    "Then, we extract the power of the peak frequency of the model following stimulation and compare this to the power of the peak frequency of the model when stimulation did not occur. This is repeated for each stimulation frequency and each model."
   ],
   "metadata": {
    "collapsed": false,
    "pycharm": {
     "name": "#%% md\n"
    }
   }
  },
  {
   "cell_type": "code",
   "source": [
    "# define stimulation frequencies used in behavioural task and find closest values in model\n",
    "beh_freqs = [130/4, 130/3, 130/2]\n",
    "exo_idx = [np.argmin(abs(n - target_freqs)) for n in beh_freqs]\n",
    "endo_freqs = np.linspace(0, 150, np.size(group_power, axis=2))\n",
    "\n",
    "# calculate how peak power changes following stimulation for each model\n",
    "model_t = np.zeros((3, 3))\n",
    "for m in range(3):\n",
    "    peak_freq = endo_freqs[np.argmax(group_power[m, 0, :])]\n",
    "    freq_range = (endo_freqs>peak_freq-5) & (endo_freqs<peak_freq+5)\n",
    "    base_pow = np.mean(group_power[m, 0, freq_range])\n",
    "    for f in range(3):\n",
    "        stim_pow = np.mean(group_power[m, exo_idx[f], freq_range])\n",
    "        model_t[m, f] = stim_pow - base_pow\n",
    "        del stim_pow, f\n",
    "    del peak_freq, freq_range, base_pow, m\n",
    "del endo_freqs, beh_freqs"
   ],
   "metadata": {
    "collapsed": false,
    "pycharm": {
     "name": "#%%\n",
     "is_executing": true
    },
    "ExecuteTime": {
     "end_time": "2023-07-20T14:11:06.544673Z",
     "start_time": "2023-07-20T14:11:06.529155Z"
    }
   },
   "execution_count": 22,
   "outputs": []
  },
  {
   "cell_type": "markdown",
   "source": [
    "Lastly, replicate the model data to provide data for every participant, add a constant, and then fit the data."
   ],
   "metadata": {
    "collapsed": false,
    "pycharm": {
     "name": "#%% md\n"
    }
   }
  },
  {
   "cell_type": "code",
   "execution_count": 23,
   "outputs": [
    {
     "name": "stdout",
     "output_type": "stream",
     "text": [
      "                                 OLS Regression Results                                \n",
      "=======================================================================================\n",
      "Dep. Variable:                      y   R-squared (uncentered):                   0.161\n",
      "Model:                            OLS   Adj. R-squared (uncentered):              0.144\n",
      "Method:                 Least Squares   F-statistic:                              9.560\n",
      "Date:                Thu, 20 Jul 2023   Prob (F-statistic):                    0.000159\n",
      "Time:                        15:11:06   Log-Likelihood:                         -135.81\n",
      "No. Observations:                 102   AIC:                                      275.6\n",
      "Df Residuals:                     100   BIC:                                      280.9\n",
      "Df Model:                           2                                                  \n",
      "Covariance Type:            nonrobust                                                  \n",
      "==============================================================================\n",
      "                 coef    std err          t      P>|t|      [0.025      0.975]\n",
      "------------------------------------------------------------------------------\n",
      "x1             0.4156      0.186      2.235      0.028       0.047       0.785\n",
      "x2             0.0010      0.087      0.011      0.991      -0.173       0.175\n",
      "x3             0.0185      0.099      0.187      0.852      -0.177       0.214\n",
      "==============================================================================\n",
      "Omnibus:                       11.903   Durbin-Watson:                   2.823\n",
      "Prob(Omnibus):                  0.003   Jarque-Bera (JB):                5.338\n",
      "Skew:                           0.323   Prob(JB):                       0.0693\n",
      "Kurtosis:                       2.084   Cond. No.                     6.64e+15\n",
      "==============================================================================\n",
      "\n",
      "Notes:\n",
      "[1] R² is computed without centering (uncentered) since the model does not contain a constant.\n",
      "[2] Standard Errors assume that the covariance matrix of the errors is correctly specified.\n",
      "[3] The smallest eigenvalue is 6.54e-30. This might indicate that there are\n",
      "strong multicollinearity problems or that the design matrix is singular.\n"
     ]
    }
   ],
   "source": [
    "# fit model\n",
    "X = np.tile(scipy.stats.zscore(model_t).transpose(), npp).transpose()\n",
    "y = beh_data.flatten()\n",
    "model = sm.OLS(y, X)\n",
    "results = model.fit()\n",
    "print(results.summary())\n",
    "del X, y, model, results, model_t"
   ],
   "metadata": {
    "collapsed": false,
    "pycharm": {
     "name": "#%%\n",
     "is_executing": true
    },
    "ExecuteTime": {
     "end_time": "2023-07-20T14:11:06.553197Z",
     "start_time": "2023-07-20T14:11:06.531637Z"
    }
   }
  },
  {
   "cell_type": "markdown",
   "source": [
    "This process can then be repeated for the non-Fourier data"
   ],
   "metadata": {
    "collapsed": false
   }
  },
  {
   "cell_type": "code",
   "execution_count": 24,
   "outputs": [
    {
     "name": "stdout",
     "output_type": "stream",
     "text": [
      "                                 OLS Regression Results                                \n",
      "=======================================================================================\n",
      "Dep. Variable:                      y   R-squared (uncentered):                   0.161\n",
      "Model:                            OLS   Adj. R-squared (uncentered):              0.144\n",
      "Method:                 Least Squares   F-statistic:                              9.560\n",
      "Date:                Thu, 20 Jul 2023   Prob (F-statistic):                    0.000159\n",
      "Time:                        15:11:06   Log-Likelihood:                         -135.81\n",
      "No. Observations:                 102   AIC:                                      275.6\n",
      "Df Residuals:                     100   BIC:                                      280.9\n",
      "Df Model:                           2                                                  \n",
      "Covariance Type:            nonrobust                                                  \n",
      "==============================================================================\n",
      "                 coef    std err          t      P>|t|      [0.025      0.975]\n",
      "------------------------------------------------------------------------------\n",
      "x1             0.1183      0.049      2.415      0.018       0.021       0.215\n",
      "x2             0.0545      0.045      1.202      0.232      -0.035       0.144\n",
      "x3            -0.3867      0.092     -4.213      0.000      -0.569      -0.205\n",
      "==============================================================================\n",
      "Omnibus:                       11.903   Durbin-Watson:                   2.823\n",
      "Prob(Omnibus):                  0.003   Jarque-Bera (JB):                5.338\n",
      "Skew:                           0.323   Prob(JB):                       0.0693\n",
      "Kurtosis:                       2.084   Cond. No.                     1.41e+16\n",
      "==============================================================================\n",
      "\n",
      "Notes:\n",
      "[1] R² is computed without centering (uncentered) since the model does not contain a constant.\n",
      "[2] Standard Errors assume that the covariance matrix of the errors is correctly specified.\n",
      "[3] The smallest eigenvalue is 1.05e-30. This might indicate that there are\n",
      "strong multicollinearity problems or that the design matrix is singular.\n"
     ]
    }
   ],
   "source": [
    "# calculate how peak power changes following stimulation for each model\n",
    "model_t = np.zeros((3, 3))\n",
    "for m in range(3):\n",
    "    base_pow = group_nonFourier_amp[m, 0]\n",
    "    for f in range(3):\n",
    "        stim_pow = group_nonFourier_amp[m, exo_idx[f]]\n",
    "        model_t[m, f] = stim_pow - base_pow\n",
    "        del stim_pow, f\n",
    "    del base_pow, m\n",
    "\n",
    "# fit model\n",
    "X = np.tile(scipy.stats.zscore(model_t).transpose(), npp).transpose()\n",
    "y = beh_data.flatten()\n",
    "model = sm.OLS(y, X)\n",
    "results = model.fit()\n",
    "print(results.summary())\n",
    "del X, y, model, results, model_t, exo_idx, npp"
   ],
   "metadata": {
    "collapsed": false,
    "pycharm": {
     "name": "#%%\n",
     "is_executing": true
    },
    "ExecuteTime": {
     "end_time": "2023-07-20T14:11:06.561905Z",
     "start_time": "2023-07-20T14:11:06.546346Z"
    }
   }
  },
  {
   "cell_type": "markdown",
   "source": [
    "#### Section 1.4: Plotting the Results\n",
    "First, we define some plot parameters"
   ],
   "metadata": {
    "collapsed": false
   }
  },
  {
   "cell_type": "code",
   "execution_count": 25,
   "outputs": [],
   "source": [
    "# %% Define Plot Parameters\n",
    "# set pyplot defaults\n",
    "mpl.rcParams['font.family'] = 'Arial'\n",
    "mpl.rcParams['axes.linewidth'] = 1\n",
    "mpl.rcParams['ytick.major.width'] = 1\n",
    "mpl.rcParams['ytick.minor.width'] = 1\n",
    "mpl.rcParams['ytick.major.pad'] = 2\n",
    "mpl.rcParams['xtick.major.width'] = 1\n",
    "mpl.rcParams['xtick.minor.width'] = 1\n",
    "mpl.rcParams['xtick.major.pad'] = 2\n",
    "\n",
    "# set local defaults\n",
    "img_style = {'title': dict(fontsize=7, fontweight='bold'), 'axlabel': dict(fontsize=7),\n",
    "             'ticklabel': dict(fontsize=5, color='black')}\n",
    "cm = 1/2.54\n",
    "\n",
    "# define model names\n",
    "model_names = [\"Slow Gamma\", \"Fast Gamma\", \"Arrhythmic\"]\n",
    "\n",
    "# define colours\n",
    "pastels = np.array([[129, 192, 227], [171, 213, 236], [226, 163, 129]]) / 255"
   ],
   "metadata": {
    "collapsed": false,
    "pycharm": {
     "name": "#%%\n",
     "is_executing": true
    },
    "ExecuteTime": {
     "end_time": "2023-07-20T14:11:06.602732Z",
     "start_time": "2023-07-20T14:11:06.566462Z"
    }
   }
  },
  {
   "cell_type": "markdown",
   "source": [
    "Then, we plot a snapshot of network dynamics, including a time-series of the v parameter and a raster plot of the same window. This will become figure 2B."
   ],
   "metadata": {
    "collapsed": false
   }
  },
  {
   "cell_type": "code",
   "execution_count": 26,
   "outputs": [
    {
     "name": "stderr",
     "output_type": "stream",
     "text": [
      "/var/folders/n4/4yfr_qsj01l2w4k6v2ksq22m0000gn/T/ipykernel_17543/1484396121.py:47: UserWarning: *c* argument looks like a single numeric RGB or RGBA sequence, which should be avoided as value-mapping will have precedence in case its length matches with *x* & *y*.  Please use the *color* keyword-argument or provide a 2D array with a single row if you intend to specify the same RGB or RGBA value for all points.\n",
      "  ax[idx].scatter(e_events.t, e_events.neuron, s=0.1, c=pastels[m])\n",
      "/var/folders/n4/4yfr_qsj01l2w4k6v2ksq22m0000gn/T/ipykernel_17543/1484396121.py:48: UserWarning: *c* argument looks like a single numeric RGB or RGBA sequence, which should be avoided as value-mapping will have precedence in case its length matches with *x* & *y*.  Please use the *color* keyword-argument or provide a 2D array with a single row if you intend to specify the same RGB or RGBA value for all points.\n",
      "  ax[idx].scatter(i_events.t, i_events.neuron, s=0.1, c=[0.8, 0.8, 0.8])\n"
     ]
    },
    {
     "data": {
      "text/plain": "<Figure size 472.441x236.22 with 6 Axes>",
      "image/png": "[encoded data removed]"
     },
     "metadata": {},
     "output_type": "display_data"
    }
   ],
   "source": [
    "# create custom grid\n",
    "fig = plt.figure(figsize=(12*cm, 6*cm))\n",
    "gs = mpl.gridspec.GridSpec(4, 6, wspace=0.25, hspace=0.25)  # 2x2 grid\n",
    "\n",
    "# create axes for subplot A (raw spikes/LFP)\n",
    "ax = [[]] * 6\n",
    "ax[0] = fig.add_subplot(gs[0, 0:2]) # first row, first col\n",
    "ax[1] = fig.add_subplot(gs[1:4, 0:2]) # first row, first col\n",
    "ax[2] = fig.add_subplot(gs[0, 2:4]) # first row, first col\n",
    "ax[3] = fig.add_subplot(gs[1:4, 2:4]) # first row, first col\n",
    "ax[4] = fig.add_subplot(gs[0, 4:6]) # first row, first col\n",
    "ax[5] = fig.add_subplot(gs[1:4, 4:6]) # first row, first col\n",
    "\n",
    "# ------- plot subplot A\n",
    "# prepare spike plot\n",
    "sts = 1900\n",
    "sts_end = 100  # duration of displayed epoch (100ms in samples)\n",
    "volt_ts = np.zeros((3, max(volts[0]['t'])+1))\n",
    "for m in [0, 1, 2]:\n",
    "    v1 = volts[m].query(\"f==0 and cell=='e'\")['vals'].to_numpy()\n",
    "    v2 = volts[m].query(\"f==0 and cell=='i'\")['vals'].to_numpy()\n",
    "    volt_ts[m, :] = (v1 + v2) / 2\n",
    "    del m\n",
    "sylims = [min(np.concatenate(volt_ts[:, sts:sts+100])) * 1.1, max(np.concatenate(volt_ts[:, sts:sts+100])) / 1.1]\n",
    "del v1, v2\n",
    "\n",
    "# plot spikes for each freq. condition\n",
    "for m in [0, 1, 2]:\n",
    "\n",
    "    # plot input\n",
    "    idx = m*2\n",
    "    times = volts[m].query(\"f==0 and cell=='e'\")['t'].to_numpy()\n",
    "    ax[idx].plot(times, volt_ts[m, :], c=pastels[m], linewidth=1)\n",
    "    ax[idx].set_xlim([sts, sts+sts_end])\n",
    "    ax[idx].set_ylim([min(volt_ts[m, sts:sts+sts_end]) * 1.1, max(volt_ts[m, sts:sts+sts_end]) / 1.1])\n",
    "    ax[idx].set_yticks([])\n",
    "    ax[idx].set_title(model_names[m], **img_style['title'])\n",
    "    if m == 0:\n",
    "        ax[idx].set_ylabel('LFP (v)', **img_style['axlabel'])\n",
    "    else:\n",
    "        plt.setp(ax[idx].get_yticklabels(), visible=False)\n",
    "\n",
    "    # plot spikes\n",
    "    idx = 1 + m*2\n",
    "    e_events = spikes[m].query(\"spike>0 and neuron<{} and f==0\".format(params['Ne']))\n",
    "    i_events = spikes[m].query(\"spike>0 and neuron>={} and f==0\".format(params['Ne']))\n",
    "    ax[idx].scatter(e_events.t, e_events.neuron, s=0.1, c=pastels[m])\n",
    "    ax[idx].scatter(i_events.t, i_events.neuron, s=0.1, c=[0.8, 0.8, 0.8])\n",
    "    ax[idx].set_xlim([sts, sts+sts_end])\n",
    "    ax[idx].set_xticks([sts, sts+(sts_end/2), sts+sts_end])\n",
    "    ax[idx].set_xticklabels(['0', '50', '100'], **img_style['ticklabel'])\n",
    "    ax[idx].set_xlabel('Time (ms)', **img_style['axlabel'])\n",
    "    ax[idx].set_ylim([0, params['Ne']+params['Ni']])\n",
    "    ax[idx].set_yticks([])\n",
    "    plt.setp(ax[idx-1].get_xticklabels(), visible=False)\n",
    "    if m == 0:\n",
    "        ax[idx].set_ylabel('Neuron #', **img_style['axlabel'])\n",
    "    else:\n",
    "        plt.setp(ax[idx].get_yticklabels(), visible=False)\n",
    "        plt.setp(ax[idx].get_ylabel(), visible=False)\n",
    "\n",
    "    # tidy workspace\n",
    "    del idx, e_events, i_events, times, m\n",
    "\n",
    "# show plot\n",
    "plt.savefig(\"{}/figures/figure2b.eps\".format(data_directory), dpi=500, bbox_inches='tight', pad_inches=0,\n",
    "            transparent=True, facecolor=[1, 1, 1])\n",
    "\n",
    "# tidy up\n",
    "del fig, gs, ax, sylims"
   ],
   "metadata": {
    "collapsed": false,
    "pycharm": {
     "name": "#%%\n",
     "is_executing": true
    },
    "ExecuteTime": {
     "end_time": "2023-07-20T14:11:08.657725Z",
     "start_time": "2023-07-20T14:11:06.585407Z"
    }
   }
  },
  {
   "cell_type": "markdown",
   "source": [
    "Then, plot the power spectra for each of the three models prior to stimulation. This will be figure 2C."
   ],
   "metadata": {
    "collapsed": false
   }
  },
  {
   "cell_type": "code",
   "execution_count": 27,
   "outputs": [
    {
     "name": "stderr",
     "output_type": "stream",
     "text": [
      "/var/folders/n4/4yfr_qsj01l2w4k6v2ksq22m0000gn/T/ipykernel_17543/571921747.py:10: DeprecationWarning: Importing gaussian from 'scipy.signal' is deprecated and will raise an error in SciPy 1.13.0. Please use 'scipy.signal.windows.gaussian' or the convenience function 'scipy.signal.get_window' instead.\n",
      "  gs_curve = scipy.signal.gaussian(7, 1) / sum(scipy.signal.gaussian(7, 1))\n"
     ]
    },
    {
     "data": {
      "text/plain": "<Figure size 354.331x236.22 with 1 Axes>",
      "image/png": "[encoded data removed]"
     },
     "metadata": {},
     "output_type": "display_data"
    }
   ],
   "source": [
    "# create plot\n",
    "fig, ax = plt.subplots(1, 1, figsize=(9*cm, 6*cm))\n",
    "\n",
    "# define freqs\n",
    "endo_freqs = np.linspace(0, 150, np.size(group_power, axis=2))\n",
    "exo_freqs = target_freqs[1:]\n",
    "linestyle = ['-', (0, (1, 1)), '-']\n",
    "\n",
    "# get mean power\n",
    "gs_curve = scipy.signal.gaussian(7, 1) / sum(scipy.signal.gaussian(7, 1))\n",
    "avg_power = group_power[:, 0, :]\n",
    "peak_freq = [0, 0]\n",
    "for m in [0, 1, 2]:\n",
    "    signal = np.convolve(avg_power[m, :], gs_curve, mode='same')\n",
    "    signal = signal / mod_var['dc_var'][m]  # scale according to input drive\n",
    "    if m != 2:\n",
    "        peak_freq[m] = endo_freqs[np.argmax(signal)]\n",
    "        ax.axvline(peak_freq[m], linestyle='--', c=[0.5, 0.5, 0.5], linewidth=1)\n",
    "    ax.plot(endo_freqs, signal, c=pastels[m], linestyle=linestyle[m], linewidth=1.5, label=model_names[m])\n",
    "\n",
    "# add detail\n",
    "ax.set_xlabel('Endogenous Frequency (Hz)', **img_style['axlabel'])\n",
    "ax.set_ylabel('Power (arb. units)', **img_style['axlabel'])\n",
    "ax.set_xlim([5, 140])\n",
    "ax.set_xticks(np.arange(10, 141, 10))\n",
    "ax.set_xticklabels(['', '20', '', '40', '', '60', '', '80', '', '100', '', '120', '', '140'], **img_style['ticklabel'])\n",
    "ax.set_ylim([-0.1, 0.6])\n",
    "ax.set_yticks(np.arange(-0.1, 0.7, 0.1))\n",
    "ax.set_yticklabels(['', '0', '', '', '0.3', '', '', '0.6'], **img_style['ticklabel'])\n",
    "ax.spines[['right', 'top']].set_visible(False)\n",
    "ax.legend(loc='upper right', fontsize=5, frameon=False)\n",
    "ax.set_title('Unstimulated Network Power', **img_style['title'])\n",
    "\n",
    "# show plot\n",
    "plt.savefig(\"{}/figures/figure2c.eps\".format(data_directory), dpi=500, bbox_inches='tight', pad_inches=0,\n",
    "            transparent=True, facecolor=[1, 1, 1])\n",
    "\n",
    "# tidy\n",
    "del endo_freqs, exo_freqs, linestyle, gs_curve, avg_power, peak_freq, m, signal, ax"
   ],
   "metadata": {
    "collapsed": false,
    "pycharm": {
     "name": "#%%\n",
     "is_executing": true
    },
    "ExecuteTime": {
     "end_time": "2023-07-20T14:11:09.013280Z",
     "start_time": "2023-07-20T14:11:08.670992Z"
    }
   }
  },
  {
   "cell_type": "markdown",
   "source": [
    "Plot frequency-frequency plots to depict how exogenous stimulation impacts endogenous rhythms for each of the three models. This will form figure 2E."
   ],
   "metadata": {
    "collapsed": false
   }
  },
  {
   "cell_type": "code",
   "execution_count": 28,
   "outputs": [
    {
     "name": "stderr",
     "output_type": "stream",
     "text": [
      "/var/folders/n4/4yfr_qsj01l2w4k6v2ksq22m0000gn/T/ipykernel_17543/2000491567.py:6: MatplotlibDeprecationWarning: The get_cmap function was deprecated in Matplotlib 3.7 and will be removed two minor releases later. Use ``matplotlib.colormaps[name]`` or ``matplotlib.colormaps.get_cmap(obj)`` instead.\n",
      "  cmap = colmap.get_cmap('inferno', 5)\n",
      "/var/folders/n4/4yfr_qsj01l2w4k6v2ksq22m0000gn/T/ipykernel_17543/2000491567.py:24: DeprecationWarning: `interp2d` is deprecated!\n",
      "`interp2d` is deprecated in SciPy 1.10 and will be removed in SciPy 1.13.0.\n",
      "\n",
      "For legacy code, nearly bug-for-bug compatible replacements are\n",
      "`RectBivariateSpline` on regular grids, and `bisplrep`/`bisplev` for\n",
      "scattered 2D data.\n",
      "\n",
      "In new code, for regular grids use `RegularGridInterpolator` instead.\n",
      "For scattered data, prefer `LinearNDInterpolator` or\n",
      "`CloughTocher2DInterpolator`.\n",
      "\n",
      "For more details see\n",
      "`https://scipy.github.io/devdocs/notebooks/interp_transition_guide.html`\n",
      "\n",
      "  f = scipy.interpolate.interp2d(endo_freqs, exo_freqs, Z, kind='cubic')\n",
      "/var/folders/n4/4yfr_qsj01l2w4k6v2ksq22m0000gn/T/ipykernel_17543/2000491567.py:25: DeprecationWarning:         `interp2d` is deprecated!\n",
      "        `interp2d` is deprecated in SciPy 1.10 and will be removed in SciPy 1.13.0.\n",
      "\n",
      "        For legacy code, nearly bug-for-bug compatible replacements are\n",
      "        `RectBivariateSpline` on regular grids, and `bisplrep`/`bisplev` for\n",
      "        scattered 2D data.\n",
      "\n",
      "        In new code, for regular grids use `RegularGridInterpolator` instead.\n",
      "        For scattered data, prefer `LinearNDInterpolator` or\n",
      "        `CloughTocher2DInterpolator`.\n",
      "\n",
      "        For more details see\n",
      "        `https://scipy.github.io/devdocs/notebooks/interp_transition_guide.html`\n",
      "\n",
      "  Z2 = f(x2, y2)\n",
      "/var/folders/n4/4yfr_qsj01l2w4k6v2ksq22m0000gn/T/ipykernel_17543/2000491567.py:26: DeprecationWarning: Please use `gaussian_filter` from the `scipy.ndimage` namespace, the `scipy.ndimage.filters` namespace is deprecated.\n",
      "  Z3 = scipy.ndimage.filters.gaussian_filter(Z2, 0.5, mode='constant')\n"
     ]
    },
    {
     "data": {
      "text/plain": "<Figure size 708.661x157.48 with 6 Axes>",
      "image/png": "[encoded data removed]"
     },
     "metadata": {},
     "output_type": "display_data"
    }
   ],
   "source": [
    "fig = plt.figure(figsize=(18*cm, 4*cm))\n",
    "gs = mpl.gridspec.GridSpec(5, 15, wspace=0.25, hspace=0.25)  # 2x2 grid\n",
    "\n",
    "# create colour map\n",
    "colours_for_map = np.array([[255, 255, 255, 255], [248, 212, 196, 255], [241, 158, 143, 255], [211, 107, 95, 255], [153, 54, 49, 255]]) / 255\n",
    "cmap = colmap.get_cmap('inferno', 5)\n",
    "cmap.colors = colours_for_map\n",
    "\n",
    "ax_c = [[]] * 3\n",
    "ax_c[0] = fig.add_subplot(gs[:, :5], aspect='equal')\n",
    "ax_c[1] = fig.add_subplot(gs[:, 5:10], aspect='equal')\n",
    "ax_c[2] = fig.add_subplot(gs[:, 10:15], aspect='equal')\n",
    "\n",
    "# plot pcolor\n",
    "endo_freqs = np.linspace(0, 150, np.size(group_power, axis=2))\n",
    "exo_freqs = target_freqs[1:]\n",
    "clim = [1, 1.5, 0.05]\n",
    "for m in range(3):\n",
    "\n",
    "    X, Y = np.meshgrid(endo_freqs, exo_freqs)\n",
    "    Z = group_power[m, 1:, :] / mod_var['dc_var'][m]\n",
    "    x2 = np.linspace(endo_freqs[0], endo_freqs[-1], np.size(endo_freqs)*2)\n",
    "    y2 = np.linspace(exo_freqs[0], exo_freqs[-1], np.size(exo_freqs)*2)\n",
    "    f = scipy.interpolate.interp2d(endo_freqs, exo_freqs, Z, kind='cubic')\n",
    "    Z2 = f(x2, y2)\n",
    "    Z3 = scipy.ndimage.filters.gaussian_filter(Z2, 0.5, mode='constant')\n",
    "    h = ax_c[m].pcolor(x2, y2, Z3, vmin=0, vmax=clim[m], cmap=cmap)\n",
    "    cbar = plt.colorbar(h, ax=ax_c[m], ticks=[0, clim[m]])\n",
    "    cbar.ax.set_yticklabels([0, clim[m]], **img_style['ticklabel'])\n",
    "    if m == 2:\n",
    "        cbar.ax.set_ylabel('Power (arb. units)', labelpad=-5, **img_style['axlabel'])\n",
    "    ax_c[m].set(xlim=[20, 100], ylim=[20, 100], xticks=np.arange(20, 101, 20))\n",
    "    ax_c[m].set_xticklabels(['20', '', '60', '', '100'], **img_style['ticklabel'])\n",
    "    ax_c[m].set_xlabel('Endo. Freq. (Hz)', labelpad=2, **img_style['axlabel'])\n",
    "    ax_c[m].set_title(model_names[m], **img_style['title'])\n",
    "    if m == 0:\n",
    "        ax_c[m].set_yticks(np.arange(20, 101, 20))\n",
    "        ax_c[m].set_yticklabels(['20', '', '60', '', '100'], **img_style['ticklabel'])\n",
    "        ax_c[m].set_ylabel('Stim. Freq. (Hz)', labelpad=2, **img_style['axlabel'])\n",
    "    else:\n",
    "        ax_c[m].set_yticks([])\n",
    "    del X, Y, Z, x2, y2, f, Z2, Z3, h, cbar, m\n",
    "\n",
    "# show\n",
    "plt.savefig(\"{}/figures/figure2d.tif\".format(data_directory), dpi=500, bbox_inches='tight', pad_inches=0,\n",
    "            transparent=True, facecolor=[1, 1, 1])\n",
    "\n",
    "# tidy\n",
    "del endo_freqs, exo_freqs, clim, ax_c, colours_for_map, cmap, fig, gs"
   ],
   "metadata": {
    "collapsed": false,
    "pycharm": {
     "name": "#%%\n",
     "is_executing": true
    },
    "ExecuteTime": {
     "end_time": "2023-07-20T14:11:12.098624Z",
     "start_time": "2023-07-20T14:11:09.030171Z"
    }
   }
  },
  {
   "cell_type": "markdown",
   "source": [
    "Plot how 32.5Hz, 43.3Hz and 65Hz stimulation impacts endogenous oscillatory power (relative to baseline) and compare this to the behavioural data. This will become figure 2F."
   ],
   "metadata": {
    "collapsed": false
   }
  },
  {
   "cell_type": "code",
   "execution_count": 29,
   "outputs": [
    {
     "data": {
      "text/plain": "<Figure size 354.331x157.48 with 3 Axes>",
      "image/png": "[encoded data removed]"
     },
     "metadata": {},
     "output_type": "display_data"
    }
   ],
   "source": [
    "# create figure\n",
    "fig, ax = plt.subplots(1, 3, figsize=(9*cm, 4*cm))\n",
    "\n",
    "# define behavioural t-values\n",
    "beh_freqs = [130/4, 130/3, 130/2]\n",
    "beh_t = [5.08, -0.84, 3.22]\n",
    "\n",
    "# define stimulation frequencies used in behavioural task and find closest values in model\n",
    "endo_freqs = np.linspace(0, 150, np.size(group_power, axis=2))\n",
    "exo_idx = [np.argmin(abs(n - target_freqs)) for n in beh_freqs]\n",
    "model_freqs = [beh_freqs[0], beh_freqs[2], beh_freqs[0]]\n",
    "\n",
    "# calculate how peak power changes following stimulation for each model\n",
    "model_t = np.zeros((3, 3))\n",
    "for m in range(3):\n",
    "    peak_freq = endo_freqs[np.argmax(group_power[m, 0, :])]\n",
    "    freq_range = (endo_freqs>peak_freq-5) & (endo_freqs<peak_freq+5)\n",
    "    base_pow = np.mean(group_power[m, 0, freq_range])\n",
    "    for f in range(3):\n",
    "        stim_pow = np.mean(group_power[m, exo_idx[f], freq_range])\n",
    "        model_t[m, f] = stim_pow - base_pow\n",
    "        del stim_pow, f\n",
    "    del peak_freq, freq_range, base_pow, m\n",
    "del endo_freqs, exo_idx\n",
    "\n",
    "# scale model t-values to match behavioural\n",
    "scaled_t = np.zeros(np.shape(model_t))\n",
    "for m in range(3):\n",
    "    beh_std = np.std(beh_t)\n",
    "    model_t[m, :] = (model_t[m, :] / np.std(model_t[m, :])) * beh_std\n",
    "    del beh_std\n",
    "\n",
    "# plot\n",
    "stim_names = [\"32.5Hz\", \"43.3Hz\", \"65Hz\"]\n",
    "for m in range(3):\n",
    "    x = np.array([0, 0.3, 0.6])\n",
    "    y = (np.array(beh_t) - min(beh_t)) / (max(beh_t) - min(beh_t))\n",
    "    ax[m].plot(x, y, 'o--', c=[0.7, 0.7, 0.7], linewidth=1.5, markersize=4)\n",
    "    y = (model_t[m, :] - min(model_t[m, :])) / (max(model_t[m, :]) - min(model_t[m, :]))\n",
    "    ax[m].plot(x, y, 'o-', c=pastels[m], linewidth=1.5, markersize=4)\n",
    "\n",
    "    # add detail\n",
    "    ax[m].set_xlim([-0.1, 0.7])\n",
    "    ax[m].set_xticks(x)\n",
    "    ax[m].set_xticklabels(stim_names, **img_style['ticklabel'])\n",
    "    if m == 1:\n",
    "        ax[m].set_xlabel('Exogenous Stimulation Frequency (Hz)', **img_style['axlabel'])\n",
    "    ax[m].set_ylim([-0.15, 1.15])\n",
    "    ax[m].set_yticks([])\n",
    "    if m == 0:\n",
    "        ax[m].set_ylabel('Scaled Effect Size (z)', **img_style['axlabel'])\n",
    "    ax[m].spines[['right', 'top']].set_visible(False)\n",
    "    ax[m].set_title(model_names[m], **img_style['title'])\n",
    "    del m, y, x\n",
    "\n",
    "# show\n",
    "plt.savefig(\"{}/figures/figure2e.eps\".format(data_directory), dpi=500, bbox_inches='tight', pad_inches=0,\n",
    "            transparent=True, facecolor=[1, 1, 1])\n",
    "\n",
    "# tidy up\n",
    "del stim_names, ax, fig, scaled_t, model_t, beh_freqs, beh_t"
   ],
   "metadata": {
    "collapsed": false,
    "pycharm": {
     "name": "#%%\n",
     "is_executing": true
    },
    "ExecuteTime": {
     "end_time": "2023-07-20T14:11:12.464263Z",
     "start_time": "2023-07-20T14:11:12.098985Z"
    }
   }
  },
  {
   "cell_type": "markdown",
   "source": [
    "Plot visualisation of peak detection"
   ],
   "metadata": {
    "collapsed": false
   }
  },
  {
   "cell_type": "code",
   "execution_count": 30,
   "outputs": [
    {
     "data": {
      "text/plain": "<Figure size 354.331x157.48 with 1 Axes>",
      "image/png": "[encoded data removed]"
     },
     "metadata": {},
     "output_type": "display_data"
    }
   ],
   "source": [
    "fig, ax = plt.subplots(1, 1,  figsize=(9*cm, 4*cm))\n",
    "times = volts[1].query(\"f==0 and cell=='e'\")['t'].to_numpy()\n",
    "ax.plot(times, volt_ts[1, :], c=pastels[1], linewidth=1)\n",
    "ax.set_xlim([sts, sts+sts_end])\n",
    "ax.set_ylim([min(volt_ts[1, sts:sts+sts_end]) * 1.1, max(volt_ts[1, sts:sts+sts_end]) / 1.1])\n",
    "ax.set_yticks([])\n",
    "ax.set_title(model_names[1], **img_style['title'])\n",
    "ax.set_ylabel('LFP (v)', **img_style['axlabel'])\n",
    "\n",
    "# save plot\n",
    "plt.savefig(\"{}/figures/figure2f.eps\".format(data_directory), dpi=500, bbox_inches='tight', pad_inches=0,\n",
    "            transparent=True, facecolor=[1, 1, 1])\n",
    "\n",
    "# tidy workspace\n",
    "del fig, ax, times, sts, sts_end, volt_ts,"
   ],
   "metadata": {
    "collapsed": false,
    "pycharm": {
     "name": "#%%\n",
     "is_executing": true
    },
    "ExecuteTime": {
     "end_time": "2023-07-20T14:11:12.717648Z",
     "start_time": "2023-07-20T14:11:12.471140Z"
    }
   }
  },
  {
   "cell_type": "markdown",
   "source": [
    "Plot the delays between oscillatory peaks (figure 2G)"
   ],
   "metadata": {
    "collapsed": false
   }
  },
  {
   "cell_type": "code",
   "execution_count": 31,
   "outputs": [
    {
     "name": "stderr",
     "output_type": "stream",
     "text": [
      "/var/folders/n4/4yfr_qsj01l2w4k6v2ksq22m0000gn/T/ipykernel_17543/3286595429.py:9: DeprecationWarning: Importing gaussian from 'scipy.signal' is deprecated and will raise an error in SciPy 1.13.0. Please use 'scipy.signal.windows.gaussian' or the convenience function 'scipy.signal.get_window' instead.\n",
      "  gs_curve = scipy.signal.gaussian(7, 1) / sum(scipy.signal.gaussian(7, 1))\n"
     ]
    },
    {
     "data": {
      "text/plain": "<Figure size 354.331x236.22 with 1 Axes>",
      "image/png": "[encoded data removed]"
     },
     "metadata": {},
     "output_type": "display_data"
    }
   ],
   "source": [
    "# create plot\n",
    "fig, ax = plt.subplots(1, 1, figsize=(9*cm, 6*cm))\n",
    "\n",
    "# define freqs\n",
    "endo_times = np.linspace(0, 150, np.size(group_nonFourier_peak, axis=2))\n",
    "exo_freqs = target_freqs[1:]\n",
    "\n",
    "# get mean power\n",
    "gs_curve = scipy.signal.gaussian(7, 1) / sum(scipy.signal.gaussian(7, 1))\n",
    "avg_power = group_nonFourier_peak[:, 0, :]\n",
    "peak_freq = [0, 0]\n",
    "for m in [0, 1, 2]:\n",
    "    signal = np.convolve(avg_power[m, :], gs_curve, mode='same')\n",
    "    if m != 2:\n",
    "        peak_freq[m] = endo_times[np.argmax(signal)]\n",
    "        ax.axvline(peak_freq[m], linestyle='--', c=[0.5, 0.5, 0.5], linewidth=1)\n",
    "    ax.plot(endo_times, signal, c=pastels[m], linestyle='-', linewidth=1.5, label=model_names[m])\n",
    "\n",
    "# add detail\n",
    "ax.set_xlabel('Peak-to-Peak Delay (ms)', **img_style['axlabel'])\n",
    "ax.set_ylabel('Amplitude (arb. units)', **img_style['axlabel'])\n",
    "ax.set_xlim([0, 80])\n",
    "ax.set_xticks(np.arange(0, 81, 10))\n",
    "ax.set_xticklabels(['0', '', '20', '', '40', '', '60', '', '80'], **img_style['ticklabel'])\n",
    "ax.set_ylim([-0.05, 0.3])\n",
    "ax.set_yticks(np.arange(-0.05, 0.31, 0.05))\n",
    "ax.set_yticklabels(['', '0', '', '0.1', '', '0.2', '', '0.3'], **img_style['ticklabel'])\n",
    "ax.spines[['right', 'top']].set_visible(False)\n",
    "ax.legend(loc='upper right', fontsize=5, frameon=False)\n",
    "ax.set_title('Unstimulated Oscillatory Power', **img_style['title'])\n",
    "\n",
    "# show plot\n",
    "plt.savefig(\"{}/figures/figure2g.eps\".format(data_directory), dpi=500, bbox_inches='tight', pad_inches=0,\n",
    "            transparent=True, facecolor=[1, 1, 1])\n",
    "\n",
    "# tidy\n",
    "del endo_times, exo_freqs, gs_curve, avg_power, peak_freq, m, signal, ax"
   ],
   "metadata": {
    "collapsed": false,
    "pycharm": {
     "name": "#%%\n",
     "is_executing": true
    },
    "ExecuteTime": {
     "end_time": "2023-07-20T14:11:13.026093Z",
     "start_time": "2023-07-20T14:11:12.726495Z"
    }
   }
  },
  {
   "cell_type": "markdown",
   "source": [
    "Plot how 32.5Hz, 43.3Hz and 65Hz stimulation impacts oscillatory amplitude (relative to baseline) and compare this to the behavioural data. This will become figure 2H."
   ],
   "metadata": {
    "collapsed": false
   }
  },
  {
   "cell_type": "code",
   "execution_count": 32,
   "outputs": [
    {
     "data": {
      "text/plain": "<Figure size 354.331x157.48 with 3 Axes>",
      "image/png": "[encoded data removed]"
     },
     "metadata": {},
     "output_type": "display_data"
    }
   ],
   "source": [
    "# create figure\n",
    "fig, ax = plt.subplots(1, 3, figsize=(9*cm, 4*cm))\n",
    "\n",
    "# define behavioural t-values\n",
    "beh_freqs = [130/4, 130/3, 130/2]\n",
    "beh_t = [5.08, -0.84, 3.22]\n",
    "\n",
    "# define stimulation frequencies used in behavioural task and find closest values in model\n",
    "endo_freqs = np.linspace(0, 150, np.size(group_power, axis=2))\n",
    "exo_idx = [np.argmin(abs(n - target_freqs)) for n in beh_freqs]\n",
    "model_freqs = [beh_freqs[0], beh_freqs[2], beh_freqs[0]]\n",
    "\n",
    "# calculate how peak power changes following stimulation for each model\n",
    "model_t = np.zeros((3, 3))\n",
    "for m in range(3):\n",
    "    base_pow = group_nonFourier_amp[m, 0]\n",
    "    for f in range(3):\n",
    "        stim_pow = group_nonFourier_amp[m, exo_idx[f]]\n",
    "        model_t[m, f] = stim_pow - base_pow\n",
    "        del stim_pow, f\n",
    "    del base_pow, m\n",
    "del exo_idx\n",
    "\n",
    "# fit model\n",
    "# scale model t-values to match behavioural\n",
    "scaled_t = np.zeros(np.shape(model_t))\n",
    "for m in range(3):\n",
    "    beh_std = np.std(beh_t)\n",
    "    model_t[m, :] = (model_t[m, :] / np.std(model_t[m, :])) * beh_std\n",
    "    del beh_std, m\n",
    "\n",
    "# plot\n",
    "stim_names = [\"32.5Hz\", \"43.3Hz\", \"65Hz\"]\n",
    "for m in range(3):\n",
    "    x = np.array([0, 0.3, 0.6])\n",
    "    y = (np.array(beh_t) - min(beh_t)) / (max(beh_t) - min(beh_t))\n",
    "    ax[m].plot(x, y, 'o--', c=[0.7, 0.7, 0.7], linewidth=1.5, markersize=4)\n",
    "    y = (model_t[m, :] - min(model_t[m, :])) / (max(model_t[m, :]) - min(model_t[m, :]))\n",
    "    ax[m].plot(x, y, 'o-', c=pastels[m], linewidth=1.5, markersize=4)\n",
    "\n",
    "    # add detail\n",
    "    ax[m].set_xlim([-0.1, 0.7])\n",
    "    ax[m].set_xticks(x)\n",
    "    ax[m].set_xticklabels(stim_names, **img_style['ticklabel'])\n",
    "    if m == 1:\n",
    "        ax[m].set_xlabel('Exogenous Stimulation Frequency (Hz)', **img_style['axlabel'])\n",
    "    ax[m].set_ylim([-0.15, 1.15])\n",
    "    ax[m].set_yticks([])\n",
    "    if m == 0:\n",
    "        ax[m].set_ylabel('Scaled Effect Size (z)', **img_style['axlabel'])\n",
    "    ax[m].spines[['right', 'top']].set_visible(False)\n",
    "    ax[m].set_title(model_names[m], **img_style['title'])\n",
    "    del m, x, y\n",
    "\n",
    "# show\n",
    "plt.savefig(\"{}/figures/figure2h.eps\".format(data_directory), dpi=500, bbox_inches='tight', pad_inches=0,\n",
    "            transparent=True, facecolor=[1, 1, 1])\n",
    "\n",
    "# tidy up\n",
    "del stim_names, beh_freqs, beh_t, ax, fig, endo_freqs, scaled_t, model_t"
   ],
   "metadata": {
    "collapsed": false,
    "pycharm": {
     "name": "#%%\n",
     "is_executing": true
    },
    "ExecuteTime": {
     "end_time": "2023-07-20T14:11:13.391930Z",
     "start_time": "2023-07-20T14:11:13.041705Z"
    }
   }
  },
  {
   "cell_type": "code",
   "execution_count": 33,
   "outputs": [],
   "source": [
    "# general tidy up\n",
    "del group_power, group_peak, group_stim, group_ts, group_nonFourier_peak, group_nonFourier_amp, img_style, beh_data, \\\n",
    "    pastels, params, cm, mod_var, model_freqs, model_names, spikes, stim, target_freqs, volts"
   ],
   "metadata": {
    "collapsed": false,
    "pycharm": {
     "name": "#%%\n",
     "is_executing": true
    },
    "ExecuteTime": {
     "end_time": "2023-07-20T14:11:13.397148Z",
     "start_time": "2023-07-20T14:11:13.395410Z"
    }
   }
  },
  {
   "cell_type": "markdown",
   "source": [
    "#### Section 2.1: Harmonic Arnold Tongues\n",
    "Here, we re-run the slow gamma model and expose it to the three experimental stimulation frequencies. Critically, we systematically vary the DC input to subtly modulate the endogenous peak frequency, which allows us to explore how the influence of stimulation changes as a function of distance to the endogenous peak frequency."
   ],
   "metadata": {
    "collapsed": false
   }
  },
  {
   "cell_type": "code",
   "execution_count": 34,
   "outputs": [
    {
     "name": "stderr",
     "output_type": "stream",
     "text": [
      "/var/folders/n4/4yfr_qsj01l2w4k6v2ksq22m0000gn/T/ipykernel_17543/604055345.py:24: DeprecationWarning: Conversion of an array with ndim > 0 to a scalar is deprecated, and will error in future. Ensure you extract a single element from your array before performing this operation. (Deprecated NumPy 1.25.)\n",
      "  neuron_delay = int(np.random.rand(1) * stagger_win)\n"
     ]
    },
    {
     "name": "stdout",
     "output_type": "stream",
     "text": [
      "model 0 complete...\n",
      "model 1 complete...\n",
      "model 2 complete...\n",
      "model 3 complete...\n",
      "model 4 complete...\n",
      "model 5 complete...\n",
      "model 6 complete...\n",
      "model 7 complete...\n",
      "model 8 complete...\n",
      "model 9 complete...\n",
      "model 10 complete...\n",
      "model 11 complete...\n",
      "model 12 complete...\n",
      "model 13 complete...\n",
      "model 14 complete...\n",
      "model 15 complete...\n",
      "model 16 complete...\n",
      "model 17 complete...\n",
      "model 18 complete...\n",
      "model 19 complete...\n",
      "model 20 complete...\n",
      "model 21 complete...\n",
      "model 22 complete...\n",
      "model 23 complete...\n",
      "model 24 complete...\n",
      "model 25 complete...\n",
      "model 26 complete...\n",
      "model 27 complete...\n",
      "model 28 complete...\n",
      "model 29 complete...\n",
      "model 30 complete...\n",
      "model 31 complete...\n",
      "model 32 complete...\n",
      "model 33 complete...\n",
      "model 34 complete...\n",
      "model 35 complete...\n",
      "model 36 complete...\n",
      "model 37 complete...\n",
      "model 38 complete...\n",
      "model 39 complete...\n",
      "model 40 complete...\n",
      "model 41 complete...\n",
      "model 42 complete...\n",
      "model 43 complete...\n",
      "model 44 complete...\n",
      "model 45 complete...\n",
      "model 46 complete...\n",
      "model 47 complete...\n",
      "model 48 complete...\n",
      "model 49 complete...\n",
      "model 50 complete...\n",
      "model 51 complete...\n",
      "model 52 complete...\n",
      "model 53 complete...\n",
      "model 54 complete...\n",
      "model 55 complete...\n",
      "model 56 complete...\n",
      "model 57 complete...\n",
      "model 58 complete...\n",
      "model 59 complete...\n",
      "model 60 complete...\n",
      "model 61 complete...\n",
      "model 62 complete...\n",
      "model 63 complete...\n",
      "model 64 complete...\n",
      "model 65 complete...\n",
      "model 66 complete...\n",
      "model 67 complete...\n",
      "model 68 complete...\n",
      "model 69 complete...\n",
      "model 70 complete...\n",
      "model 71 complete...\n",
      "model 72 complete...\n",
      "model 73 complete...\n",
      "model 74 complete...\n",
      "model 75 complete...\n",
      "model 76 complete...\n",
      "model 77 complete...\n",
      "model 78 complete...\n",
      "model 79 complete...\n",
      "model 80 complete...\n",
      "model 81 complete...\n",
      "model 82 complete...\n",
      "model 83 complete...\n",
      "model 84 complete...\n",
      "model 85 complete...\n",
      "model 86 complete...\n",
      "model 87 complete...\n",
      "model 88 complete...\n",
      "model 89 complete...\n",
      "model 90 complete...\n",
      "model 91 complete...\n",
      "model 92 complete...\n",
      "model 93 complete...\n",
      "model 94 complete...\n",
      "model 95 complete...\n",
      "model 96 complete...\n",
      "model 97 complete...\n",
      "model 98 complete...\n",
      "model 99 complete...\n",
      "model 100 complete...\n",
      "all models complete...\n"
     ]
    }
   ],
   "source": [
    "# define stimulation frequencies\n",
    "target_freqs = [0, 32.5, 43.3, 65]\n",
    "\n",
    "# define differing direct currents\n",
    "dc_input = np.arange(3.4, 5.4, 0.02)\n",
    "\n",
    "# create dataframe for key outputs (five columns = )\n",
    "group_power = np.zeros((np.size(dc_input), np.size(target_freqs), 301))  # [model, exo_freq, endo_freq, val]\n",
    "group_peak = np.zeros((np.size(dc_input), np.size(target_freqs)))  # [model, exo_freq, val]\n",
    "\n",
    "# cycle through each model\n",
    "for m in np.arange(0, np.size(dc_input)):\n",
    "\n",
    "    # define target freqs.\n",
    "    params = get_params(seed=rand_seed, dc=dc_input[m], freqs=np.array(target_freqs))\n",
    "\n",
    "    # cycle through each exogenous frequency\n",
    "    for f in np.arange(0, np.size(params['freqs'])):\n",
    "\n",
    "        # reset seed so underlying endogenous dynamics are identical no matter the exogenous input\n",
    "        np.random.seed(rand_seed)\n",
    "\n",
    "        # define input for freq. condition\n",
    "        exo_input = calculate_input(params, f)\n",
    "\n",
    "        # run model\n",
    "        _, volt_ts, _ = run_model(params, exo_input)\n",
    "\n",
    "        # compute FFT\n",
    "        _, group_power[m, f, :], group_peak[m, f] = get_fft(volt_ts[:, 0], nperseg=2000)\n",
    "\n",
    "        # tidy workspace\n",
    "        del exo_input, volt_ts, f, _\n",
    "\n",
    "    # update user\n",
    "    print(\"model {} complete...\".format(m))\n",
    "    del m\n",
    "\n",
    "# drop duplicates\n",
    "u, c = np.unique(group_peak[:, 0], return_counts=True)\n",
    "while any(c > 1):\n",
    "    dup_val = u[c > 1][0]\n",
    "    dup_idx = np.where(group_peak[:, 0] == dup_val)[0][1:]\n",
    "    group_peak = np.delete(group_peak, dup_idx, axis=0)\n",
    "    group_power = np.delete(group_power, dup_idx, axis=0)\n",
    "    u, c = np.unique(group_peak[:, 0], return_counts=True)\n",
    "    del dup_idx, dup_val\n",
    "\n",
    "# update user\n",
    "print(\"all models complete...\")\n",
    "\n",
    "# tidy up\n",
    "del u, c, dc_input, target_freqs, params"
   ],
   "metadata": {
    "collapsed": false,
    "ExecuteTime": {
     "end_time": "2023-07-20T14:15:09.904222Z",
     "start_time": "2023-07-20T14:11:13.404216Z"
    }
   }
  },
  {
   "cell_type": "markdown",
   "source": [
    "We can then plot Arnold Tongues for each stimulation frequency (figure 3A)"
   ],
   "metadata": {
    "collapsed": false
   }
  },
  {
   "cell_type": "code",
   "execution_count": 35,
   "outputs": [
    {
     "name": "stderr",
     "output_type": "stream",
     "text": [
      "/var/folders/n4/4yfr_qsj01l2w4k6v2ksq22m0000gn/T/ipykernel_17543/3351006133.py:18: MatplotlibDeprecationWarning: The get_cmap function was deprecated in Matplotlib 3.7 and will be removed two minor releases later. Use ``matplotlib.colormaps[name]`` or ``matplotlib.colormaps.get_cmap(obj)`` instead.\n",
      "  cmap = colmap.get_cmap('Reds', 100)\n"
     ]
    },
    {
     "data": {
      "text/plain": "<Figure size 354.331x157.48 with 2 Axes>",
      "image/png": "[encoded data removed]"
     },
     "metadata": {},
     "output_type": "display_data"
    }
   ],
   "source": [
    "# define plot parameters\n",
    "stim_names = [\"32.5Hz\", \"43.3Hz\", \"65Hz\"]\n",
    "img_style = {'title': dict(fontsize=7, fontweight='bold'), 'axlabel': dict(fontsize=7), 'ticklabel': dict(fontsize=5, color='black')}\n",
    "cm = 1/2.54\n",
    "pastels = np.array([[129, 192, 227], [171, 213, 236], [226, 163, 129]]) / 255\n",
    "\n",
    "# create figure\n",
    "fig, ax = plt.subplots(figsize=(9*cm, 4*cm))\n",
    "\n",
    "# create colour map\n",
    "colours_for_map = np.array([[255, 255, 255, 255], [248, 212, 196, 255], [241, 158, 143, 255], [211, 107, 95, 255], [153, 54, 49, 255]]) / 255\n",
    "colours_expanded = np.zeros((np.size(colours_for_map, axis=0)*20, np.size(colours_for_map, axis=1)))\n",
    "for n in range(np.size(colours_for_map, axis=1)):\n",
    "    f = scipy.interpolate.interp1d(np.linspace(0, 1, np.size(colours_for_map, axis=0)), colours_for_map[:, n])\n",
    "    colours_expanded[:, n] = f(np.linspace(0, 1, np.size(colours_expanded, axis=0)))\n",
    "    del f, n\n",
    "colours_expanded[0, :] = [1, 1, 1, 1]\n",
    "cmap = colmap.get_cmap('Reds', 100)\n",
    "cmap.colors = colours_expanded\n",
    "del colours_expanded, colours_for_map\n",
    "\n",
    "# plot A\n",
    "endo_freqs = np.linspace(0, 150, np.size(group_power, axis=2))\n",
    "\n",
    "# calculate how peak power changes following stimulation for each model\n",
    "n_models = np.size(group_power, axis=0)\n",
    "model_t = np.zeros((n_models, 3))\n",
    "for m in range(n_models):\n",
    "    peak_freq = endo_freqs[np.argmax(group_power[m, 0, :])]\n",
    "    freq_range = (endo_freqs>peak_freq-5) & (endo_freqs<peak_freq+5)\n",
    "    base_pow = np.mean(group_power[m, 0, freq_range])\n",
    "    for f in range(3):\n",
    "        stim_pow = np.mean(group_power[m, f+1, freq_range])\n",
    "        model_t[m, f] = stim_pow - base_pow\n",
    "        del stim_pow, f\n",
    "    del base_pow, freq_range, peak_freq, m\n",
    "\n",
    "# restrict analysis so the plot centres on 32.5Hz\n",
    "model_t = model_t[(group_peak[:, 0] >= 26.5) & (group_peak[:, 0] <= 38.5), :]\n",
    "freqs = group_peak[(group_peak[:, 0] >= 26.5) & (group_peak[:, 0] <= 38.5), 0]\n",
    "\n",
    "# plot pcolor\n",
    "h = ax.pcolor(freqs, [1, 2, 3], model_t.transpose(), vmin=0, vmax=1, cmap=cmap)\n",
    "ax.axvline(32.5, c='k', linewidth=1)\n",
    "ax.set_xlim([26.5, 38.5])\n",
    "ax.set_xticks([26.5, 32.5, 38.5])\n",
    "ax.set_xticklabels([26.5, 32.5, 38.5], **img_style['ticklabel'])\n",
    "ax.set_yticks([1, 2, 3])\n",
    "ax.set_yticklabels(stim_names, **img_style['ticklabel'])\n",
    "ax.set_ylabel('Stim. Freq.', labelpad=3, **img_style['axlabel'])\n",
    "cbar = plt.colorbar(h, ax=ax)\n",
    "cbar.ax.set_yticks([0, 1])\n",
    "cbar.ax.set_yticklabels([0, 1], **img_style['ticklabel'])\n",
    "ax.set_xlabel('Endo. Osc. Freq. (Hz)', labelpad=1, **img_style['axlabel'])\n",
    "cbar.ax.set_ylabel('Network Power (arb. units)', labelpad=-3, **img_style['axlabel'])\n",
    "\n",
    "# plot\n",
    "plt.savefig(\"{}/figures/figure3a.eps\".format(data_directory), dpi=500, bbox_inches='tight',\n",
    "            pad_inches=0, transparent=True, facecolor=[1, 1, 1])\n",
    "\n",
    "# tidy workspace\n",
    "del ax, fig, cbar, freqs, n_models, endo_freqs, h, stim_names"
   ],
   "metadata": {
    "collapsed": false,
    "ExecuteTime": {
     "end_time": "2023-07-20T14:15:10.198493Z",
     "start_time": "2023-07-20T14:15:09.896315Z"
    }
   }
  },
  {
   "cell_type": "markdown",
   "source": [
    "And between-frequency correlations (figure 3b)"
   ],
   "metadata": {
    "collapsed": false
   }
  },
  {
   "cell_type": "code",
   "execution_count": 36,
   "outputs": [
    {
     "data": {
      "text/plain": "<Figure size 314.961x157.48 with 3 Axes>",
      "image/png": "[encoded data removed]"
     },
     "metadata": {},
     "output_type": "display_data"
    }
   ],
   "source": [
    "# create figure\n",
    "_, ax = plt.subplots(1, 3, figsize=(8*cm, 4*cm))\n",
    "\n",
    "# plot C\n",
    "corr_pair = [[0, 1], [0, 2], [1, 2]]\n",
    "label_pair = [['32.5Hz', '43.3Hz'], ['32.5Hz', '65Hz'], ['43.3Hz', '65Hz']]\n",
    "for m in range(3):\n",
    "\n",
    "    # get df\n",
    "    x = scipy.stats.rankdata(model_t[:, corr_pair[m][0]]) #scipy.stats.rankdata()\n",
    "    y = scipy.stats.rankdata(model_t[:, corr_pair[m][1]]) #scipy.stats.rankdata(model_t[:, corr_pair[m][1]])\n",
    "\n",
    "    # get correlation\n",
    "    r, p = scipy.stats.pearsonr(x, y)\n",
    "\n",
    "    # get line of best fit\n",
    "    X = np.vstack((np.ones(np.size(y)), x)).transpose()\n",
    "    res = sm.OLS(y, X).fit()\n",
    "    lob = np.array([0, np.size(model_t, axis=0)]) * res.params[1] + res.params[0]\n",
    "\n",
    "    # plot correlation\n",
    "    for n in range(np.size(x)):\n",
    "        ax[m].scatter(x[n], y[n], s=3, facecolor=np.zeros(3)+0.75)\n",
    "        del n\n",
    "\n",
    "    # plot line of best fit\n",
    "    ax[m].plot([0, np.size(model_t, axis=0)], lob, color=pastels[0], zorder=100, linewidth=1.5)\n",
    "\n",
    "    # plot remainder\n",
    "    ax[m].set_aspect('equal', 'box')\n",
    "    ax[m].set_xlim([0, np.size(model_t, axis=0)])\n",
    "    ax[m].set_ylim([0, np.size(model_t, axis=0)])\n",
    "    ax[m].spines.right.set_visible(False)\n",
    "    ax[m].spines.top.set_visible(False)\n",
    "    ax[m].set_xticks([])\n",
    "    ax[m].set_yticks([])\n",
    "    ax[m].set_ylabel('{} > Base.'.format(label_pair[m][1]), labelpad=-2, **img_style['axlabel'])\n",
    "    ax[m].set_xlabel('{} > Base.'.format(label_pair[m][0]), labelpad=0, **img_style['axlabel'])\n",
    "    ax[m].set_title('r = {:2.2f}, p = {:3.3f}'.format(r, p), **dict(fontsize=img_style['ticklabel']['fontsize'],\n",
    "                                                                    fontstyle='italic'))\n",
    "\n",
    "    # tidy\n",
    "    del x, y, r, p, X, res, lob, m\n",
    "\n",
    "# show\n",
    "plt.savefig(\"{}/figures/figure3c.eps\".format(data_directory), dpi=500, bbox_inches='tight',\n",
    "            pad_inches=0, transparent=True, facecolor=[1, 1, 1])\n",
    "\n",
    "# tidy up\n",
    "del ax, corr_pair, label_pair, group_peak, group_power, model_t, cm, img_style, cmap, pastels"
   ],
   "metadata": {
    "collapsed": false,
    "pycharm": {
     "name": "#%%\n",
     "is_executing": true
    },
    "ExecuteTime": {
     "end_time": "2023-07-20T14:15:11.460113Z",
     "start_time": "2023-07-20T14:15:10.189956Z"
    }
   }
  },
  {
   "cell_type": "markdown",
   "source": [
    "### Section 3: Examining Further Harmonic Effects\n",
    "\n",
    "This section explores what happens when stimulation occurs at different harmonic frequencies. The code is very similar to that used above, but the 'target frequencies' (i.e., the exogenous stimulation frequencies) are defined relative to the approximate endogenous peak frequency."
   ],
   "metadata": {
    "collapsed": false
   }
  },
  {
   "cell_type": "code",
   "execution_count": 37,
   "outputs": [
    {
     "name": "stderr",
     "output_type": "stream",
     "text": [
      "/var/folders/n4/4yfr_qsj01l2w4k6v2ksq22m0000gn/T/ipykernel_17543/604055345.py:24: DeprecationWarning: Conversion of an array with ndim > 0 to a scalar is deprecated, and will error in future. Ensure you extract a single element from your array before performing this operation. (Deprecated NumPy 1.25.)\n",
      "  neuron_delay = int(np.random.rand(1) * stagger_win)\n"
     ]
    }
   ],
   "source": [
    "# create dataframe for key outputs\n",
    "target_freqs = np.array([0, 1/8, 1/4, 1/2, 1, 2, 4, 8])\n",
    "group_power = np.zeros((2, np.size(target_freqs), 151))  # [model, exo_freq, endo_freq, val]\n",
    "\n",
    "# define dc inputs\n",
    "dc_input = [4.26, 15.25]\n",
    "osc_freq = [32.5, 65]\n",
    "\n",
    "# cycle through models\n",
    "for m in range(2):\n",
    "\n",
    "    # define parameters\n",
    "    params = get_params(seed=rand_seed, dc=dc_input[m], freqs=target_freqs * osc_freq[m])\n",
    "\n",
    "    # cycle through each exogenous frequency\n",
    "    for f in np.arange(0, np.size(params['freqs'])):\n",
    "\n",
    "        # reset seed so underlying endogenous dynamics are identical no matter the exogenous input\n",
    "        np.random.seed(rand_seed)\n",
    "\n",
    "        # define input for freq. condition\n",
    "        exo_input = calculate_input(params, f)\n",
    "\n",
    "        # run model\n",
    "        firings, volt_ts, inputs = run_model(params, exo_input)\n",
    "\n",
    "        # compute FFT\n",
    "        _, group_power[m, f, :], _ = get_fft(volt_ts[:, 0])\n",
    "\n",
    "        # tidy workspace\n",
    "        del exo_input, firings, inputs, volt_ts, f, _\n",
    "    del m, params\n",
    "\n",
    "# tidy up\n",
    "del dc_input, osc_freq"
   ],
   "metadata": {
    "collapsed": false,
    "pycharm": {
     "name": "#%%\n",
     "is_executing": true
    },
    "ExecuteTime": {
     "end_time": "2023-07-20T14:15:22.157561Z",
     "start_time": "2023-07-20T14:15:11.465078Z"
    }
   }
  },
  {
   "cell_type": "markdown",
   "source": [
    "We can then plot the output as figure 4A"
   ],
   "metadata": {
    "collapsed": false
   }
  },
  {
   "cell_type": "code",
   "execution_count": 38,
   "outputs": [
    {
     "data": {
      "text/plain": "<Figure size 354.331x196.85 with 1 Axes>",
      "image/png": "[encoded data removed]"
     },
     "metadata": {},
     "output_type": "display_data"
    }
   ],
   "source": [
    "# define plot parameters\n",
    "img_style = {'title': dict(fontsize=7, fontweight='bold'), 'axlabel': dict(fontsize=7),\n",
    "             'ticklabel': dict(fontsize=5, color='black')}\n",
    "cm = 1/2.54\n",
    "\n",
    "# compute change in oscillatory power for conditions, then scale\n",
    "endo_freqs = np.linspace(0, 150, np.size(group_power, axis=2))\n",
    "osc_freq = [32.5, 65]\n",
    "d = np.zeros((2, 7))\n",
    "for m in range(2):\n",
    "    idx = (endo_freqs>osc_freq[m]-5) & (endo_freqs<osc_freq[m]+5.1)\n",
    "    a = group_power[m, 1:, idx].mean(axis=0)\n",
    "    b = group_power[m, 0, idx].mean()\n",
    "    d[m, :] = a - b\n",
    "    d[m, :] = d[m, :] / d[m, :].std()\n",
    "    del idx, a, b, m\n",
    "\n",
    "# plot results\n",
    "leg_label = ['Slow Gamma', 'Fast Gamma']\n",
    "fig, ax = plt.subplots(1, 1, figsize=(9*cm, 5*cm))\n",
    "for m in range(2):\n",
    "    ax.plot(np.arange(np.size(target_freqs)-1), d[m, :], marker='o', label=leg_label[m])\n",
    "    del m\n",
    "ax.set_xlim([-0.8, 6.8])\n",
    "ax.set_xticks(np.arange(0, 7))\n",
    "ax.set_xticklabels(['f/8', 'f/4', 'f/2', 'f', '2f', '4f', '8f'], **img_style['ticklabel'])\n",
    "ax.set_xlabel('Stimulation Frequency (Hz)', **img_style['axlabel'])\n",
    "ax.set_ylim([-1.5, 3])\n",
    "ax.set_yticks(np.arange(-1.5, 3.1, 1.5))\n",
    "ax.set_yticklabels(np.round(np.arange(-1.5, 3.1, 1.5), 1), **img_style['ticklabel'])\n",
    "ax.set_ylabel('Power (stim. > baseline; s.d.)', **img_style['axlabel'])\n",
    "ax.axhline(0, color='k')\n",
    "plt.legend(fontsize='x-small', frameon=False)\n",
    "\n",
    "plt.savefig(\"{}/figures/figure4a.eps\".format(data_directory), dpi=500, bbox_inches='tight',\n",
    "            pad_inches=0, transparent=True, facecolor=[1, 1, 1])\n",
    "\n",
    "# tidy up\n",
    "del fig, ax, leg_label, d, osc_freq, endo_freqs, group_power, target_freqs, cm, img_style"
   ],
   "metadata": {
    "collapsed": false,
    "pycharm": {
     "name": "#%%\n",
     "is_executing": true
    },
    "ExecuteTime": {
     "end_time": "2023-07-20T14:15:22.542977Z",
     "start_time": "2023-07-20T14:15:22.280265Z"
    }
   }
  },
  {
   "cell_type": "markdown",
   "source": [
    "We can also observe what is happening in the LFP time-series. Here, we use fewer harmonic frequencies as it is easier to subsequently plot and visualise"
   ],
   "metadata": {
    "collapsed": false
   }
  },
  {
   "cell_type": "code",
   "execution_count": 39,
   "outputs": [
    {
     "name": "stderr",
     "output_type": "stream",
     "text": [
      "/var/folders/n4/4yfr_qsj01l2w4k6v2ksq22m0000gn/T/ipykernel_17543/1139609994.py:42: DeprecationWarning: Conversion of an array with ndim > 0 to a scalar is deprecated, and will error in future. Ensure you extract a single element from your array before performing this operation. (Deprecated NumPy 1.25.)\n",
      "  neuron_delay = int(np.random.rand(1) * stagger_win)\n"
     ]
    }
   ],
   "source": [
    "# define stimulation frequencies\n",
    "target_freqs = 130 / np.array([16, 8, 4, 2, 1])\n",
    "\n",
    "# define target freqs.\n",
    "params = get_params(seed=rand_seed, freqs=np.array(target_freqs))\n",
    "\n",
    "# predefine length of data\n",
    "cycle_dur = np.round(params['fs'] / max(target_freqs))  # get length of one cycle of slowest freq. in samples\n",
    "cycles_per_segment = int(max(params['freqs']) / min(target_freqs))  # get number of cycles nested in largest stim. freq\n",
    "epoch_dur = int(cycle_dur * cycles_per_segment)  # define length of segment\n",
    "del cycle_dur, cycles_per_segment\n",
    "\n",
    "# predefine loop output\n",
    "v_data = np.zeros((epoch_dur, np.size(target_freqs)))\n",
    "o_data = np.zeros((epoch_dur, np.size(target_freqs)))\n",
    "\n",
    "# cycle through each exogenous frequency\n",
    "for f in np.arange(0, np.size(params['freqs'])):\n",
    "\n",
    "    # reset seed so underlying endogenous dynamics are identical no matter the exogenous input\n",
    "    np.random.seed(rand_seed)\n",
    "\n",
    "    # --- run input function in line --- #\n",
    "    # compute oscillatory input (excit. only)\n",
    "    amp = (params['dc'] * params['osc_ratio'])\n",
    "    osc_input = ((amp * np.sin(2 * np.pi * params['freqs'][f] * np.arange(0, params['T']) / params['fs'])) + amp) / 2\n",
    "    osc_input = np.concatenate([np.repeat(osc_input[:, np.newaxis], params['Ne'], axis=1).transpose(),\n",
    "                                np.zeros((params['Ni'], params['T']))])\n",
    "\n",
    "    # compute direct input\n",
    "    dir_input = np.concatenate( [params['dc'] * np.ones((params['Ne'], params['T'])) + (params['dc'] / 10) *\n",
    "                                 np.random.randn(params['Ne'], params['T']), params['dc'] * params['ei_ratio'] *\n",
    "                                 np.ones((params['Ni'], params['T'])) + ((params['dc'] * params['ei_ratio']) / 10) *\n",
    "                                 np.random.randn(params['Ni'], params['T'])])\n",
    "\n",
    "    # return summed input\n",
    "    ex_in = dir_input + osc_input\n",
    "\n",
    "    # stagger onset to avoid artificial synchrony\n",
    "    stagger_win = params['fs'] * 0.1  # stagger by 100ms\n",
    "    for neuron in range(0, np.size(ex_in, axis=0)):\n",
    "        neuron_delay = int(np.random.rand(1) * stagger_win)\n",
    "        ex_in[neuron, :neuron_delay] = 0\n",
    "\n",
    "    # return output\n",
    "    exo_input = ex_in\n",
    "    del ex_in, neuron_delay, neuron, stagger_win, dir_input, amp\n",
    "\n",
    "    # ----------------- #\n",
    "\n",
    "    # run model\n",
    "    _, volt_ts, _ = run_model(params, exo_input)\n",
    "    del exo_input\n",
    "\n",
    "    # restrict data to 1000ms after onset to avoid onset artifact\n",
    "    v = volt_ts[1000:, 0]  # extract excitatory signal\n",
    "    o = osc_input[0, 1000:]\n",
    "    del volt_ts, osc_input\n",
    "\n",
    "    # find peaks in oscillatory input and 'v'\n",
    "    o_peaks = scipy.signal.find_peaks(smooth(-o, 5))[0]  # use troughs so initial ramp-up can be observed\n",
    "    v_peaks = scipy.signal.find_peaks(smooth(v, 5))[0]  # use troughs so initial ramp-up can be observed\n",
    "\n",
    "    # start epoching at 'o' peak that precedes first 'v'\n",
    "    v_peaks = v_peaks[v_peaks > o_peaks[0]]  # ensure all v_peaks are greater than the first o_peak\n",
    "    o_start = np.argmax(o_peaks[o_peaks < v_peaks[1]])\n",
    "    o_peaks = o_peaks[o_start:]\n",
    "    del v_peaks, o_start\n",
    "\n",
    "    # define which 'o' peaks to extract data from\n",
    "    cps = int(target_freqs[f] / min(params['freqs']))  # get number of cycles nested in largest stim. freq\n",
    "    o_peaks = o_peaks[np.arange(0, np.size(o_peaks), cps)]  # drop intermediate samples to avoid overlap\n",
    "    o_peaks = o_peaks[(o_peaks + epoch_dur) < np.size(v)]\n",
    "    del cps\n",
    "\n",
    "    # extract oscillatory input, LFP, and firing data\n",
    "    v_data[:, f] = np.sum([v[n:(n+epoch_dur)] for n in o_peaks], axis=0) / np.size(o_peaks)\n",
    "    o_data[:, f] = np.sum([o[n:(n+epoch_dur)] for n in o_peaks], axis=0) / np.size(o_peaks)\n",
    "\n",
    "    # tidy workspace\n",
    "    del v, o, o_peaks, f, _\n",
    "\n",
    "# tidy workspace\n",
    "del epoch_dur, params"
   ],
   "metadata": {
    "collapsed": false,
    "pycharm": {
     "name": "#%%\n",
     "is_executing": true
    },
    "ExecuteTime": {
     "end_time": "2023-07-20T14:15:26.098746Z",
     "start_time": "2023-07-20T14:15:22.555846Z"
    }
   }
  },
  {
   "cell_type": "markdown",
   "source": [
    "And we can plot the output (as seen in Figure 4B)"
   ],
   "metadata": {
    "collapsed": false
   }
  },
  {
   "cell_type": "code",
   "execution_count": 40,
   "outputs": [
    {
     "data": {
      "text/plain": "<Figure size 800x300 with 10 Axes>",
      "image/png": "[encoded data removed]"
     },
     "metadata": {},
     "output_type": "display_data"
    }
   ],
   "source": [
    "# define plot parameters\n",
    "stim_names = [\"32.5Hz\", \"43.3Hz\", \"65Hz\"]\n",
    "img_style = {'title': dict(fontsize=7, fontweight='bold'), 'axlabel': dict(fontsize=7),\n",
    "             'ticklabel': dict(fontsize=5, color='black')}\n",
    "cm = 1/2.54\n",
    "\n",
    "# %% Plot\n",
    "titles = ['f/4', 'f/2', 'f', '2f', '4f']\n",
    "time = np.linspace(0, max(target_freqs)/32.5, np.size(o_data, axis=0))\n",
    "fig, ax = plt.subplots(2, 5, sharey='row', sharex='all', figsize=(8, 3))\n",
    "for n in range(5):\n",
    "    ax[0, n].plot(time, normalise(o_data[:, n]), color='dodgerblue')\n",
    "    if n == 0:\n",
    "        ax[0, n].set_ylabel('Osc. Input (arb. units)', fontsize=8)\n",
    "    ax[0, n].set_ylim([-0.1, 1.1])\n",
    "    ax[0, n].set_yticks([0, 1])\n",
    "    ax[0, n].set_yticklabels([0, 1], fontsize=7)\n",
    "    ax[0, n].set_title('Stim: ' + titles[n], fontweight='bold', fontsize=10)\n",
    "    ax[0, n].spines[['right', 'top']].set_visible(False)\n",
    "\n",
    "    ax[1, n].plot(time, v_data[:, n], color='tomato')\n",
    "    ax[1, n].set_ylim([-80, -50])\n",
    "    ax[1, n].set_yticks([-80, -70, -60, -50])\n",
    "    ax[1, n].set_yticklabels([-80, '', '', -50], fontsize=7)\n",
    "    ax[1, n].set_xlim([0, 4])\n",
    "    ax[1, n].set_xticks([0, 1, 2, 3, 4])\n",
    "    ax[1, n].set_xticklabels([0, '', 2, '', 4], fontsize=7)\n",
    "    ax[1, n].set_xlabel('Time (endo. cycles)', fontsize=8)\n",
    "    ax[1, n].spines[['right', 'top']].set_visible(False)\n",
    "    if n == 0:\n",
    "        ax[1, n].set_ylabel('LFP (arb. units)', fontsize=8)\n",
    "    del n\n",
    "\n",
    "plt.tight_layout()\n",
    "plt.savefig(\"{}/figures/figure4b.eps\".format(data_directory), dpi=500, bbox_inches='tight',\n",
    "            pad_inches=0, transparent=True, facecolor=[1, 1, 1])\n",
    "\n",
    "# tidy up\n",
    "del fig, ax, time, titles, cm, img_style, stim_names, o_data, v_data, target_freqs"
   ],
   "metadata": {
    "collapsed": false,
    "pycharm": {
     "name": "#%%\n",
     "is_executing": true
    },
    "ExecuteTime": {
     "end_time": "2023-07-20T14:15:27.288057Z",
     "start_time": "2023-07-20T14:15:26.107112Z"
    }
   }
  },
  {
   "cell_type": "markdown",
   "source": [
    "### Section 4: Probing the Impact of Oscillatory Amplitude\n",
    "\n",
    "Lastly, we can explore what happens when the amplitude of the exogenous input varies. The variable 'osc_input' carries this information and takes the values from 0.05 (i.e., 5% of the direct current input) to 0.8 (i.e., 80% of the direct current input). Note that as this model essentially runs the first section 6 times, it takes substantially longer to compute than other sections."
   ],
   "metadata": {
    "collapsed": false
   }
  },
  {
   "cell_type": "code",
   "execution_count": 41,
   "outputs": [
    {
     "name": "stderr",
     "output_type": "stream",
     "text": [
      "/var/folders/n4/4yfr_qsj01l2w4k6v2ksq22m0000gn/T/ipykernel_17543/604055345.py:24: DeprecationWarning: Conversion of an array with ndim > 0 to a scalar is deprecated, and will error in future. Ensure you extract a single element from your array before performing this operation. (Deprecated NumPy 1.25.)\n",
      "  neuron_delay = int(np.random.rand(1) * stagger_win)\n"
     ]
    },
    {
     "name": "stdout",
     "output_type": "stream",
     "text": [
      "model 0 complete...\n",
      "model 1 complete...\n",
      "model 2 complete...\n",
      "model 3 complete...\n",
      "model 4 complete...\n",
      "model 5 complete...\n",
      "all models complete...\n"
     ]
    }
   ],
   "source": [
    "# %% Run Model w/ Oscillatory Amplitude Changes\n",
    "# define stimulation frequencies\n",
    "target_freqs = np.arange(0, 100)\n",
    "\n",
    "# define differing direct currents\n",
    "osc_input = [0.05, 0.1, 0.2, 0.4, 0.6, 0.8]\n",
    "\n",
    "# create dataframe for key outputs (five columns = )\n",
    "group_power = np.zeros((np.size(osc_input), np.size(target_freqs), 151))  # [model, exo_freq, endo_freq, val]\n",
    "\n",
    "# cycle through each model\n",
    "for m in np.arange(0, np.size(osc_input)):\n",
    "\n",
    "    # define target freqs.\n",
    "    params = get_params(seed=rand_seed, osc_ratio=osc_input[m], freqs=np.array(target_freqs))\n",
    "\n",
    "    # cycle through each exogenous frequency\n",
    "    for f in np.arange(0, np.size(params['freqs'])):\n",
    "\n",
    "        # reset seed so underlying endogenous dynamics are identical no matter the exogenous input\n",
    "        np.random.seed(rand_seed)\n",
    "\n",
    "        # define input for freq. condition\n",
    "        exo_input = calculate_input(params, f)\n",
    "\n",
    "        # run model\n",
    "        _, volt_ts, _ = run_model(params, exo_input)\n",
    "        del exo_input\n",
    "\n",
    "        # compute FFT\n",
    "        _, group_power[m, f, :], _ = get_fft(volt_ts[:, 0])\n",
    "        del volt_ts, f\n",
    "\n",
    "    # update user\n",
    "    print(\"model {} complete...\".format(m))\n",
    "    del params, m\n",
    "\n",
    "# update user\n",
    "print(\"all models complete...\")"
   ],
   "metadata": {
    "collapsed": false,
    "pycharm": {
     "name": "#%%\n",
     "is_executing": true
    },
    "ExecuteTime": {
     "end_time": "2023-07-20T14:38:46.890161Z",
     "start_time": "2023-07-20T14:15:27.291460Z"
    }
   }
  },
  {
   "cell_type": "markdown",
   "source": [
    "And we can plot the results as Supplementary Figure 2"
   ],
   "metadata": {
    "collapsed": false
   }
  },
  {
   "cell_type": "code",
   "execution_count": 42,
   "outputs": [
    {
     "data": {
      "text/plain": "<Figure size 551.181x314.961 with 12 Axes>",
      "image/png": "[encoded data removed]"
     },
     "metadata": {},
     "output_type": "display_data"
    }
   ],
   "source": [
    "# define plot parameters\n",
    "img_style = {'title': dict(fontsize=7, fontweight='bold'), 'axlabel': dict(fontsize=7),\n",
    "             'ticklabel': dict(fontsize=5, color='black')}\n",
    "cm = 1/2.54\n",
    "\n",
    "# define model names\n",
    "model_names = [\"Slow Gamma Model\", \"Fast Gamma Model\", \"Arrhythmic Model\"]\n",
    "endo_freqs = np.linspace(0, 150, np.size(group_power, axis=2))\n",
    "exo_freqs = target_freqs\n",
    "stim_idx = [np.argmin(abs(exo_freqs - x)) for x in [130/4, 130/3, 130/2]]\n",
    "\n",
    "# create figure\n",
    "fig, ax = plt.subplots(ncols=3, nrows=2, figsize=(14*cm, 8*cm))\n",
    "ax = ax.flatten()\n",
    "\n",
    "# plot FFs\n",
    "ylims = [6, 6, 7, 8, 8, 8]\n",
    "for n in range(np.size(group_power, axis=0)):\n",
    "    ax[n].set_aspect('equal')\n",
    "    h = ax[n].pcolor(endo_freqs, exo_freqs, group_power[n, :, :], vmin=0, vmax=ylims[n], cmap='Reds')\n",
    "    ax[n].set_xlim([20, 100])\n",
    "    ax[n].set_xticks(np.arange(20, 101, 20))\n",
    "    ax[n].set_xticklabels(np.arange(20, 101, 20), **img_style['ticklabel'])\n",
    "    ax[n].set_ylim([20, 100])\n",
    "    ax[n].set_yticks(np.arange(20, 101, 20))\n",
    "    ax[n].set_title('A = {}'.format(np.round(osc_input[n],2)), pad=3, **img_style['title'])\n",
    "    if (n == 0) | (n == 3):\n",
    "        ax[n].set_yticklabels(np.arange(20, 101, 20), **img_style['ticklabel'])\n",
    "        ax[n].set_ylabel('Stim. Freq. (Hz)', labelpad=0, **img_style['axlabel'])\n",
    "    else:\n",
    "        ax[n].set_yticklabels([])\n",
    "    if n >= 3:\n",
    "        ax[n].set_xlabel('Endo. Freq. (Hz)', labelpad=2, **img_style['axlabel'])\n",
    "    cbar = plt.colorbar(h, ax=ax[n])\n",
    "    cbar.ax.set_yticks([0, ylims[n]])\n",
    "    cbar.ax.set_yticklabels([0, ylims[n]], **img_style['ticklabel'])\n",
    "    if (n == 2) | (n == 5):\n",
    "        cbar.ax.set_ylabel('Power (arb. units)', labelpad=0, **img_style['axlabel'])\n",
    "    del cbar, n, h\n",
    "\n",
    "plt.tight_layout()\n",
    "plt.savefig(\"{}/figures/supp_figure2.jpg\".format(data_directory), dpi=500, bbox_inches='tight',\n",
    "            pad_inches=0, transparent=True, facecolor=[1, 1, 1])\n",
    "\n",
    "# tidy up\n",
    "del fig, ax, ylims, stim_idx, exo_freqs, endo_freqs, model_names, cm, img_style, group_power, osc_input, target_freqs"
   ],
   "metadata": {
    "collapsed": false,
    "pycharm": {
     "name": "#%%\n",
     "is_executing": true
    },
    "ExecuteTime": {
     "end_time": "2023-07-20T14:38:49.625263Z",
     "start_time": "2023-07-20T14:38:46.953206Z"
    }
   }
  },
  {
   "cell_type": "markdown",
   "source": [
    "And we're done..."
   ],
   "metadata": {
    "collapsed": false
   }
  }
 ],
 "metadata": {
  "kernelspec": {
   "display_name": "Python 3",
   "language": "python",
   "name": "python3"
  },
  "language_info": {
   "codemirror_mode": {
    "name": "ipython",
    "version": 2
   },
   "file_extension": ".py",
   "mimetype": "text/x-python",
   "name": "python",
   "nbconvert_exporter": "python",
   "pygments_lexer": "ipython2",
   "version": "2.7.6"
  }
 },
 "nbformat": 4,
 "nbformat_minor": 0
}
