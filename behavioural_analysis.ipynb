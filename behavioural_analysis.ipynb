{
 "cells": [
  {
   "cell_type": "markdown",
   "source": [
    "# Behavioural Analysis for 'Imperceptible gamma-band sensory stimulation enhances episodic memory retrieval'\n",
    "\n",
    "The following notebook runs the key analyses for 'Imperceptible gamma-band sensory stimulation enhances episodic memory retrieval'. The code and accompanying markdown aim to describe what is done and how it is accomplished. Note that both the participant-level logistic models and group-level statistics heavily involved 'for' loops. To help understand what is happening within these loops, one run of the loop is stepped through section-by-section, and then the loop is run in its entirety."
   ],
   "metadata": {
    "collapsed": false
   }
  },
  {
   "cell_type": "markdown",
   "source": [
    "## Section 1: The Central Analyses\n",
    "Here, we run the central analyses of the behavioural portion of the paper, using participant-specific logistic models and group-level one-sample t-tests to explore whether gamma-band sensory stimulation can boost recall."
   ],
   "metadata": {
    "collapsed": false
   }
  },
  {
   "cell_type": "markdown",
   "source": [
    "### Section 1.1: Setting Up for the Main Analyses\n",
    "First, import the relevant packages for the following analyses"
   ],
   "metadata": {
    "collapsed": false
   }
  },
  {
   "cell_type": "code",
   "execution_count": 1,
   "metadata": {
    "collapsed": true,
    "pycharm": {
     "name": "#%%\n"
    }
   },
   "outputs": [],
   "source": [
    "import matplotlib as mpl\n",
    "import numpy as np\n",
    "import pandas as pd\n",
    "import platform\n",
    "import ptitprince as pt\n",
    "import scipy\n",
    "import seaborn as sns\n",
    "import statsmodels.api as sm\n",
    "import sys\n",
    "\n",
    "from matplotlib import pyplot as plt\n",
    "from scipy import stats\n",
    "from statsmodels.stats import weightstats\n",
    "from statsmodels.discrete import discrete_model as dm\n",
    "\n",
    "# check python version is correct\n",
    "p = sys.version_info\n",
    "assert((p.major == 3) & (p.minor == 10) & (p.micro == 11))\n",
    "del p\n",
    "\n",
    "# cross-check package versions are correct\n",
    "assert(mpl.__version__ == '3.7.1')  # matplotlib\n",
    "assert(np.__version__ == '1.25.0')  # numpy\n",
    "assert(pd.__version__ == '2.0.2')  # pandas\n",
    "assert(scipy.__version__ == '1.11.0')  # scipy\n",
    "assert(sns.__version__ == '0.11.0')  # seaborn\n",
    "assert(sm.__version__ == '0.13.5')  # seaborn\n",
    "\n",
    "# N.B. the package 'ptitprince' package should be version 0.2.6"
   ]
  },
  {
   "cell_type": "markdown",
   "source": [
    "With that done, we are ready to get started with the logistic models"
   ],
   "metadata": {
    "collapsed": false
   }
  },
  {
   "cell_type": "markdown",
   "source": [
    "### Section 1.2: Logistic Models: An Example\n",
    "Here, we run through how the logistic model is computed for a single participant. First, we then define key parameters, including the directory where the data is stored, the flicker freqeuncies used in the two experiments, the outcome variables of interest, and the predictors of interest"
   ],
   "metadata": {
    "collapsed": false
   }
  },
  {
   "cell_type": "code",
   "execution_count": 2,
   "outputs": [],
   "source": [
    "# define key directories\n",
    "if platform.system() == 'Windows':\n",
    "    data_directory = 'C:/Users/griffibz/Dropbox/work_data/beh_gammaFlicker/'\n",
    "else:\n",
    "    data_directory = '/Users/ben/Dropbox/work_data/beh_gammaFlicker/'\n",
    "\n",
    "# define flicker/model labels\n",
    "flicker_freqs = [[65, 43, 33, 0],\n",
    "                 [65, 0]]\n",
    "labels_outcome = ['recalled', 'rt', 'confidence']\n",
    "labels_frequency = ['{}Hz_{}'.format(n, s) for n in [33, 43, 65] for s in ['encoding', 'retrieval']]\n",
    "labels_predictor = labels_frequency + ['rt', 'enc_onset', 'ret_onset', 'intercept']"
   ],
   "metadata": {
    "collapsed": false,
    "pycharm": {
     "name": "#%%\n"
    }
   }
  },
  {
   "cell_type": "markdown",
   "source": [
    "Load the data"
   ],
   "metadata": {
    "collapsed": false
   }
  },
  {
   "cell_type": "code",
   "execution_count": 3,
   "outputs": [],
   "source": [
    "# load data\n",
    "filename = '{}/dataset-01/log_pp01.csv'.format(data_directory)\n",
    "data = pd.read_csv(filename)\n",
    "\n",
    "# tidy\n",
    "del filename"
   ],
   "metadata": {
    "collapsed": false,
    "pycharm": {
     "name": "#%%\n"
    }
   }
  },
  {
   "cell_type": "markdown",
   "source": [
    "We then drop trials that have a missing response for video selection, confidence rating, or encoding question."
   ],
   "metadata": {
    "collapsed": false
   }
  },
  {
   "cell_type": "code",
   "execution_count": 4,
   "outputs": [],
   "source": [
    "# identify trials with missing data\n",
    "noMemoryResponse = data.rt.isnull()\n",
    "noConfidenceResponse = data.confidence.isnull()\n",
    "\n",
    "# drop trials with missing data\n",
    "data = data.drop(index=np.where(noMemoryResponse | noConfidenceResponse)[0])\n",
    "data = data.reset_index(drop=True)\n",
    "\n",
    "# tidy\n",
    "del noMemoryResponse, noConfidenceResponse"
   ],
   "metadata": {
    "collapsed": false,
    "pycharm": {
     "name": "#%%\n"
    }
   }
  },
  {
   "cell_type": "markdown",
   "source": [
    "Memory performance is then computed by identifying trials for which both the video selection was correct and the participant reported that they did not guess their response."
   ],
   "metadata": {
    "collapsed": false
   }
  },
  {
   "cell_type": "code",
   "execution_count": 5,
   "outputs": [],
   "source": [
    "# relabel 'recalled' in data structure as 'hit rate' (as this is a more appropriate term)\n",
    "data['hit rate'] = data['recalled'].copy()\n",
    "\n",
    "# re-code memory performance as pre-registered (i.e., trial is a hit, and reported to not be a guess)\n",
    "data['recalled'] = (data.recalled == 1) & (data.confidence != 'Vergessen').astype('int')"
   ],
   "metadata": {
    "collapsed": false,
    "pycharm": {
     "name": "#%%\n"
    }
   }
  },
  {
   "cell_type": "markdown",
   "source": [
    "The predictor variables are then prepared for the logistic models. This includes z-transforming linear measures of time to avoid fitting difficulties and dummy-coding every flicker condition."
   ],
   "metadata": {
    "collapsed": false
   }
  },
  {
   "cell_type": "code",
   "execution_count": 6,
   "outputs": [],
   "source": [
    "# convert confidence ratings to binary (0 == guess/know, 1 == remember) [guesses will be excluded in this analysis]\n",
    "data['confidence'] = (data['confidence'] == 'Erinnern').astype('int')\n",
    "\n",
    "# z-score time-based parameters\n",
    "data['rt'] = stats.zscore(data['rt'])\n",
    "data['enc_onset'] = stats.zscore(data['enc_onset'])\n",
    "data['ret_onset'] = stats.zscore(data['ret_onset'])\n",
    "\n",
    "# dummy code flicker frequencies (excluding last value to avoid rank deficiency)\n",
    "used_frequencies = []  # predefine list for regression predictors\n",
    "for freq in np.arange(0, np.size(flicker_freqs[0]) - 1):\n",
    "    for i, j in zip(['encoding', 'retrieval'], ['enc_freq', 'ret_freq']):\n",
    "        label = '{}Hz_{}'.format(flicker_freqs[0][freq], i)  # define dataframe header\n",
    "        data[label] = (data[j] == (freq + 1)).astype('int')  # get binary match to target freq\n",
    "        used_frequencies.append(label)  # add label to predictor list\n",
    "        del label, i, j\n",
    "    del freq\n",
    "\n",
    "# define predictors used in the model\n",
    "predictors = used_frequencies + ['rt', 'enc_onset', 'ret_onset']\n",
    "\n",
    "# tidy\n",
    "del used_frequencies"
   ],
   "metadata": {
    "collapsed": false,
    "pycharm": {
     "name": "#%%\n"
    }
   }
  },
  {
   "cell_type": "markdown",
   "source": [
    "The logistic model is then run using L1-regularised logistic regression. On occasion, the model will fail if there is insufficent hits/misses. To avoid issue here, a try/except segment is included. If the model fails, the t-values are returned as NaNs that will be excluded from further analysis."
   ],
   "metadata": {
    "collapsed": false,
    "pycharm": {
     "name": "#%% md\n"
    }
   }
  },
  {
   "cell_type": "code",
   "execution_count": 7,
   "outputs": [],
   "source": [
    "# split data\n",
    "y = data['recalled'].copy()\n",
    "x = data[predictors].copy()\n",
    "\n",
    "# add intercept\n",
    "x['intercept'] = np.ones(np.size(x, 0))\n",
    "\n",
    "# run L1-regularised logistic model\n",
    "res = dm.Logit(y, x).fit_regularized(disp=False, method='l1')\n",
    "t_values = res.tvalues.values\n",
    "\n",
    "# return list of predictor labels\n",
    "labels = list(x.columns)\n",
    "\n",
    "# tidy\n",
    "del y, x, res, t_values, labels, predictors, data"
   ],
   "metadata": {
    "collapsed": false,
    "pycharm": {
     "name": "#%%\n"
    }
   }
  },
  {
   "cell_type": "markdown",
   "source": [
    "And that describes how a single-participant model is fit."
   ],
   "metadata": {
    "collapsed": false
   }
  },
  {
   "cell_type": "markdown",
   "source": [
    "### Section 1.3: Running Logistic Models for All Participants\n",
    "Before running the logistic model for all participants, we define a function that runs the regression for us. Additional functionality has been added here to (1) run a linear model when reaction time is used as the outcome variable, and (2) exclude forgotten trials when assessing reaction time/confidence."
   ],
   "metadata": {
    "collapsed": false
   }
  },
  {
   "cell_type": "code",
   "execution_count": 8,
   "outputs": [],
   "source": [
    "# define logistic regression function\n",
    "def run_regression(df, predvar, outvar, recalledOnly=False, useLogit=True):\n",
    "    # df = dataframe of behavioural data\n",
    "    # predvar = list of predictor variables matching column names of 'df'\n",
    "    # outvar = string for outcome variable, matching column name of 'df'\n",
    "    # recalledOnly = boolean, determines whether to run data solely on recalled data\n",
    "    # useLogit = boolean, determines whether to run logistic or linear model\n",
    "\n",
    "    # restrict to recalled only (if requested)\n",
    "    if recalledOnly:\n",
    "        df = df.loc[df['recalled'] == 1, :].reset_index(drop=True)\n",
    "\n",
    "    # split data\n",
    "    yi = df[outvar].copy()\n",
    "    xi = df[predvar].copy()\n",
    "\n",
    "    # add intercept\n",
    "    xi['intercept'] = np.ones(np.size(xi, 0))\n",
    "\n",
    "    # run logistic model\n",
    "    if useLogit:\n",
    "        try:\n",
    "            r = dm.Logit(yi, xi).fit_regularized(disp=False, method='l1')\n",
    "            t = r.tvalues.values\n",
    "        except np.linalg.LinAlgError:\n",
    "            r = []\n",
    "            t = [np.nan] * (np.size(predictors) + 1)\n",
    "\n",
    "    # else, run linear regression\n",
    "    else:\n",
    "        r = sm.OLS(yi, xi).fit()\n",
    "        t = r.tvalues.values #res.params.values\n",
    "\n",
    "    # get predictor labels\n",
    "    s = list(xi.columns)\n",
    "\n",
    "    # tidy and return\n",
    "    del df, yi, xi, r, recalledOnly, useLogit, predvar, outvar\n",
    "    return t, s"
   ],
   "metadata": {
    "collapsed": false,
    "pycharm": {
     "name": "#%%\n"
    }
   }
  },
  {
   "cell_type": "markdown",
   "source": [
    "Define experiment-specific experiment details"
   ],
   "metadata": {
    "collapsed": false
   }
  },
  {
   "cell_type": "code",
   "execution_count": 9,
   "outputs": [],
   "source": [
    "# define number of participants/frequencies/models etc.\n",
    "n_pp = [44, 36]\n",
    "n_datasets = np.size(n_pp)\n",
    "n_freqs = [np.size(n) for n in flicker_freqs]\n",
    "n_outcomes = np.size(labels_outcome, 0)\n",
    "n_predictors = np.size(labels_predictor, 0)"
   ],
   "metadata": {
    "collapsed": false,
    "pycharm": {
     "name": "#%%\n"
    }
   }
  },
  {
   "cell_type": "markdown",
   "source": [
    "Dataframes for descriptive statistics (e.g., mean recall rate) and model outputs are predefined."
   ],
   "metadata": {
    "collapsed": false
   }
  },
  {
   "cell_type": "code",
   "execution_count": 10,
   "outputs": [],
   "source": [
    "# create group descriptives structure\n",
    "group_means = pd.DataFrame(index=np.arange(0, np.sum(n_pp)), columns=['dataset', 'pp', 'hit rate', 'recalled', 'rt'])\n",
    "\n",
    "# add in dataset/participant/model number\n",
    "group_means['dataset'] = np.concatenate([np.zeros(n_pp[i]) + i for i in np.arange(0, n_datasets)]).astype(int)\n",
    "group_means['pp'] = np.concatenate([np.arange(0, n_pp[i]) for i in np.arange(0, n_datasets)])\n",
    "\n",
    "# create group data structure\n",
    "group_models = pd.DataFrame(index=np.arange(0, np.sum(n_pp) * n_outcomes * n_predictors),\n",
    "                                columns=['dataset', 'pp', 'outcome', 'predictor', 'regressor_t', 'outlier'])\n",
    "\n",
    "# add in dataset/participant/model number\n",
    "group_models['dataset'] = np.concatenate(\n",
    "    [np.zeros(n_pp[i] * n_outcomes * n_predictors) + i for i in np.arange(0, n_datasets)]).astype(int)\n",
    "group_models['pp'] = np.concatenate(\n",
    "    [np.repeat(np.arange(0, n_pp[i]), n_outcomes * n_predictors) for i in np.arange(0, n_datasets)])\n",
    "group_models['outcome'] = np.tile(np.repeat(labels_outcome, n_predictors), sum(n_pp))\n",
    "group_models['predictor'] = np.tile(labels_predictor, sum(n_pp) * n_outcomes)"
   ],
   "metadata": {
    "collapsed": false,
    "pycharm": {
     "name": "#%%\n"
    }
   }
  },
  {
   "cell_type": "markdown",
   "source": [
    "Now, we run the big loop, fitting logistic models to each participant individually."
   ],
   "metadata": {
    "collapsed": false
   }
  },
  {
   "cell_type": "code",
   "execution_count": 11,
   "outputs": [
    {
     "name": "stdout",
     "output_type": "stream",
     "text": [
      "dataset-00, pp-00 complete...\n",
      "dataset-00, pp-01 complete...\n",
      "dataset-00, pp-02 complete...\n",
      "dataset-00, pp-03 complete...\n",
      "dataset-00, pp-04 complete...\n",
      "dataset-00, pp-05 complete...\n",
      "dataset-00, pp-06 complete...\n",
      "dataset-00, pp-07 complete...\n",
      "dataset-00, pp-08 complete...\n",
      "dataset-00, pp-09 complete...\n",
      "dataset-00, pp-10 complete...\n",
      "dataset-00, pp-11 complete...\n",
      "dataset-00, pp-12 complete...\n",
      "dataset-00, pp-13 complete...\n",
      "dataset-00, pp-14 complete...\n",
      "dataset-00, pp-15 complete...\n",
      "dataset-00, pp-16 complete...\n",
      "dataset-00, pp-17 complete...\n",
      "dataset-00, pp-18 complete...\n",
      "dataset-00, pp-19 complete...\n",
      "dataset-00, pp-20 complete...\n",
      "dataset-00, pp-21 complete...\n",
      "dataset-00, pp-22 complete...\n",
      "dataset-00, pp-23 complete...\n",
      "dataset-00, pp-24 complete...\n",
      "dataset-00, pp-25 complete...\n",
      "dataset-00, pp-26 complete...\n",
      "dataset-00, pp-27 complete...\n",
      "dataset-00, pp-28 complete...\n",
      "dataset-00, pp-29 complete...\n",
      "dataset-00, pp-30 complete...\n",
      "dataset-00, pp-31 complete...\n",
      "dataset-00, pp-32 complete...\n",
      "dataset-00, pp-33 complete...\n",
      "dataset-00, pp-34 complete...\n",
      "dataset-00, pp-35 complete...\n",
      "dataset-00, pp-36 complete...\n",
      "dataset-00, pp-37 complete...\n",
      "dataset-00, pp-38 complete...\n",
      "dataset-00, pp-39 complete...\n",
      "dataset-00, pp-40 complete...\n",
      "dataset-00, pp-41 complete...\n",
      "dataset-00, pp-42 complete...\n",
      "dataset-00, pp-43 complete...\n",
      "dataset-01, pp-00 complete...\n",
      "dataset-01, pp-01 complete...\n",
      "dataset-01, pp-02 complete...\n",
      "dataset-01, pp-03 complete...\n",
      "dataset-01, pp-04 complete...\n",
      "dataset-01, pp-05 complete...\n",
      "dataset-01, pp-06 complete...\n",
      "dataset-01, pp-07 complete...\n",
      "dataset-01, pp-08 complete...\n",
      "dataset-01, pp-09 complete...\n",
      "dataset-01, pp-10 complete...\n",
      "dataset-01, pp-11 complete...\n",
      "dataset-01, pp-12 complete...\n",
      "dataset-01, pp-13 complete...\n",
      "dataset-01, pp-14 complete...\n",
      "dataset-01, pp-15 complete...\n"
     ]
    },
    {
     "name": "stderr",
     "output_type": "stream",
     "text": [
      "/Users/ben/.conda/envs/harmonic-flicker/lib/python3.10/site-packages/statsmodels/discrete/discrete_model.py:1819: RuntimeWarning: overflow encountered in exp\n",
      "  return 1/(1+np.exp(-X))\n"
     ]
    },
    {
     "name": "stdout",
     "output_type": "stream",
     "text": [
      "dataset-01, pp-16 complete...\n",
      "dataset-01, pp-17 complete...\n",
      "dataset-01, pp-18 complete...\n",
      "dataset-01, pp-19 complete...\n",
      "dataset-01, pp-20 complete...\n",
      "dataset-01, pp-21 complete...\n",
      "dataset-01, pp-22 complete...\n",
      "dataset-01, pp-23 complete...\n",
      "dataset-01, pp-24 complete...\n",
      "dataset-01, pp-25 complete...\n",
      "dataset-01, pp-26 complete...\n",
      "dataset-01, pp-27 complete...\n",
      "dataset-01, pp-28 complete...\n",
      "dataset-01, pp-29 complete...\n",
      "dataset-01, pp-30 complete...\n",
      "dataset-01, pp-31 complete...\n",
      "dataset-01, pp-32 complete...\n",
      "dataset-01, pp-33 complete...\n",
      "dataset-01, pp-34 complete...\n",
      "dataset-01, pp-35 complete...\n"
     ]
    }
   ],
   "source": [
    "# cycle through datasets\n",
    "for dataset in np.arange(0, n_datasets):\n",
    "\n",
    "    # cycle through participants\n",
    "    for pp in np.arange(0, n_pp[dataset]):\n",
    "\n",
    "        # load data\n",
    "        filename = '{}/dataset-{:02.0f}/log_pp{:02.0f}.csv'.format(data_directory, dataset + 1, pp + 1)\n",
    "        data = pd.read_csv(filename)\n",
    "        del filename\n",
    "\n",
    "        # identify trials with missing data\n",
    "        noMemoryResponse = data.rt.isnull()\n",
    "        noConfidenceResponse = data.confidence.isnull()\n",
    "\n",
    "        # drop trials with missing data\n",
    "        data = data.drop(index=np.where(noMemoryResponse | noConfidenceResponse)[0])\n",
    "        data = data.reset_index(drop=True)\n",
    "        del noMemoryResponse, noConfidenceResponse\n",
    "\n",
    "        # relabel 'recalled' in data structure as 'hit rate' (as this is a more appropriate term)\n",
    "        data['hit rate'] = data['recalled'].copy()\n",
    "\n",
    "        # re-code memory performance as pre-registered (i.e., trial is a hit, and reported to not be a guess)\n",
    "        data['recalled'] = (data.recalled == 1) & (data.confidence != 'Vergessen').astype('int')\n",
    "\n",
    "        # store descriptives\n",
    "        idx = np.where((group_means['dataset'] == dataset) & (group_means['pp'] == pp))[0]\n",
    "        group_means.loc[idx, 'hit rate'] = np.mean(data['hit rate'])\n",
    "        group_means.loc[idx, 'recalled'] = np.mean(data['recalled'])\n",
    "        group_means.loc[idx, 'rt'] = np.mean(data['rt'])\n",
    "        del idx\n",
    "\n",
    "        # convert confidence ratings to binary (0 == guess/know, 1 == remember) [guesses will be excluded in this analysis]\n",
    "        data['confidence'] = (data['confidence'] == 'Erinnern').astype('int')\n",
    "\n",
    "        # z-score time-based parameters\n",
    "        data['rt'] = stats.zscore(data['rt'])\n",
    "        data['enc_onset'] = stats.zscore(data['enc_onset'])\n",
    "        data['ret_onset'] = stats.zscore(data['ret_onset'])\n",
    "\n",
    "        # dummy code flicker frequencies (excluding last value to avoid rank deficiency)\n",
    "        used_frequencies = []  # predefine list for regression predictors\n",
    "        for freq in np.arange(0, np.size(flicker_freqs[dataset]) - 1):\n",
    "            for i, j in zip(['encoding', 'retrieval'], ['enc_freq', 'ret_freq']):\n",
    "                label = '{}Hz_{}'.format(flicker_freqs[dataset][freq], i)  # define dataframe header\n",
    "                data[label] = (data[j] == (freq + 1)).astype('int')  # get binary match to target freq\n",
    "                used_frequencies.append(label)  # add label to predictor list\n",
    "                del label, i, j\n",
    "            del freq\n",
    "\n",
    "        # define additional regression variables\n",
    "        covariates = [['rt', 'enc_onset', 'ret_onset'], ['enc_onset', 'ret_onset'], ['rt', 'enc_onset', 'ret_onset']]\n",
    "        recalledOnly = [False, True, True]\n",
    "        useLogit = [True, False, True]\n",
    "\n",
    "        # cycle through outcomes\n",
    "        for model in range(n_outcomes):\n",
    "\n",
    "            # run logistic regression for memory recall\n",
    "            predictors = used_frequencies + covariates[model]\n",
    "            t_values, labels = run_regression(data, predictors, labels_outcome[model], recalledOnly[model], useLogit[model])\n",
    "\n",
    "            # add regressor results to group data\n",
    "            for i, j in zip(t_values, labels):\n",
    "                row_index = np.where((group_models['dataset'] == dataset) &\n",
    "                                     (group_models['pp'] == pp) &\n",
    "                                     (group_models['outcome'] == labels_outcome[model]) &\n",
    "                                     (group_models['predictor'] == j))[0]\n",
    "                column_index = np.where(group_models.columns == 'regressor_t')[0]\n",
    "                group_models.iloc[row_index, column_index] = i\n",
    "\n",
    "                # tidy loop variables\n",
    "                del row_index, column_index, i, j\n",
    "\n",
    "            # tidy loop variables\n",
    "            del predictors, t_values, labels, model\n",
    "\n",
    "        # update user\n",
    "        print('dataset-{:02.0f}, pp-{:02.0f} complete...'.format(dataset, pp))\n",
    "\n",
    "        # tidy workspace\n",
    "        del pp, covariates, recalledOnly, useLogit, data, used_frequencies\n",
    "\n",
    "    # tidy workspace\n",
    "    del dataset"
   ],
   "metadata": {
    "collapsed": false,
    "pycharm": {
     "name": "#%%\n"
    }
   }
  },
  {
   "cell_type": "markdown",
   "source": [
    "### Section 1.4: An Example One-Sample T-Test\n",
    "With the models run for every participant, it's time to run the group-level inferential statistics. First, we restrict the descriptives and model results to the relevant dataset, outcome variable and predictor"
   ],
   "metadata": {
    "collapsed": false
   }
  },
  {
   "cell_type": "code",
   "execution_count": 12,
   "outputs": [],
   "source": [
    "# get means for dataset\n",
    "sub_means = group_means.query(\"dataset == 0\").reset_index(drop=True)\n",
    "\n",
    "# get data for dataset/model\n",
    "sub_models = group_models.query(\"dataset == 0 and outcome == 'recalled' and predictor == '65Hz_retrieval'\").reset_index(drop=True)"
   ],
   "metadata": {
    "collapsed": false,
    "pycharm": {
     "name": "#%%\n"
    }
   }
  },
  {
   "cell_type": "markdown",
   "source": [
    "We then detect outliers based on memory performance (as pre-registered)."
   ],
   "metadata": {
    "collapsed": false
   }
  },
  {
   "cell_type": "code",
   "execution_count": 13,
   "outputs": [],
   "source": [
    "# prepare data\n",
    "sub_models = sub_models.reset_index(drop=True)\n",
    "sub_means = sub_means.reset_index(drop=True)\n",
    "pp_count = np.size(sub_models, axis=0)\n",
    "outliers = np.zeros(pp_count)  # predefine loop output\n",
    "\n",
    "# sequentially cycle through memory based criteria for each participant\n",
    "for pp in np.arange(0, pp_count):\n",
    "    if sub_means['hit rate'][pp] < 0.3:\n",
    "        outliers[pp] = 1\n",
    "    elif sub_means['recalled'][pp] < 0.2:\n",
    "        outliers[pp] = 2\n",
    "    elif sub_means['recalled'][pp] > 0.8:\n",
    "        outliers[pp] = 3\n",
    "    del pp\n",
    "\n",
    "# tidy up\n",
    "del sub_means, pp_count"
   ],
   "metadata": {
    "collapsed": false,
    "pycharm": {
     "name": "#%%\n"
    }
   }
  },
  {
   "cell_type": "markdown",
   "source": [
    "And subsequently detect MAD outliers, with floor/ceiling memory performers excluded (again, as pre-registered)."
   ],
   "metadata": {
    "collapsed": false
   }
  },
  {
   "cell_type": "code",
   "execution_count": 14,
   "outputs": [],
   "source": [
    "# extract values from data structure\n",
    "values = sub_models['regressor_t'].values.astype('float')  # extract values for this regressor\n",
    "\n",
    "# compute MAD outliers\n",
    "non_outlier_idx = np.where(outliers == 0)[0]\n",
    "non_outlier_values = values[non_outlier_idx]\n",
    "\n",
    "if all(np.isnan(non_outlier_values)) == 0:  # skip if empty\n",
    "    med = np.median(non_outlier_values)\n",
    "    mad = stats.median_abs_deviation(non_outlier_values, scale='normal')\n",
    "    mad_pps = ((non_outlier_values > (med + (mad * 3))) | (non_outlier_values < (med - (mad * 3)))).astype('int')\n",
    "    mad_pps[mad_pps == 1] = 4\n",
    "    outliers[non_outlier_idx] = mad_pps\n",
    "\n",
    "# tidy workspace\n",
    "del non_outlier_values, non_outlier_idx, med, mad, mad_pps"
   ],
   "metadata": {
    "collapsed": false,
    "pycharm": {
     "name": "#%%\n"
    }
   }
  },
  {
   "cell_type": "markdown",
   "source": [
    "We then run the one-sample t-test, and add key values to the 'results' dataframe."
   ],
   "metadata": {
    "collapsed": false
   }
  },
  {
   "cell_type": "code",
   "execution_count": 15,
   "outputs": [
    {
     "name": "stdout",
     "output_type": "stream",
     "text": [
      "65Hz > Baseline at Retrieval:\n",
      "t(33) = 3.22, p = 0.003\n"
     ]
    }
   ],
   "source": [
    "# get data of interest (excluding outliers)\n",
    "values = sub_models['regressor_t'][outliers == 0].astype('float')\n",
    "\n",
    "# run t-test\n",
    "df = np.size(values, axis=0) - 1  # get degrees of freedom\n",
    "t, p = stats.ttest_1samp(values, 0, alternative='two-sided')\n",
    "\n",
    "# print row\n",
    "print('65Hz > Baseline at Retrieval:\\nt({:d}) = {:2.2f}, p = {:3.3f}'.format(int(df), t, p))\n",
    "\n",
    "# tidy workspace\n",
    "del values, sub_models, df, t, p"
   ],
   "metadata": {
    "collapsed": false,
    "pycharm": {
     "name": "#%%\n"
    }
   }
  },
  {
   "cell_type": "markdown",
   "source": [
    "### Section 1.5: The Big Loop for Inferential Statistics\n",
    "First, we define a function to detect all outlier types."
   ],
   "metadata": {
    "collapsed": false
   }
  },
  {
   "cell_type": "code",
   "execution_count": 16,
   "outputs": [],
   "source": [
    "# identify MAD outliers\n",
    "def detect_outliers(models_in, means_in):\n",
    "\n",
    "    models_in = models_in.reset_index(drop=True)\n",
    "    means_in = means_in.reset_index(drop=True)\n",
    "    npps = np.size(models_in, axis=0)\n",
    "    outliers_out = np.zeros(npps)  # predefine loop output\n",
    "    vals = models_in['regressor_t'].values.astype('float')  # extract values for this regressor\n",
    "\n",
    "    # sequentially cycle through memory based criteria for each participant\n",
    "    for ppi in np.arange(0, npps):\n",
    "        if means_in['hit rate'][ppi] < 0.3:\n",
    "            outliers_out[ppi] = 1\n",
    "        elif means_in['recalled'][ppi] < 0.2:\n",
    "            outliers_out[ppi] = 2\n",
    "        elif means_in['recalled'][ppi] > 0.8:\n",
    "            outliers_out[ppi] = 3\n",
    "\n",
    "    # compute MAD outliers\n",
    "    non_out_idx = np.where(outliers_out == 0)[0]\n",
    "    non_out_values = vals[non_out_idx]\n",
    "\n",
    "    if all(np.isnan(non_out_values)) == 0:  # skip if empty\n",
    "        medi = np.median(non_out_values)\n",
    "        madi = stats.median_abs_deviation(non_out_values, scale='normal')\n",
    "        mads = ((non_out_values > (medi + (madi * 3))) | (non_out_values < (medi - (madi * 3)))).astype('int')\n",
    "        mads[mads == 1] = 4\n",
    "        outliers_out[non_out_idx] = mads\n",
    "\n",
    "    return outliers_out"
   ],
   "metadata": {
    "collapsed": false,
    "pycharm": {
     "name": "#%%\n"
    }
   }
  },
  {
   "cell_type": "markdown",
   "source": [
    "Create a dataframe that will house the statistical results"
   ],
   "metadata": {
    "collapsed": false
   }
  },
  {
   "cell_type": "code",
   "execution_count": 17,
   "outputs": [],
   "source": [
    "# predefine statistics output\n",
    "result_column_labels = ['dataset', 'outcome', 'predictor', 'mean', 'sem', 'd', 't', 'df', 'p', 'tost_pval', 'tost_tupp',\n",
    "                        'tost_lupp']\n",
    "results = pd.DataFrame(index=np.arange(0, n_datasets * n_outcomes * n_predictors), columns=result_column_labels)\n",
    "results['outcome'] = np.repeat(labels_outcome, n_predictors * n_datasets)\n",
    "results['dataset'] = np.tile(np.concatenate([np.zeros(n_predictors) + i for i in np.arange(0, n_datasets)]),\n",
    "                             n_outcomes).astype(int)\n",
    "results['predictor'] = np.tile(labels_predictor, n_datasets * n_outcomes)\n",
    "del result_column_labels\n",
    "\n",
    "# define side of tail\n",
    "tail = ['two-sided', 'greater']"
   ],
   "metadata": {
    "collapsed": false,
    "pycharm": {
     "name": "#%%\n"
    }
   }
  },
  {
   "cell_type": "markdown",
   "source": [
    "Then, we run our big loop."
   ],
   "metadata": {
    "collapsed": false
   }
  },
  {
   "cell_type": "code",
   "execution_count": 18,
   "outputs": [],
   "source": [
    "# cycle through datasets\n",
    "for dataset in np.arange(0, n_datasets):\n",
    "\n",
    "    # get means for dataset\n",
    "    sub_means = group_means.query(\"dataset == {}\".format(dataset)).reset_index(drop=True)\n",
    "\n",
    "    # cycle through outcomes and predictors\n",
    "    for outcome in labels_outcome:\n",
    "        for predictor in labels_predictor:\n",
    "\n",
    "            # get data for dataset/model\n",
    "            mod_query = \"dataset == {} and outcome == '{}' and predictor == '{}'\".format(dataset, outcome, predictor)\n",
    "            sub_models = group_models.query(mod_query).reset_index(drop=True)\n",
    "            del mod_query\n",
    "\n",
    "            # skip if all values are NaN\n",
    "            if all(np.isnan(sub_models['regressor_t'].values.astype('float'))): # skip if empty\n",
    "                continue\n",
    "\n",
    "            # detect outliers based on pre-registered criteria\n",
    "            outliers = detect_outliers(sub_models, sub_means)\n",
    "\n",
    "            # add outliers column to group data\n",
    "            idx = np.where((group_models['dataset'] == dataset) & (group_models['outcome'] == outcome) & \\\n",
    "                           (group_models['predictor'] == predictor))[0]\n",
    "            group_models.loc[idx, 'outlier'] = outliers.astype('int')\n",
    "            del idx\n",
    "\n",
    "            # get data of interest\n",
    "            values = sub_models['regressor_t'][outliers == 0].dropna().astype('float')\n",
    "            del sub_models, outliers\n",
    "\n",
    "            # get index in results DataFrame\n",
    "            row_index = np.where((results['dataset'] == dataset) & (results['outcome'] == outcome) &\n",
    "                                 (results['predictor'] == predictor))[0]\n",
    "\n",
    "            # get regressor descriptives\n",
    "            results.loc[row_index, 'mean'] = np.round(np.mean(values), 2)\n",
    "            results.loc[row_index, 'sem'] = np.round(np.std(values) / np.sqrt(np.size(values)), 2)\n",
    "            results.loc[row_index, 'd'] = np.round(np.mean(values) / np.std(values), 2)\n",
    "\n",
    "            # run t-test\n",
    "            results.loc[row_index, 'df'] = np.size(values, axis=0) - 1  # get degrees of freedom\n",
    "            results.loc[row_index, 't'], results.loc[row_index, 'p'] = stats.ttest_1samp(values, 0,\n",
    "                                                                                         alternative=tail[dataset])\n",
    "\n",
    "            # reduce significant figures\n",
    "            results.loc[row_index, 't'] = np.round(results.loc[row_index, 't'].astype('float'), 2)\n",
    "            results.loc[row_index, 'p'] = np.round(results.loc[row_index, 'p'].astype('float'), 3)\n",
    "\n",
    "            # correct p-values in dataset 1 to account for exploration\n",
    "            if (dataset == 0) & (predictor[2:4] == 'Hz'):\n",
    "                results.loc[row_index, 'p'] = results.loc[row_index, 'p']*6\n",
    "                if results.loc[row_index, 'p'].values.astype('float') > 1:\n",
    "                    results.loc[row_index, 'p'] = 1\n",
    "\n",
    "            # run TOST\n",
    "            thr = np.std(values) * 0.5\n",
    "            [p, t1, t2] = weightstats.ttost_paired(values, np.zeros(np.size(values)), -thr, thr)\n",
    "            results.loc[row_index, 'tost_pval'] = np.round(p, 3)\n",
    "            results.loc[row_index, 'tost_tupp'] = np.round(t1[0], 2)\n",
    "            results.loc[row_index, 'tost_lupp'] = np.round(t2[0], 2)\n",
    "            del p, t1, t2, thr, predictor, row_index, values\n",
    "        del outcome\n",
    "    del sub_means, dataset\n",
    "\n",
    "# drop contrasts with NaN results\n",
    "results = results.dropna(axis=0, how='any', inplace=False)\n",
    "results = results.reset_index(drop=True, inplace=False)\n",
    "del tail"
   ],
   "metadata": {
    "collapsed": false,
    "pycharm": {
     "name": "#%%\n"
    }
   }
  },
  {
   "cell_type": "markdown",
   "source": [
    "Then, we can print our results and see what we have."
   ],
   "metadata": {
    "collapsed": false
   }
  },
  {
   "cell_type": "code",
   "execution_count": 19,
   "outputs": [
    {
     "name": "stdout",
     "output_type": "stream",
     "text": [
      "    dataset     outcome       predictor     d      t  df      p\n",
      "0         0    recalled   33Hz_encoding  -0.1  -0.56  34      1\n",
      "1         0    recalled  33Hz_retrieval  0.87   5.08  34    0.0\n",
      "2         0    recalled   43Hz_encoding  0.15   0.86  34      1\n",
      "3         0    recalled  43Hz_retrieval -0.14  -0.84  34      1\n",
      "4         0    recalled   65Hz_encoding -0.01  -0.07  34      1\n",
      "5         0    recalled  65Hz_retrieval  0.56   3.22  33  0.018\n",
      "6         0    recalled              rt -2.31 -13.46  34    0.0\n",
      "7         0    recalled       enc_onset  0.85   4.93  34    0.0\n",
      "8         0    recalled       ret_onset -0.81   -4.7  34    0.0\n",
      "9         0    recalled       intercept  0.58   3.38  34  0.002\n",
      "10        1    recalled   65Hz_encoding -0.12  -0.62  28   0.73\n",
      "11        1    recalled  65Hz_retrieval  0.42   2.21  28  0.018\n",
      "12        1    recalled              rt -2.49 -13.17  28    1.0\n",
      "13        1    recalled       enc_onset  0.72   3.83  28    0.0\n",
      "14        1    recalled       ret_onset -0.76   -4.0  28    1.0\n",
      "15        1    recalled       intercept  0.78   4.12  28    0.0\n",
      "16        0          rt   33Hz_encoding  0.03   0.17  34      1\n",
      "17        0          rt  33Hz_retrieval -0.02  -0.11  34      1\n",
      "18        0          rt   43Hz_encoding  0.04   0.26  34      1\n",
      "19        0          rt  43Hz_retrieval -0.15  -0.88  33      1\n",
      "20        0          rt   65Hz_encoding -0.29  -1.71  34  0.576\n",
      "21        0          rt  65Hz_retrieval   0.1   0.57  34      1\n",
      "22        0          rt       enc_onset  0.73   4.26  34    0.0\n",
      "23        0          rt       ret_onset -1.46  -8.53  34    0.0\n",
      "24        0          rt       intercept -1.07  -6.27  34    0.0\n",
      "25        1          rt   65Hz_encoding -0.17  -0.88  28  0.807\n",
      "26        1          rt  65Hz_retrieval -0.02  -0.11  28  0.542\n",
      "27        1          rt       enc_onset  0.64    3.4  28  0.001\n",
      "28        1          rt       ret_onset -1.24  -6.55  28    1.0\n",
      "29        1          rt       intercept -0.98  -5.16  28    1.0\n",
      "30        0  confidence   33Hz_encoding  0.07   0.41  33      1\n",
      "31        0  confidence  33Hz_retrieval  0.05   0.29  33      1\n",
      "32        0  confidence   43Hz_encoding  0.13   0.77  33      1\n",
      "33        0  confidence  43Hz_retrieval  0.15   0.84  33      1\n",
      "34        0  confidence   65Hz_encoding -0.05   -0.3  33      1\n",
      "35        0  confidence  65Hz_retrieval -0.16  -0.93  33      1\n",
      "36        0  confidence              rt -1.11  -6.37  33    0.0\n",
      "37        0  confidence       enc_onset  0.44   2.54  33  0.016\n",
      "38        0  confidence       ret_onset -0.51  -2.94  33  0.006\n",
      "39        0  confidence       intercept  1.14   6.58  33    0.0\n",
      "40        1  confidence   65Hz_encoding -0.03  -0.18  27  0.571\n",
      "41        1  confidence  65Hz_retrieval -0.04   -0.2  27   0.58\n",
      "42        1  confidence              rt -0.01  -0.06  27  0.524\n",
      "43        1  confidence       enc_onset  0.02   0.12  27  0.453\n",
      "44        1  confidence       ret_onset -0.09  -0.49  28  0.685\n",
      "45        1  confidence       intercept  0.27   1.42  27  0.084\n",
      "    dataset     outcome       predictor tost_pval tost_tupp tost_lupp\n",
      "0         0    recalled   33Hz_encoding     0.012      2.36     -3.47\n",
      "1         0    recalled  33Hz_retrieval     0.981       8.0      2.17\n",
      "2         0    recalled   43Hz_encoding     0.024      3.77     -2.06\n",
      "3         0    recalled  43Hz_retrieval     0.023      2.08     -3.75\n",
      "4         0    recalled   65Hz_encoding     0.004      2.85     -2.98\n",
      "5         0    recalled  65Hz_retrieval     0.634      6.09      0.35\n",
      "6         0    recalled              rt       1.0    -10.55    -16.38\n",
      "7         0    recalled       enc_onset     0.974      7.85      2.02\n",
      "8         0    recalled       ret_onset     0.958     -1.78     -7.61\n",
      "9         0    recalled       intercept     0.678       6.3      0.47\n",
      "10        1    recalled   65Hz_encoding     0.026      2.02     -3.27\n",
      "11        1    recalled  65Hz_retrieval     0.333      4.86     -0.44\n",
      "12        1    recalled              rt       1.0    -10.52    -15.81\n",
      "13        1    recalled       enc_onset     0.877      6.48      1.19\n",
      "14        1    recalled       ret_onset     0.907     -1.36     -6.65\n",
      "15        1    recalled       intercept     0.924      6.77      1.47\n",
      "16        0          rt   33Hz_encoding     0.005      3.08     -2.75\n",
      "17        0          rt  33Hz_retrieval     0.004       2.8     -3.03\n",
      "18        0          rt   43Hz_encoding     0.006      3.18     -2.65\n",
      "19        0          rt  43Hz_retrieval     0.027      1.99     -3.75\n",
      "20        0          rt   65Hz_encoding     0.118       1.2     -4.63\n",
      "21        0          rt  65Hz_retrieval     0.012      3.48     -2.35\n",
      "22        0          rt       enc_onset     0.906      7.17      1.34\n",
      "23        0          rt       ret_onset       1.0     -5.61    -11.44\n",
      "24        0          rt       intercept     0.999     -3.35     -9.18\n",
      "25        1          rt   65Hz_encoding     0.044      1.77     -3.53\n",
      "26        1          rt  65Hz_retrieval     0.008      2.54     -2.75\n",
      "27        1          rt       enc_onset     0.771      6.04      0.75\n",
      "28        1          rt       ret_onset       1.0      -3.9     -9.19\n",
      "29        1          rt       intercept     0.991     -2.51     -7.81\n",
      "30        0  confidence   33Hz_encoding      0.01      3.28     -2.46\n",
      "31        0  confidence  33Hz_retrieval     0.007      3.16     -2.58\n",
      "32        0  confidence   43Hz_encoding     0.022      3.64      -2.1\n",
      "33        0  confidence  43Hz_retrieval     0.025      3.72     -2.03\n",
      "34        0  confidence   65Hz_encoding     0.007      2.57     -3.18\n",
      "35        0  confidence  65Hz_retrieval      0.03      1.94      -3.8\n",
      "36        0  confidence              rt     0.999      -3.5     -9.24\n",
      "37        0  confidence       enc_onset     0.373      5.42     -0.33\n",
      "38        0  confidence       ret_onset     0.527     -0.07     -5.81\n",
      "39        0  confidence       intercept       1.0      9.45       3.7\n",
      "40        1  confidence   65Hz_encoding     0.011      2.42     -2.78\n",
      "41        1  confidence  65Hz_retrieval     0.012      2.39      -2.8\n",
      "42        1  confidence              rt     0.009      2.54     -2.66\n",
      "43        1  confidence       enc_onset      0.01      2.72     -2.48\n",
      "44        1  confidence       ret_onset      0.02      2.16     -3.13\n",
      "45        1  confidence       intercept     0.124      4.02     -1.18\n"
     ]
    }
   ],
   "source": [
    "print(results.drop(['mean', 'sem', 'tost_pval', 'tost_lupp', 'tost_tupp'], axis=1))\n",
    "print(results.drop(['mean', 'sem', 'd', 't', 'df', 'p'], axis=1))"
   ],
   "metadata": {
    "collapsed": false,
    "pycharm": {
     "name": "#%%\n"
    }
   }
  },
  {
   "cell_type": "markdown",
   "source": [
    "Lastly, we save the data."
   ],
   "metadata": {
    "collapsed": false
   }
  },
  {
   "cell_type": "code",
   "execution_count": 20,
   "outputs": [],
   "source": [
    "# save table\n",
    "group_means.to_csv('{}/data_groupMeans.csv'.format(data_directory))\n",
    "group_models.to_csv('{}/data_groupModels.csv'.format(data_directory))\n",
    "results.to_csv('{}/data_groupResults.csv'.format(data_directory))"
   ],
   "metadata": {
    "collapsed": false,
    "pycharm": {
     "name": "#%%\n"
    }
   }
  },
  {
   "cell_type": "markdown",
   "source": [
    "### Section 1.6: Plotting the Data\n",
    "Here, we plot figure 1b and a few additional plots of the RT and confidence data"
   ],
   "metadata": {
    "collapsed": false
   }
  },
  {
   "cell_type": "code",
   "execution_count": 21,
   "outputs": [
    {
     "name": "stderr",
     "output_type": "stream",
     "text": [
      "The PostScript backend does not support transparency; partially transparent artists will be rendered opaque.\n"
     ]
    },
    {
     "data": {
      "text/plain": "<Figure size 393.701x157.48 with 1 Axes>",
      "image/png": "[encoded data removed]"
     },
     "metadata": {},
     "output_type": "display_data"
    }
   ],
   "source": [
    "# set pyplot defaults\n",
    "mpl.rcParams['font.family'] = 'Arial'\n",
    "mpl.rcParams['axes.linewidth'] = 1.5\n",
    "mpl.rcParams['ytick.major.width'] = 1.5\n",
    "mpl.rcParams['ytick.minor.width'] = 1.5\n",
    "mpl.rcParams['xtick.major.width'] = 1.5\n",
    "mpl.rcParams['xtick.minor.width'] = 1.5\n",
    "\n",
    "# set local defaults\n",
    "img_style = {'title': dict(fontsize=9, fontweight='bold'),\n",
    "             'axlabel': dict(fontsize=8),\n",
    "             'ticklabel': dict(fontsize=7, color='black')}\n",
    "\n",
    "# define inches-to-cm ration\n",
    "cm = 1 / 2.54\n",
    "\n",
    "# cycle through each condition\n",
    "for predictor in group_models['predictor'].unique():\n",
    "    for dataset in group_models['dataset'].unique():\n",
    "\n",
    "        # detect outliers and add to dataframe\n",
    "        models_index = np.where((group_models['dataset'] == dataset) & (group_models['outcome'] == 'recalled') &\n",
    "                                (group_models['predictor'] == predictor))[0]\n",
    "        means_index = np.where(group_means['dataset'] == dataset)[0]\n",
    "        group_models.loc[models_index, 'outlier'] = detect_outliers(group_models.loc[models_index, :],\n",
    "                                                                    group_means.loc[means_index, :]).astype('int')\n",
    "        del models_index, means_index, dataset\n",
    "    del predictor\n",
    "\n",
    "# convert types to work w/ pritprince\n",
    "group_models['dataset'] = group_models['dataset'].astype('category')\n",
    "\n",
    "# define colours\n",
    "pastels = np.array([[172, 202, 226], [157, 215, 157], [190, 173, 211]]) / 255\n",
    "enc_ret_pastels = np.vstack(([0.8, 0.8, 0.8], pastels[0, :], [0.8, 0.8, 0.8],\n",
    "                             pastels[1, :], [0.8, 0.8, 0.8], pastels[2, :]))\n",
    "enc_ret_palette = dict([(0, np.array([0.8, 0.8, 0.8])),\n",
    "                        (1, pastels[0, :]),\n",
    "                        (2, np.array([0.8, 0.8, 0.8])),\n",
    "                        (3, pastels[1, :]),\n",
    "                        (4, np.array([0.8, 0.8, 0.8])),\n",
    "                        (5, pastels[2, :])])\n",
    "dataset_palette = [[], []]\n",
    "dataset_palette[0] = dict([(0, np.array([0.8, 0.8, 0.8])),\n",
    "                           (1, np.array([0.8, 0.8, 0.8])),\n",
    "                           (2, np.array([0.8, 0.8, 0.8]))])\n",
    "dataset_palette[1] = dict([(0, pastels[0, :]),\n",
    "                           (1, pastels[1, :]),\n",
    "                           (2, pastels[2, :])])\n",
    "\n",
    "# create restricted dataframe\n",
    "frequencies = [33, 43, 65]\n",
    "df_all = [[], [], []]\n",
    "for i in [0, 1, 2]:\n",
    "    enc_label = str(frequencies[i]) + 'Hz_encoding'\n",
    "    ret_label = str(frequencies[i]) + 'Hz_retrieval'\n",
    "    labels = [enc_label, ret_label]\n",
    "    idx = np.where(((group_models['predictor'] == enc_label) | (group_models['predictor'] == ret_label)) &\n",
    "                   (group_models['outcome'] == 'recalled') & (group_models['dataset'] == 0))[0]\n",
    "    df = group_models.loc[idx, :].copy()\n",
    "    df['predictor'] = (df['predictor'] == labels[1]).astype('int') + (2*i)\n",
    "    df['dataset'] = np.floor(df['predictor']/2).astype('int')\n",
    "    df_all[i] = df.loc[df['outlier'] == 0, :]\n",
    "    del df, enc_label, ret_label, labels, idx, i\n",
    "\n",
    "df = pd.concat(df_all)\n",
    "df = df.reset_index(drop=True)\n",
    "df['predictor'] = df['predictor'].astype('category')\n",
    "df['dataset'] = df['dataset'].astype('category')\n",
    "df['regressor_t'] = df['regressor_t'].astype('float')\n",
    "df = df.dropna(axis=0)\n",
    "del frequencies, df_all\n",
    "\n",
    "# plot violin\n",
    "f, ax = plt.subplots(figsize=(10*cm, 4*cm))\n",
    "for i in np.arange(0, 6):\n",
    "\n",
    "    # get violin dataset\n",
    "    tmp = df.loc[df['predictor'] == i, :]\n",
    "    pt.half_violinplot(x='dataset', y='regressor_t', data=tmp, bw=0.4, scale=\"area\", width=0.4, inner=None,\n",
    "                       orient='v', ax=ax, dodge=False, saturation=1)\n",
    "    ax.collections[-1].set_color(enc_ret_pastels[i, :])\n",
    "    ax.collections[-1].set_alpha(0.5)\n",
    "    del tmp\n",
    "\n",
    "    # plot boxplot\n",
    "    xpos = np.floor(i/2) + ((i % 2)*0.12) - 0.05\n",
    "    plt.boxplot(df.loc[df['predictor'] == i, 'regressor_t'], positions=[xpos], widths=0.09, whis=100,\n",
    "                patch_artist=True, boxprops=dict(facecolor=enc_ret_pastels[i, :], edgecolor=[0.5, 0.5, 0.5], linewidth=1),\n",
    "                whiskerprops=dict(color=[0.5, 0.5, 0.5], linewidth=1), medianprops=dict(color=[0.5, 0.5, 0.5], linewidth=1),\n",
    "                capprops=dict(color=[1, 1, 1], linewidth=1))\n",
    "\n",
    "    # plot significance\n",
    "    if i == 5:\n",
    "        ax.scatter([xpos-0.015, xpos+0.015], [2.65, 2.65], marker='*', s=2, color='black')\n",
    "    elif i == 1:\n",
    "        ax.scatter([xpos-0.03, xpos, xpos+0.03], [2.65, 2.65, 2.65], marker='*', s=2, color='black')\n",
    "    del xpos\n",
    "\n",
    "    # plot scatter\n",
    "    num_items = len(ax.collections)\n",
    "    tmp = df.loc[df['predictor'] == i, :]\n",
    "    sns.swarmplot(x='dataset', y='regressor_t', data=tmp, ax=ax, size=1.4, palette=dataset_palette[(i % 2)])\n",
    "    for item in ax.collections[num_items:]:\n",
    "        offsets = item.get_offsets()\n",
    "        offsets[:, 0] = offsets[:, 0] + 0.2 + ((i % 2) * 0.1)\n",
    "        item.set_offsets(offsets)\n",
    "\n",
    "    # tidy up\n",
    "    del item, tmp, offsets, num_items, i\n",
    "\n",
    "# add custom legend\n",
    "x = 1.95\n",
    "y1 = -3.3\n",
    "y2 = -3.9\n",
    "rectangle = plt.Rectangle((x, y1), 0.15, 0.25, facecolor=enc_ret_pastels[0, :])\n",
    "ax.add_patch(rectangle)\n",
    "ax.text(x=x+.17, y=y1, s='Encoding', **dict(fontsize=6))\n",
    "p = plt.Polygon(np.array([[x, y2], [x+.075, y2+.25], [x, y2+.25]]), closed=False, facecolor=enc_ret_pastels[1, :])\n",
    "ax.add_patch(p)\n",
    "p = plt.Polygon(np.array([[x, y2], [x+.075, y2], [x+.15, y2+.25], [x+.075, y2+.25]]), closed=False,\n",
    "                facecolor=enc_ret_pastels[3, :])\n",
    "ax.add_patch(p)\n",
    "p = plt.Polygon(np.array([[x+.075, y2], [x+.15, y2+.25], [x+.15, y2]]), closed=False, facecolor=enc_ret_pastels[5, :])\n",
    "ax.add_patch(p)\n",
    "ax.text(x=x+.17, y=y2, s='Retrieval', **dict(fontsize=6))\n",
    "\n",
    "# pretty up plot\n",
    "ax.plot([-0.55, 2.5], [0, 0], color='black', zorder=100)\n",
    "ax.spines.right.set_visible(False)\n",
    "ax.spines.top.set_visible(False)\n",
    "ax.spines.bottom.set_visible(False)\n",
    "ax.spines.left.set_linewidth(1.2)\n",
    "ax.tick_params(axis='x', colors='white')\n",
    "ax.tick_params(axis='y', width=1.2)\n",
    "ax.set_xlim(-0.55, 2.5)\n",
    "ax.set_ylim([-4, 4])\n",
    "yticks = np.arange(4, 4.1).astype('int')\n",
    "ax.set_yticks(yticks)\n",
    "str_ticks = yticks.astype('str')\n",
    "for t in np.arange(0, np.size(str_ticks)):\n",
    "    if (str_ticks[t] != '-4') and (str_ticks[t] != '4') and (str_ticks[t] != '0'):\n",
    "        str_ticks[t] = ''\n",
    "ax.set_yticklabels(str_ticks, **img_style['ticklabel'])\n",
    "ax.set_xticks(np.arange(0.05, 2.2, 1))\n",
    "ax.set_xticklabels(['32.5Hz', '43.3Hz', '65Hz'], **img_style['ticklabel'])\n",
    "ax.set_xlabel('')\n",
    "ax.set_ylabel('Flicker > Baseline (t)', **img_style['axlabel'])\n",
    "ax.set_title('Stimulation-induced change in recall', pad=6, **img_style['title'])\n",
    "plt.savefig(\"{}/figures/exp1_recalled_performance.eps\".format(data_directory), dpi=500,\n",
    "            bbox_inches='tight', pad_inches=0, facecolor=[1, 1, 1])\n",
    "\n",
    "# tidy up\n",
    "del f, ax, t, str_ticks, yticks, p, rectangle, x, y1, y2, df"
   ],
   "metadata": {
    "collapsed": false,
    "pycharm": {
     "name": "#%%\n"
    }
   }
  },
  {
   "cell_type": "markdown",
   "source": [
    "We can then plot figure 1E."
   ],
   "metadata": {
    "collapsed": false
   }
  },
  {
   "cell_type": "code",
   "execution_count": 22,
   "outputs": [
    {
     "name": "stderr",
     "output_type": "stream",
     "text": [
      "The PostScript backend does not support transparency; partially transparent artists will be rendered opaque.\n"
     ]
    },
    {
     "data": {
      "text/plain": "<Figure size 145.669x157.48 with 1 Axes>",
      "image/png": "[encoded data removed]"
     },
     "metadata": {},
     "output_type": "display_data"
    }
   ],
   "source": [
    "# define colours\n",
    "pastels = np.array([[190, 173, 211], [249, 202, 159], [218, 169, 182]]) / 255\n",
    "enc_ret_pastels = np.vstack(([0.8, 0.8, 0.8], pastels[0, :], [0.8, 0.8, 0.8],\n",
    "                             pastels[1, :], [0.8, 0.8, 0.8], pastels[2, :]))\n",
    "enc_ret_palette = dict([(0, np.array([0.8, 0.8, 0.8])),\n",
    "                        (1, pastels[0, :]),\n",
    "                        (2, np.array([0.8, 0.8, 0.8])),\n",
    "                        (3, pastels[1, :]),\n",
    "                        (4, np.array([0.8, 0.8, 0.8])),\n",
    "                        (5, pastels[2, :])])\n",
    "dataset_palette = [[], []]\n",
    "dataset_palette[0] = dict([(0, np.array([0.8, 0.8, 0.8])),\n",
    "                           (1, np.array([0.8, 0.8, 0.8])),\n",
    "                           (2, np.array([0.8, 0.8, 0.8]))])\n",
    "dataset_palette[1] = dict([(0, pastels[0, :]),\n",
    "                           (1, pastels[1, :]),\n",
    "                           (2, pastels[2, :])])\n",
    "\n",
    "\n",
    "# create restricted dataframe\n",
    "idx = np.where(((group_models['predictor'] == '65Hz_encoding') | (group_models['predictor'] == '65Hz_retrieval')) &\n",
    "               (group_models['outcome'] == 'recalled') & (group_models['dataset'] == 1))[0]\n",
    "df = group_models.loc[idx, :].copy()\n",
    "df['predictor'] = (df['predictor'] == '65Hz_retrieval').astype('int')\n",
    "df['dataset'] = np.floor(df['predictor']/2).astype('int')\n",
    "df = df.loc[df['outlier'] == 0, :]\n",
    "df = df.reset_index(drop=True)\n",
    "df['predictor'] = df['predictor'].astype('category')\n",
    "df['dataset'] = df['dataset'].astype('category')\n",
    "df['regressor_t'] = df['regressor_t'].astype('float')\n",
    "df = df.dropna(axis=0)\n",
    "del idx\n",
    "\n",
    "# plot violin\n",
    "f, ax = plt.subplots(figsize=(3.7*cm, 4*cm))\n",
    "for i in np.arange(0, 2):\n",
    "\n",
    "    # get violin dataset\n",
    "    tmp = df.loc[df['predictor'] == i, :]\n",
    "    pt.half_violinplot(x='dataset', y='regressor_t', data=tmp, bw=0.4, scale=\"area\", width=0.4, inner=None,\n",
    "                       orient='v', ax=ax, dodge=False, saturation=1)\n",
    "    ax.collections[-1].set_color(enc_ret_pastels[i, :])\n",
    "    ax.collections[-1].set_alpha(0.5)\n",
    "\n",
    "    xpos = np.round(np.floor(i/2) + ((i % 2)*0.12) - 0.05, decimals=2)\n",
    "    plt.boxplot(df.loc[df['predictor'] == i, 'regressor_t'], positions=[xpos], widths=0.09, whis=100,\n",
    "                patch_artist=True, boxprops=dict(facecolor=enc_ret_pastels[i, :], edgecolor=[0.5, 0.5, 0.5], linewidth=1),\n",
    "                whiskerprops=dict(color=[0.5, 0.5, 0.5], linewidth=1), medianprops=dict(color=[0.5, 0.5, 0.5], linewidth=1),\n",
    "                capprops=dict(color=[1, 1, 1], linewidth=1))\n",
    "\n",
    "    # plot significance\n",
    "    if i == 1:\n",
    "        ax.scatter([xpos], [2.9], marker='*', s=2, color='black')\n",
    "\n",
    "    # plot scatter\n",
    "    num_items = len(ax.collections)\n",
    "    sns.swarmplot(x='dataset', y='regressor_t', data=tmp, ax=ax, size=1.4, palette=dataset_palette[(i % 2)])\n",
    "    for item in ax.collections[num_items:]:\n",
    "        offsets = item.get_offsets()\n",
    "        offsets[:, 0] = offsets[:, 0] + 0.2 + ((i % 2) * 0.1)\n",
    "        item.set_offsets(offsets)\n",
    "        del item, offsets\n",
    "\n",
    "    # tidy workspace\n",
    "    del tmp, num_items, i, xpos\n",
    "\n",
    "# add custom legend\n",
    "x = -0.05\n",
    "y1 = -3.2\n",
    "y2 = -3.8\n",
    "rectangle = plt.Rectangle((x, y1), 0.15, 0.25, facecolor=enc_ret_pastels[0, :])\n",
    "ax.add_patch(rectangle)\n",
    "ax.text(x=x+.17, y=y1, s='Encoding', **dict(fontsize=7))\n",
    "rectangle = plt.Rectangle((x, y2), 0.15, 0.25, facecolor=enc_ret_pastels[1, :])\n",
    "ax.add_patch(rectangle)\n",
    "ax.text(x=x+.17, y=y2, s='Retrieval', **dict(fontsize=7))\n",
    "\n",
    "ax.plot([-0.55, 0.5], [0, 0], color='black', zorder=100)\n",
    "ax.spines.right.set_visible(False)\n",
    "ax.spines.top.set_visible(False)\n",
    "ax.spines.bottom.set_visible(False)\n",
    "ax.spines.left.set_linewidth(1.2)\n",
    "ax.tick_params(axis='x', colors='white')\n",
    "ax.tick_params(axis='y', width=1.2)\n",
    "ax.set_xlim(-0.5, 0.5)\n",
    "ax.set_ylim([-4, 4])\n",
    "ax.set_yticks(np.arange(-4, 4.1, 2))\n",
    "ax.set_yticklabels(['-4', '', '0', '', '4'], **img_style['ticklabel'])\n",
    "ax.set_xticks([0.05])\n",
    "ax.set_xticklabels(['65Hz'], **img_style['ticklabel'])\n",
    "ax.set_xlabel('')\n",
    "ax.set_ylabel('Flicker > Baseline (t)', **img_style['axlabel'])\n",
    "ax.set_title('Stim.-induced recall', pad=6,**img_style['title'])\n",
    "plt.savefig(\"{}/figures/exp2_performance.eps\".format(data_directory), dpi=500, bbox_inches='tight', pad_inches=0, facecolor=[1, 1, 1])\n",
    "\n",
    "# tidy workspace\n",
    "del f, ax, rectangle, x, y1, y2, df"
   ],
   "metadata": {
    "collapsed": false,
    "pycharm": {
     "name": "#%%\n"
    }
   }
  },
  {
   "cell_type": "markdown",
   "source": [
    "And figure 1c..."
   ],
   "metadata": {
    "collapsed": false
   }
  },
  {
   "cell_type": "code",
   "execution_count": 23,
   "outputs": [
    {
     "data": {
      "text/plain": "<Figure size 393.701x157.48 with 3 Axes>",
      "image/png": "[encoded data removed]"
     },
     "metadata": {},
     "output_type": "display_data"
    }
   ],
   "source": [
    "# cycle through each condition\n",
    "for predictor in group_models['predictor'].unique():\n",
    "    for dataset in group_models['dataset'].unique():\n",
    "\n",
    "        # detect outliers and add to dataframe\n",
    "        models_index = np.where((group_models['dataset'] == dataset) & (group_models['outcome'] == 'recalled') &\n",
    "                                (group_models['predictor'] == predictor))[0]\n",
    "        means_index = np.where(group_means['dataset'] == dataset)[0]\n",
    "        group_models.loc[models_index, 'outlier'] = detect_outliers(group_models.loc[models_index, :],\n",
    "                                                                    group_means.loc[means_index, :]).astype('int')\n",
    "        del dataset, models_index, means_index\n",
    "    del predictor\n",
    "\n",
    "# create restricted dataframe\n",
    "frequencies = [65, 43, 33]\n",
    "df_all = [[], [], []]\n",
    "for i in [0, 1, 2]:\n",
    "    ret_label = str(frequencies[i]) + 'Hz_retrieval'\n",
    "    idx = np.where((group_models['predictor'] == ret_label) & (group_models['outcome'] == 'recalled') & (group_models['dataset'] == 0))[0]\n",
    "    df = group_models.loc[idx, :].copy()\n",
    "    df_all[i] = df\n",
    "    del df, ret_label, idx, i\n",
    "\n",
    "# combine dataframe and drop outliers\n",
    "df = pd.concat(df_all)\n",
    "good_pps = []\n",
    "for pp in np.unique(df['pp']):\n",
    "    good_pps.append(all(df.loc[df['pp'] == pp, 'outlier'] == 0))\n",
    "df = df.loc[np.tile(good_pps, 3), :].reset_index(drop=True)\n",
    "del df_all, good_pps, pp\n",
    "\n",
    "# cycle through pairings\n",
    "freqs_df = ['65', '43', '33']\n",
    "freqs_true = ['65', '43.3', '32.5']\n",
    "f, ax = plt.subplots(nrows=1, ncols=3, figsize=(10*cm, 4*cm))\n",
    "f.set_tight_layout(True)\n",
    "count = 0\n",
    "for xi in np.arange(0, np.size(freqs_df)):\n",
    "    for yi in np.arange(xi+1, np.size(freqs_df)):\n",
    "\n",
    "        # get df\n",
    "        x = df.loc[df.predictor == freqs_df[xi] + 'Hz_retrieval', 'regressor_t']\n",
    "        y = df.loc[df.predictor == freqs_df[yi] + 'Hz_retrieval', 'regressor_t']\n",
    "\n",
    "        # get correlation + line of best fit\n",
    "        r, p = stats.pearsonr(x, y)\n",
    "        res = sm.OLS(y.to_list(), x.to_list()).fit()\n",
    "        lob = [-2, 3] * res.params\n",
    "\n",
    "        # plot correlation\n",
    "        ax[count].scatter(x, y, s=2.5, facecolor=[0.6, 0.6, 0.6])\n",
    "        ax[count].set_aspect('equal', 'box')\n",
    "        ax[count].plot([-2, 3], lob, color=[1, 0.41, 0.38], zorder=100)\n",
    "        ax[count].plot([0, 0], [-2, 3], color='black')\n",
    "        ax[count].plot([-2, 3], [0, 0], color='black')\n",
    "        ax[count].set_xlim([-2, 3])\n",
    "        ax[count].set_ylim([-2, 3])\n",
    "        ax[count].spines.right.set_visible(False)\n",
    "        ax[count].spines.top.set_visible(False)\n",
    "        ax[count].spines.left.set_linewidth(1.2)\n",
    "        ax[count].spines.bottom.set_linewidth(1.2)\n",
    "        ax[count].tick_params(axis='both', width=1.2)\n",
    "        ax[count].set_xticks([-2, 0, 3])\n",
    "        ax[count].set_yticks([-2, 0, 3])\n",
    "        ax[count].set_xticklabels(['-2', '0', '3'], **img_style['ticklabel'])\n",
    "        ax[count].set_yticklabels(['-2', '0', '3'], **img_style['ticklabel'])\n",
    "        ax[count].set_ylabel(str(freqs_true[yi]) + 'Hz > Base. (t)', labelpad=2, **img_style['axlabel'])\n",
    "        ax[count].set_xlabel(str(freqs_true[xi]) + 'Hz > Base. (t)', labelpad=3, **img_style['axlabel'])\n",
    "        ax[count].set_title('r = {:2.2f}, p = {:3.3f}'.format(r, p),\n",
    "                            **dict(fontsize=img_style['axlabel']['fontsize']-1, fontstyle='italic'))\n",
    "        count += 1\n",
    "        del yi, x, y, r, p, res, lob\n",
    "    del xi\n",
    "\n",
    "plt.savefig(\"{}/figures/exp1_correlations.eps\".format(data_directory), dpi=500, bbox_inches='tight', pad_inches=0,\n",
    "            facecolor=[1, 1, 1])\n",
    "\n",
    "# tidy up\n",
    "del f, ax, count, freqs_true, freqs_df, df, frequencies"
   ],
   "metadata": {
    "collapsed": false,
    "pycharm": {
     "name": "#%%\n"
    }
   }
  },
  {
   "cell_type": "markdown",
   "source": [
    "Tidy workspace"
   ],
   "metadata": {
    "collapsed": false
   }
  },
  {
   "cell_type": "code",
   "execution_count": 24,
   "outputs": [],
   "source": [
    "del cm, dataset_palette, enc_ret_palette, enc_ret_pastels, pastels, results, img_style\n",
    "del labels_frequency, labels_outcome, labels_predictor, n_datasets, n_freqs, n_outcomes, n_pp, n_predictors, group_means, \\\n",
    "    group_models, flicker_freqs"
   ],
   "metadata": {
    "collapsed": false,
    "pycharm": {
     "name": "#%%\n"
    }
   }
  },
  {
   "cell_type": "markdown",
   "source": [
    "## Section 2: Raw Performance\n",
    "In this section, we aim to conceptually replicate the results of Section 1 using raw memory performance in place of participant-specific logistic models."
   ],
   "metadata": {
    "collapsed": false
   }
  },
  {
   "cell_type": "markdown",
   "source": [
    "We begin by (re-)defining a few key parameters and creating a dataframe that will retain behavioural performance of each participant"
   ],
   "metadata": {
    "collapsed": false
   }
  },
  {
   "cell_type": "code",
   "execution_count": 25,
   "outputs": [],
   "source": [
    "# define flicker/model labels\n",
    "flicker_freqs = [[65, 43, 33, 0],\n",
    "                 [65, 0]]\n",
    "\n",
    "# define number of participants/frequencies/models etc.\n",
    "n_datasets = 2\n",
    "n_pp = [44, 36]\n",
    "\n",
    "# create group descriptives structure\n",
    "group_means = pd.DataFrame(index=np.arange(0, np.sum(n_pp)),\n",
    "                               columns=['dataset', 'pp', 'recalled_65Hz', 'recalled_43Hz', 'recalled_33Hz', 'outlier'])\n",
    "\n",
    "# add in dataset/participant/model number\n",
    "group_means['dataset'] = np.concatenate([np.zeros(n_pp[i]) + i for i in np.arange(0, n_datasets)]).astype(int)\n",
    "group_means['pp'] = np.concatenate([np.arange(0, n_pp[i]) for i in np.arange(0, n_datasets)])"
   ],
   "metadata": {
    "collapsed": false,
    "pycharm": {
     "name": "#%%\n"
    }
   }
  },
  {
   "cell_type": "markdown",
   "source": [
    "Next, we re-run our big loop. This time, however, the logistic models are replaced by a simple loop that computes mean recall performance given the flicker at retrieval, which is then scaled based on baseline performance."
   ],
   "metadata": {
    "collapsed": false
   }
  },
  {
   "cell_type": "code",
   "execution_count": 26,
   "outputs": [],
   "source": [
    "# cycle through datasets\n",
    "count = 0\n",
    "for dataset in np.arange(0, n_datasets):\n",
    "\n",
    "    # cycle through participants\n",
    "    for pp in np.arange(0, n_pp[dataset]):\n",
    "\n",
    "        # load data\n",
    "        filename = '{}/dataset-{:02.0f}/log_pp{:02.0f}.csv'.format(data_directory, dataset + 1, pp + 1)\n",
    "        data = pd.read_csv(filename)\n",
    "        outlier = 0\n",
    "        del filename\n",
    "\n",
    "        # identify trials with missing data\n",
    "        noMemoryResponse = data.rt.isnull()\n",
    "        noConfidenceResponse = data.confidence.isnull()\n",
    "\n",
    "        # drop trials with missing data\n",
    "        data = data.drop(index=np.where(noMemoryResponse | noConfidenceResponse)[0])\n",
    "        data = data.reset_index(drop=True)\n",
    "        del noMemoryResponse, noConfidenceResponse\n",
    "\n",
    "        # determine <30% outliers\n",
    "        if np.mean(data['recalled']) <= 0.3:\n",
    "            outlier = 1\n",
    "\n",
    "        # re-code memory performance as pre-registered (i.e., trial is a hit, and reported to not be a guess)\n",
    "        data['recalled'] = (((data.recalled == 1) & (data.confidence != 'Vergessen'))).astype('int')\n",
    "\n",
    "        # determine <20% / >80% outliers\n",
    "        if (np.mean(data['recalled']) <= 0.2) | (np.mean(data['recalled']) >= 0.8):\n",
    "            outlier = 1\n",
    "\n",
    "        # cycle through each frequency\n",
    "        n_freqs = np.size(flicker_freqs[dataset])\n",
    "        baseline = np.sum(data.loc[data['ret_freq']==n_freqs, 'recalled'])\n",
    "        for freq in np.arange(0, np.size(flicker_freqs[dataset])-1):\n",
    "            colstr = ['recalled_' + str(flicker_freqs[dataset][freq]) + 'Hz']\n",
    "            group_means.loc[count, colstr] = (np.sum(data.loc[data['ret_freq']==(freq+1), 'recalled']) - baseline) / baseline\n",
    "            del colstr, freq\n",
    "        del n_freqs, baseline\n",
    "\n",
    "        # add in outlier info\n",
    "        group_means.loc[count, 'outlier'] = outlier\n",
    "        del outlier\n",
    "\n",
    "        # update counter\n",
    "        count += 1\n",
    "\n",
    "        # tidy up\n",
    "        del pp, data\n",
    "    del dataset\n",
    "del count"
   ],
   "metadata": {
    "collapsed": false,
    "pycharm": {
     "name": "#%%\n"
    }
   }
  },
  {
   "cell_type": "markdown",
   "source": [
    "We can then run the statistics in the same manner as before."
   ],
   "metadata": {
    "collapsed": false
   }
  },
  {
   "cell_type": "code",
   "execution_count": 27,
   "outputs": [
    {
     "data": {
      "text/plain": "   dataset predictor      mean       sem         d         t  df         p\n0        0      33Hz    0.0877  0.023115  0.650679  3.737864  33   0.00422\n1        0      43Hz -0.026427  0.020485 -0.221247 -1.270966  33  1.275764\n2        0      65Hz  0.058079  0.019325  0.523185  2.959579  32  0.034546\n3        1      65Hz  0.058094  0.018812  0.573438  3.034351  28  0.002579",
      "text/html": "<div>\n<style scoped>\n    .dataframe tbody tr th:only-of-type {\n        vertical-align: middle;\n    }\n\n    .dataframe tbody tr th {\n        vertical-align: top;\n    }\n\n    .dataframe thead th {\n        text-align: right;\n    }\n</style>\n<table border=\"1\" class=\"dataframe\">\n  <thead>\n    <tr style=\"text-align: right;\">\n      <th></th>\n      <th>dataset</th>\n      <th>predictor</th>\n      <th>mean</th>\n      <th>sem</th>\n      <th>d</th>\n      <th>t</th>\n      <th>df</th>\n      <th>p</th>\n    </tr>\n  </thead>\n  <tbody>\n    <tr>\n      <th>0</th>\n      <td>0</td>\n      <td>33Hz</td>\n      <td>0.0877</td>\n      <td>0.023115</td>\n      <td>0.650679</td>\n      <td>3.737864</td>\n      <td>33</td>\n      <td>0.00422</td>\n    </tr>\n    <tr>\n      <th>1</th>\n      <td>0</td>\n      <td>43Hz</td>\n      <td>-0.026427</td>\n      <td>0.020485</td>\n      <td>-0.221247</td>\n      <td>-1.270966</td>\n      <td>33</td>\n      <td>1.275764</td>\n    </tr>\n    <tr>\n      <th>2</th>\n      <td>0</td>\n      <td>65Hz</td>\n      <td>0.058079</td>\n      <td>0.019325</td>\n      <td>0.523185</td>\n      <td>2.959579</td>\n      <td>32</td>\n      <td>0.034546</td>\n    </tr>\n    <tr>\n      <th>3</th>\n      <td>1</td>\n      <td>65Hz</td>\n      <td>0.058094</td>\n      <td>0.018812</td>\n      <td>0.573438</td>\n      <td>3.034351</td>\n      <td>28</td>\n      <td>0.002579</td>\n    </tr>\n  </tbody>\n</table>\n</div>"
     },
     "execution_count": 27,
     "metadata": {},
     "output_type": "execute_result"
    }
   ],
   "source": [
    "# predefine statistics output\n",
    "result_column_labels = ['dataset', 'predictor', 'mean', 'sem', 'd', 't', 'df', 'p']\n",
    "results = pd.DataFrame(index=np.arange(0, n_datasets * 3),\n",
    "                           columns=result_column_labels)\n",
    "results['dataset'] = [0, 0, 0, 1, 1, 1]\n",
    "results['predictor'] = np.tile(['33Hz', '43Hz', '65Hz'], n_datasets)\n",
    "del result_column_labels\n",
    "\n",
    "# cycle through datasets\n",
    "tail = ['two-sided', 'greater']\n",
    "for dataset in np.arange(0, n_datasets):\n",
    "\n",
    "    # cycle through frequencies\n",
    "    for freq in ['33Hz', '43Hz', '65Hz']:\n",
    "\n",
    "        # get index of condition\n",
    "        row_index = np.where((results['dataset'] == dataset) & (results['predictor'] == freq))[0]\n",
    "\n",
    "        # get pct change values\n",
    "        values = group_means.loc[(group_means['dataset'] == dataset) & (group_means['outlier'] == 0), 'recalled_'+freq].values.astype('float')\n",
    "\n",
    "        # compute MAD outliers\n",
    "        med = np.median(values)\n",
    "        mad = stats.median_abs_deviation(values, scale='normal')\n",
    "        good_pps = ((values > (med + (mad * 3))) | (values < (med - (mad * 3)))) == False\n",
    "        values = values[good_pps]\n",
    "        del good_pps, med, mad\n",
    "\n",
    "        # get regressor descriptives\n",
    "        results.loc[row_index, 'mean'] = np.mean(values)\n",
    "        results.loc[row_index, 'sem'] = np.std(values) / np.sqrt(np.size(values))\n",
    "        results.loc[row_index, 'd'] = np.mean(values) / np.std(values)\n",
    "\n",
    "        # run t-test\n",
    "        results.loc[row_index, 'df'] = np.size(values, axis=0) - 1  # get degrees of freedom\n",
    "        results.loc[row_index, 't'], results.loc[row_index, 'p'] = stats.ttest_1samp(values, 0, alternative=tail[dataset])\n",
    "\n",
    "        # correct test if exp. 1\n",
    "        if dataset == 0:\n",
    "            results.loc[row_index, 'p'] = results.loc[row_index, 'p']*6\n",
    "\n",
    "        # tidy workspace\n",
    "        del freq, values, row_index\n",
    "    del dataset\n",
    "\n",
    "# drop contrasts with NaN results\n",
    "results = results.dropna(axis=0, how='any', inplace=False)\n",
    "results = results.reset_index(drop=True, inplace=False)\n",
    "\n",
    "# print results\n",
    "results"
   ],
   "metadata": {
    "collapsed": false,
    "pycharm": {
     "name": "#%%\n"
    }
   }
  },
  {
   "cell_type": "markdown",
   "source": [
    "Tidy up workspace"
   ],
   "metadata": {
    "collapsed": false
   }
  },
  {
   "cell_type": "code",
   "execution_count": 28,
   "outputs": [],
   "source": [
    "# tidy up\n",
    "del flicker_freqs, group_means, n_datasets, n_pp, results, tail"
   ],
   "metadata": {
    "collapsed": false,
    "pycharm": {
     "name": "#%%\n"
    }
   }
  },
  {
   "cell_type": "markdown",
   "source": [
    "Thus ends the section."
   ],
   "metadata": {
    "collapsed": false
   }
  },
  {
   "cell_type": "markdown",
   "source": [
    "## Section 3: Flicker Perception\n",
    "In this section, the first two experiments are analysed to see if participants could detect the flickering screens. As the way the perception tasks were set up for the two experiments are fundamentally different, the analyses are conducted separately too."
   ],
   "metadata": {
    "collapsed": false
   }
  },
  {
   "cell_type": "markdown",
   "source": [
    "### Section 3.1: Analysis Example\n",
    "We begin with a single participant example. Below, we read in the data and drop the missing trials."
   ],
   "metadata": {
    "collapsed": false
   }
  },
  {
   "cell_type": "code",
   "execution_count": 29,
   "outputs": [],
   "source": [
    "# define participant\n",
    "pp = 10\n",
    "\n",
    "# load data\n",
    "filename = '{}/dataset-01/perception_pp{:02.0f}.csv'.format(data_directory, pp + 1)\n",
    "data = pd.read_csv(filename)\n",
    "del pp, filename\n",
    "\n",
    "# drop nans\n",
    "data = data.dropna(axis=0, how='any')\n",
    "data = data.reset_index(drop=True)"
   ],
   "metadata": {
    "collapsed": false,
    "pycharm": {
     "name": "#%%\n"
    }
   }
  },
  {
   "cell_type": "markdown",
   "source": [
    "In this example, we then compare 65Hz to the no-flicker condition and determine mean accuracy as the percentage of times when the participants correctly deduced whether the screen was flickering or not. To determine if performance was significantly greater than chance for a given participant, we shuffle the data and re-compute perceptual accuracy to build a distribution of performances expected by chance, and then compare the observed perceptual performance to this distribution. Detection (i.e., the proportion of times when a participant reported a flickering screen given that the screen was flickering) is also computed for later visualisation."
   ],
   "metadata": {
    "collapsed": false
   }
  },
  {
   "cell_type": "code",
   "execution_count": 30,
   "outputs": [
    {
     "name": "stdout",
     "output_type": "stream",
     "text": [
      "Percentage of 65Hz Flickers Detected: ~6%\n",
      "Significance: p = 0.508\n"
     ]
    }
   ],
   "source": [
    "# get indices of static + frequency-of-interest conditions\n",
    "idx = (data.flicker_condition == 4) | (data.flicker_condition == 1)\n",
    "\n",
    "# get accuracy\n",
    "x = data.screenActuallyFlickers[idx].reset_index(drop=True)\n",
    "y = data.ppThinksItFlickers[idx].reset_index(drop=True)\n",
    "accuracy = np.mean(x == y)\n",
    "\n",
    "# get p-value\n",
    "n_perms = 500\n",
    "accuracy_distribution = np.zeros(n_perms)\n",
    "for n in np.arange(0, n_perms):\n",
    "    accuracy_distribution[n] = np.mean(x == y.iloc[np.random.permutation(len(y))].reset_index(drop=True))\n",
    "    del n\n",
    "p = 1 - (sum(accuracy > accuracy_distribution) / n_perms)\n",
    "\n",
    "# get detection percentage (i.e., number of items participant correctly detected the flickering screen)\n",
    "detection = np.sum(y[x == 1]) / np.sum([x == 1])\n",
    "\n",
    "# print results\n",
    "print('Percentage of 65Hz Flickers Detected: ~{:d}%'.format(int(detection*100)))\n",
    "print('Significance: p = {:03.3f}'.format(p))"
   ],
   "metadata": {
    "collapsed": false,
    "pycharm": {
     "name": "#%%\n"
    }
   }
  },
  {
   "cell_type": "markdown",
   "source": [
    "Tidy workspace"
   ],
   "metadata": {
    "collapsed": false
   }
  },
  {
   "cell_type": "code",
   "execution_count": 31,
   "outputs": [],
   "source": [
    "del idx, x, y, n_perms, accuracy_distribution, accuracy, p, detection, data"
   ],
   "metadata": {
    "collapsed": false,
    "pycharm": {
     "name": "#%%\n"
    }
   }
  },
  {
   "cell_type": "markdown",
   "source": [
    "### Section 3.2: Perception in Experiment 1\n",
    "The code below runs the perceptual analysis (as described in section 3.1) for all participants and all flicker frequencies."
   ],
   "metadata": {
    "collapsed": false
   }
  },
  {
   "cell_type": "code",
   "execution_count": 32,
   "outputs": [
    {
     "name": "stdout",
     "output_type": "stream",
     "text": [
      "65Hz: mean detection = 3.1 (SD: 10.7)\n",
      "65Hz: n. participants who reliably detect = 1 [of 34 pps]\n",
      "\n",
      "43Hz: mean detection = 94.1 (SD: 18.0)\n",
      "43Hz: n. participants who reliably detect = 33 [of 34 pps]\n",
      "\n",
      "32Hz: mean detection = 98.6 (SD: 3.2)\n",
      "32Hz: n. participants who reliably detect = 34 [of 34 pps]\n",
      "\n"
     ]
    }
   ],
   "source": [
    "# define group data frame\n",
    "n_pp = [44, 36]\n",
    "group_data = [[], []]\n",
    "group_data[0] = pd.DataFrame(data=np.zeros((n_pp[0], 9)),\n",
    "                                 columns=['65Hz_acc', '43Hz_acc', '32Hz_acc', '65Hz_p', '43Hz_p', '32Hz_p',\n",
    "                                          '65Hz_detect', '43Hz_detect', '32Hz_detect'])\n",
    "missing_pps = np.zeros(n_pp[0])\n",
    "\n",
    "# cycle through participants\n",
    "for pp in np.arange(0, n_pp[0]):\n",
    "\n",
    "    # skip participants w/o recorded frequencies and missing participants\n",
    "    if (pp < 4) | ((pp > 33) & (pp < 40)):\n",
    "        missing_pps[pp] = 1\n",
    "        continue\n",
    "\n",
    "    # load data\n",
    "    filename = '{}/dataset-01/perception_pp{:02.0f}.csv'.format(data_directory, pp + 1)\n",
    "    data = pd.read_csv(filename)\n",
    "\n",
    "    # drop nans\n",
    "    data = data.dropna(axis=0, how='any')\n",
    "    data = data.reset_index(drop=True)\n",
    "\n",
    "    # cycle through three frequency conditions\n",
    "    accuracy = [np.nan] * 3\n",
    "    p = [np.nan] * 3\n",
    "    detection = [np.nan] * 3\n",
    "    for i in np.arange(0, 3):\n",
    "\n",
    "        # get indices of static + frequency-of-interest conditions\n",
    "        idx = (data.flicker_condition == 4) | (data.flicker_condition == i + 1)\n",
    "\n",
    "        # get accuracy\n",
    "        x = data.screenActuallyFlickers[idx].reset_index(drop=True)\n",
    "        y = data.ppThinksItFlickers[idx].reset_index(drop=True)\n",
    "        accuracy[i] = np.mean(x == y)\n",
    "\n",
    "        # get p-value\n",
    "        n_perms = 500\n",
    "        accuracy_distribution = np.zeros(n_perms)\n",
    "        for n in np.arange(0, n_perms):\n",
    "            accuracy_distribution[n] = np.mean(x == y.iloc[np.random.permutation(len(y))].reset_index(drop=True))\n",
    "        p[i] = 1 - (sum(accuracy[i] > accuracy_distribution) / n_perms)\n",
    "\n",
    "        # get detection percentage\n",
    "        detection[i] = np.sum(y[x == 1]) / np.sum([x == 1])\n",
    "\n",
    "        # tidy\n",
    "        del idx, x, y, n_perms, accuracy_distribution, n\n",
    "\n",
    "    # add results to group data\n",
    "    group_data[0].loc[pp, :] = np.append(accuracy, [p, detection])\n",
    "\n",
    "    # tidy workspace\n",
    "    del data, filename, accuracy, p, i, pp, detection\n",
    "\n",
    "# drop missing participants\n",
    "group_data[0] = group_data[0].drop(index=np.where(missing_pps)[0]).reset_index(drop=True)\n",
    "\n",
    "# report results\n",
    "condition_names = ['65Hz', '43Hz', '32Hz']\n",
    "for n in np.arange(0, np.size(condition_names)):\n",
    "    values = group_data[0]['{}_detect'.format(condition_names[n])] * 100\n",
    "    print('{}: mean detection = {:2.1f} (SD: {:2.1f})'.format(condition_names[n], np.mean(values), np.std(values)))\n",
    "    values = group_data[0]['{}_p'.format(condition_names[n])]\n",
    "    print('{}: n. participants who reliably detect = {:d} [of {:d} pps]\\n'.format(condition_names[n],\n",
    "                                                                                  np.sum(values <= 0.05),\n",
    "                                                                                  np.size(values)))\n",
    "    del values, n\n",
    "\n",
    "# tidy up\n",
    "del condition_names, missing_pps"
   ],
   "metadata": {
    "collapsed": false,
    "pycharm": {
     "name": "#%%\n"
    }
   }
  },
  {
   "cell_type": "markdown",
   "source": [
    "### Section 3.3: Perception in Experiment 2\n",
    "The analysis is repeated for Experiment 2, accounting for the different experimental approach."
   ],
   "metadata": {
    "collapsed": false
   }
  },
  {
   "cell_type": "code",
   "execution_count": 33,
   "outputs": [
    {
     "name": "stdout",
     "output_type": "stream",
     "text": [
      "mean detection = 11.1 (SD: 18.4)\n",
      "n. participants who reliably detect = 6 [of 36 pps]\n",
      "\n"
     ]
    }
   ],
   "source": [
    "# define group data frame\n",
    "group_data[1] = pd.DataFrame(data=np.zeros((n_pp[1], 3)), columns=np.array(['65Hz_acc', '65Hz_p', 'detection']))\n",
    "\n",
    "# cycle through participants\n",
    "for pp in np.arange(0, n_pp[1]):\n",
    "\n",
    "    # load data\n",
    "    filename = '{}/dataset-02/log_pp{:02.0f}.csv'.format(data_directory, pp + 1)\n",
    "    data = pd.read_csv(filename)\n",
    "\n",
    "    # analyse flicker data\n",
    "    flicker = data[data.flicker.notna()].reset_index(drop=True)\n",
    "    flicker['flicker_binary'] = (flicker.flicker == 'no flicker').astype('int') + 1  # convert to enc_freq coding\n",
    "\n",
    "    # get accuracy\n",
    "    x = flicker.enc_freq\n",
    "    y = flicker.flicker_binary\n",
    "    accuracy = np.mean(x == y)\n",
    "\n",
    "    # get p-value\n",
    "    n_perms = 500\n",
    "    accuracy_distribution = np.zeros(n_perms)\n",
    "    for n in np.arange(0, n_perms):\n",
    "        accuracy_distribution[n] = np.mean(x == y.iloc[np.random.permutation(len(y))].reset_index(drop=True))\n",
    "        del n\n",
    "    p = 1 - (sum(accuracy > accuracy_distribution) / n_perms)\n",
    "\n",
    "    # get detection percentage\n",
    "    detection = np.sum(y[x == 1] == 1) / np.sum([x == 1])\n",
    "\n",
    "    # add results to group data\n",
    "    group_data[1].loc[pp, :] = np.append(accuracy, [p, detection])\n",
    "\n",
    "    # tidy\n",
    "    del filename, data, flicker, x, y, accuracy, n_perms, accuracy_distribution, p, detection, pp\n",
    "\n",
    "# report results\n",
    "values = group_data[1]['detection'] * 100\n",
    "print('mean detection = {:2.1f} (SD: {:2.1f})'.format(np.mean(values), np.std(values)))\n",
    "values = group_data[1]['65Hz_p']\n",
    "print('n. participants who reliably detect = {:d} [of {:d} pps]\\n'.format(np.sum(values <= 0.05), np.size(values)))\n",
    "\n",
    "# tidy up\n",
    "del values"
   ],
   "metadata": {
    "collapsed": false,
    "pycharm": {
     "name": "#%%\n"
    }
   }
  },
  {
   "cell_type": "markdown",
   "source": [
    "### Section 3.4: Plotting\n",
    "Lastly, we plot the detection results for figure 1d."
   ],
   "metadata": {
    "collapsed": false
   }
  },
  {
   "cell_type": "code",
   "execution_count": 34,
   "outputs": [
    {
     "data": {
      "text/plain": "<Figure size 157.48x157.48 with 1 Axes>",
      "image/png": "[encoded data removed]"
     },
     "metadata": {},
     "output_type": "display_data"
    }
   ],
   "source": [
    "# set local defaults\n",
    "cm = 1 / 2.54\n",
    "img_style = {'title': dict(fontsize=9, fontweight='bold'),\n",
    "             'axlabel': dict(fontsize=8),\n",
    "             'ticklabel': dict(fontsize=7, color='black')}\n",
    "\n",
    "# plot\n",
    "f, ax = plt.subplots(1, 1, figsize=(4*cm, 4*cm))\n",
    "percept_palette = dict([(0, np.array([172, 202, 226])/255),\n",
    "                        (1, np.array([157, 215, 157])/255),\n",
    "                        (2, np.array([190, 173, 211])/255)])\n",
    "\n",
    "# plot bar\n",
    "for label, j in zip(['32Hz_detect', '43Hz_detect', '65Hz_detect'], [0, 1, 2]):\n",
    "    ax.bar(j, np.mean(group_data[0][label]), color=percept_palette[j], edgecolor=[0.4, 0.4, 0.4], capsize=2, linewidth=1.5)\n",
    "    ax.errorbar(j, np.mean(group_data[0][label]), yerr=stats.sem(group_data[0][label]), ecolor=[0.4, 0.4, 0.4], capsize=1.5,\n",
    "                   capthick=1.5, elinewidth=1.5)\n",
    "    del label, j\n",
    "\n",
    "ax.bar(3.4, np.mean(group_data[1]['detection']), color=percept_palette[2], edgecolor=[0.4, 0.4, 0.4], capsize=2,\n",
    "       linewidth=1.5)\n",
    "ax.errorbar(3.4, np.mean(group_data[1]['detection']), yerr=stats.sem(group_data[1]['detection']), ecolor=[0.4, 0.4, 0.4],\n",
    "            capsize=1.5, capthick=1.5, elinewidth=1.5)\n",
    "\n",
    "ax.set_ylim([0, 1])\n",
    "ax.spines.right.set_visible(False)\n",
    "ax.spines.top.set_visible(False)\n",
    "ax.set_xticks([0, 1, 2, 3.4])\n",
    "ax.set_yticks([0, 1])\n",
    "ax.axvline(2.7, color='k', linestyle='--')\n",
    "ax.set_xticklabels(['32Hz', '43Hz', '65Hz', '65Hz\\n(Exp. 2)'], **img_style['ticklabel'])\n",
    "ax.set_yticklabels(['0', '1'], **img_style['ticklabel'])\n",
    "ax.set_ylabel('Detection Hit-Rate (%)', labelpad=2, **img_style['axlabel'])\n",
    "ax.set_title('Flicker Detection', pad=8, **img_style['title'])\n",
    "\n",
    "plt.savefig(\"{}/figures/fig1_flickerDetection.eps\".format(data_directory), dpi=500, bbox_inches='tight', pad_inches=0,\n",
    "            transparent=True, facecolor=[1, 1, 1])\n",
    "\n",
    "# tidy up\n",
    "del f, ax, percept_palette, cm, img_style, group_data, n_pp"
   ],
   "metadata": {
    "collapsed": false,
    "pycharm": {
     "name": "#%%\n"
    }
   }
  },
  {
   "cell_type": "markdown",
   "source": [
    "## Section 4: Subprocess Analysis\n",
    "As always, we begin by defining the key variables."
   ],
   "metadata": {
    "collapsed": false
   }
  },
  {
   "cell_type": "code",
   "execution_count": 35,
   "outputs": [],
   "source": [
    "# define flicker/model labels\n",
    "flicker_freqs = [65, 43, 33, 0]\n",
    "labels_outcome = ['DM', 'WM']\n",
    "labels_frequency = ['{}Hz_{}'.format(n, s) for n in [33, 43, 65] for s in ['encoding', 'retrieval']]\n",
    "labels_predictor = labels_frequency + ['enc_onset', 'intercept']\n",
    "\n",
    "# define number of participants/frequencies/models etc.\n",
    "n_outcomes = np.size(labels_outcome, 0)\n",
    "n_pp = 43\n",
    "n_freqs = 4\n",
    "n_predictors = np.size(labels_predictor, 0)"
   ],
   "metadata": {
    "collapsed": false,
    "pycharm": {
     "name": "#%%\n"
    }
   }
  },
  {
   "cell_type": "markdown",
   "source": [
    "### Section 4.1: Single Participant Example\n",
    "Here, we run through an example using participant 1. First, we read in the data and drop trials that are missing data"
   ],
   "metadata": {
    "collapsed": false
   }
  },
  {
   "cell_type": "code",
   "execution_count": 36,
   "outputs": [],
   "source": [
    "# define participant\n",
    "pp = 0\n",
    "\n",
    "# load data\n",
    "filename = '{}/dataset-03/log_pp{:02.0f}.csv'.format(data_directory, pp + 1)\n",
    "data = pd.read_csv(filename)\n",
    "del filename\n",
    "\n",
    "# identify trials with missing data\n",
    "noResponse = data.task.isnull()\n",
    "\n",
    "# drop trials with missing data\n",
    "data = data.drop(index=np.where(noResponse)[0])\n",
    "data = data.reset_index(drop=True)\n",
    "del noResponse"
   ],
   "metadata": {
    "collapsed": false,
    "pycharm": {
     "name": "#%%\n"
    }
   }
  },
  {
   "cell_type": "markdown",
   "source": [
    "We prepare our predictor variables for the logistic model"
   ],
   "metadata": {
    "collapsed": false
   }
  },
  {
   "cell_type": "code",
   "execution_count": 37,
   "outputs": [],
   "source": [
    "# z-score time-based parameters\n",
    "data['enc_onset'] = stats.zscore(data['enc_onset'])\n",
    "\n",
    "# dummy code flicker frequencies (excluding last value to avoid rank deficiency)\n",
    "labels_frequency = []  # predefine list for regression predictors\n",
    "for freq in np.arange(0, np.size(flicker_freqs) - 1):\n",
    "    label = '{}Hz_encoding'.format(flicker_freqs[freq])  # define dataframe header\n",
    "    data[label] = (data.enc_freq == (freq + 1)).astype('int')  # get binary match to target freq\n",
    "    labels_frequency.append(label)  # add label to predictor list\n",
    "    del freq, label"
   ],
   "metadata": {
    "collapsed": false,
    "pycharm": {
     "name": "#%%\n"
    }
   }
  },
  {
   "cell_type": "markdown",
   "source": [
    "Then we run our logistic model (all of this is very much the same as in the main experiment)"
   ],
   "metadata": {
    "collapsed": false
   }
  },
  {
   "cell_type": "code",
   "execution_count": 38,
   "outputs": [
    {
     "name": "stdout",
     "output_type": "stream",
     "text": [
      "In task DM, predictor '65Hz_encoding': participant t = -0.478\n"
     ]
    }
   ],
   "source": [
    "# get subdata\n",
    "subdata = data[data['task'] == 'DM']\n",
    "del data\n",
    "\n",
    "# run logistic regression for memory recall\n",
    "predictors = labels_frequency + ['enc_onset']\n",
    "t_values, labels = run_regression(subdata, predictors, 'correct', recalledOnly=False, useLogit=True)\n",
    "\n",
    "# report\n",
    "print(\"In task DM, predictor '{:s}': participant t = {:03.3f}\".format(labels[0], t_values[0]))\n",
    "del predictors, labels_frequency, subdata"
   ],
   "metadata": {
    "collapsed": false,
    "pycharm": {
     "name": "#%%\n"
    }
   }
  },
  {
   "cell_type": "markdown",
   "source": [
    "### Section 4.2: The Big Loop\n",
    "Here, we run the analysis for all participants and models"
   ],
   "metadata": {
    "collapsed": false
   }
  },
  {
   "cell_type": "code",
   "execution_count": 39,
   "outputs": [],
   "source": [
    "# create group descriptives structure\n",
    "group_means = pd.DataFrame(index=np.arange(0, np.sum(n_pp)), columns=['pp', 'DM', 'WM'])\n",
    "\n",
    "# add in dataset/participant/model number\n",
    "group_means['pp'] = np.arange(0, n_pp)\n",
    "\n",
    "# create group data structure\n",
    "group_models = pd.DataFrame(index=np.arange(0, n_pp * n_outcomes * n_predictors),\n",
    "                                columns=['pp', 'outcome', 'predictor', 'regressor_t', 'outlier'])\n",
    "\n",
    "# add in dataset/participant/model number\n",
    "group_models['pp'] = np.repeat(np.arange(0, n_pp), n_outcomes * n_predictors)\n",
    "group_models['outcome'] = np.tile(np.repeat(labels_outcome, n_predictors), n_pp)\n",
    "group_models['predictor'] = np.tile(labels_predictor, n_pp * n_outcomes)\n",
    "\n",
    "# cycle through participants\n",
    "for pp in np.arange(0, n_pp):\n",
    "\n",
    "    # load data\n",
    "    filename = '{}/dataset-03/log_pp{:02.0f}.csv'.format(data_directory, pp + 1)\n",
    "    data = pd.read_csv(filename)\n",
    "    del filename\n",
    "\n",
    "    # identify trials with missing data\n",
    "    noResponse = data.task.isnull()\n",
    "\n",
    "    # drop trials with missing data\n",
    "    data = data.drop(index=np.where(noResponse)[0])\n",
    "    data = data.reset_index(drop=True)\n",
    "    del noResponse\n",
    "\n",
    "    # store descriptives\n",
    "    idx = np.where(group_means['pp'] == pp)[0]\n",
    "    group_means.loc[idx, 'DM'] = data['correct'][np.where(data['task'] == 'DM')[0]].mean()\n",
    "    group_means.loc[idx, 'WM'] = data['correct'][np.where(data['task'] == 'WM')[0]].mean()\n",
    "    del idx\n",
    "\n",
    "    # z-score time-based parameters\n",
    "    data['enc_onset'] = stats.zscore(data['enc_onset'])\n",
    "\n",
    "    # dummy code flicker frequencies (excluding last value to avoid rank deficiency)\n",
    "    labels_frequency = []  # predefine list for regression predictors\n",
    "    for freq in np.arange(0, np.size(flicker_freqs) - 1):\n",
    "        label = '{}Hz_encoding'.format(flicker_freqs[freq])  # define dataframe header\n",
    "        data[label] = (data.enc_freq == (freq + 1)).astype('int')  # get binary match to target freq\n",
    "        labels_frequency.append(label)  # add label to predictor list\n",
    "        del label, freq\n",
    "\n",
    "    # cycle through models\n",
    "    for model in np.arange(0, 2):\n",
    "\n",
    "        # get subdata\n",
    "        if model == 0:\n",
    "            subdata = data[data['task'] == 'DM']\n",
    "        else:\n",
    "            subdata = data[data['task'] == 'WM']\n",
    "\n",
    "        # run logistic regression for memory recall\n",
    "        predictors = labels_frequency + ['enc_onset']\n",
    "        t_values, labels = run_regression(subdata, predictors, 'correct', recalledOnly=False, useLogit=True)\n",
    "        del predictors, subdata\n",
    "\n",
    "        # add regressor results to group data\n",
    "        for i, j in zip(t_values, labels):\n",
    "            row_index = np.where((group_models['pp'] == pp) &\n",
    "                                 (group_models['outcome'] == labels_outcome[model]) &\n",
    "                                 (group_models['predictor'] == j))[0]\n",
    "            column_index = np.where(group_models.columns == 'regressor_t')[0]\n",
    "            group_models.iloc[row_index, column_index] = i\n",
    "\n",
    "            # tidy loop variables\n",
    "            del row_index, column_index, i, j\n",
    "\n",
    "        # tidy loop variables\n",
    "        del t_values, labels, model\n",
    "\n",
    "    # tidy workspace\n",
    "    del labels_frequency, data, pp\n",
    "del flicker_freqs"
   ],
   "metadata": {
    "collapsed": false,
    "pycharm": {
     "name": "#%%\n"
    }
   }
  },
  {
   "cell_type": "markdown",
   "source": [
    "We can then return descriptives..."
   ],
   "metadata": {
    "collapsed": false
   }
  },
  {
   "cell_type": "code",
   "execution_count": 40,
   "outputs": [
    {
     "name": "stdout",
     "output_type": "stream",
     "text": [
      "WM Performance: 96.2 (s.d. 5.0)\n",
      "DM Performance: 75.9 (s.d. 26.8)\n"
     ]
    }
   ],
   "source": [
    "print('WM Performance: {:2.1f} (s.d. {:2.1f})'.format(np.mean(group_means['WM']*100), np.std(group_means['WM']*100)))\n",
    "print('DM Performance: {:2.1f} (s.d. {:2.1f})'.format(np.mean(group_means['DM']*100), np.std(group_means['DM']*100)))\n",
    "del group_means"
   ],
   "metadata": {
    "collapsed": false,
    "pycharm": {
     "name": "#%%\n"
    }
   }
  },
  {
   "cell_type": "markdown",
   "source": [
    "...run the statistical analysis..."
   ],
   "metadata": {
    "collapsed": false
   }
  },
  {
   "cell_type": "code",
   "execution_count": 41,
   "outputs": [
    {
     "name": "stdout",
     "output_type": "stream",
     "text": [
      "  outcome      predictor      mean       sem         d         t  df  \\\n",
      "0      DM  33Hz_encoding   0.00335  0.127169   0.00433  0.025981  36   \n",
      "1      DM  43Hz_encoding -0.019592  0.120622 -0.026702 -0.160214  36   \n",
      "2      DM  65Hz_encoding -0.125787  0.112381 -0.184011 -1.104065  36   \n",
      "3      DM      enc_onset  0.504526  0.254216  0.326272  1.957633  36   \n",
      "4      DM      intercept  0.882484  0.274392  0.528731  3.172383  36   \n",
      "5      WM  33Hz_encoding  0.012567  0.048236   0.04069  0.257343  40   \n",
      "6      WM  43Hz_encoding  0.013012  0.046563  0.043642  0.276017  40   \n",
      "7      WM  65Hz_encoding   0.02101  0.066418  0.049402  0.312443  40   \n",
      "8      WM      enc_onset -0.265483  0.167013 -0.248253 -1.570091  40   \n",
      "9      WM      intercept  1.576838  0.249295  0.987829  6.247579  40   \n",
      "\n",
      "          p tost_pval tost_tupp tost_lupp  \n",
      "0  0.489708   0.00261  3.025981 -2.974019  \n",
      "1  0.563196   0.00369  2.839786 -3.160214  \n",
      "2  0.861555  0.033009  1.895935 -4.104065  \n",
      "3   0.02903  0.152096  4.957633 -1.042367  \n",
      "4  0.001544  0.567949  6.172383  0.172383  \n",
      "5  0.399117  0.002979  3.419621 -2.904934  \n",
      "6  0.391978  0.003128  3.438295  -2.88626  \n",
      "7  0.378163  0.003441  3.474721 -2.849834  \n",
      "8  0.937864  0.059608  1.592187 -4.732368  \n",
      "9       0.0   0.99816  9.409856  3.085301  \n"
     ]
    }
   ],
   "source": [
    "# predefine statistics output\n",
    "result_column_labels = ['outcome', 'predictor', 'mean', 'sem', 'd', 't', 'df', 'p', 'tost_pval', 'tost_tupp', 'tost_lupp']\n",
    "results = pd.DataFrame(index=np.arange(0, n_outcomes * n_predictors),\n",
    "                           columns=result_column_labels)\n",
    "results['outcome'] = np.repeat(labels_outcome, n_predictors)\n",
    "results['predictor'] = np.tile(labels_predictor, n_outcomes)\n",
    "del result_column_labels\n",
    "\n",
    "# define side of tail\n",
    "tail = ['greater', 'greater', 'greater']\n",
    "\n",
    "# cycle through outcomes and predictors\n",
    "for outcome in labels_outcome:\n",
    "    for predictor in labels_predictor:\n",
    "\n",
    "        # get data for dataset/model\n",
    "        sub_models = group_models.query(\"outcome == '{}' and predictor == '{}'\".format(outcome, predictor)).reset_index\\\n",
    "            (drop=True)\n",
    "\n",
    "        # skip if all values are NaN\n",
    "        if all(np.isnan(sub_models['regressor_t'].values.astype('float'))): # skip if empty\n",
    "            continue\n",
    "\n",
    "        # get data of interest\n",
    "        values = sub_models['regressor_t'].astype('float')\n",
    "        values = values.dropna().reset_index(drop=True)\n",
    "        del sub_models\n",
    "\n",
    "        # get index in results DataFrame\n",
    "        row_index = np.where((results['outcome'] == outcome) & (results['predictor'] == predictor))[0]\n",
    "\n",
    "        # get regressor descriptives\n",
    "        results.loc[row_index, 'mean'] = np.mean(values)\n",
    "        results.loc[row_index, 'sem'] = np.std(values) / np.sqrt(np.size(values))\n",
    "        results.loc[row_index, 'd'] = np.mean(values) / np.std(values)\n",
    "\n",
    "        # run t-test\n",
    "        results.loc[row_index, 'df'] = np.size(values, axis=0) - 1  # get degrees of freedom\n",
    "        results.loc[row_index, 't'], results.loc[row_index, 'p'] = stats.ttest_1samp(values, 0, alternative='greater')\n",
    "\n",
    "        # run TOST\n",
    "        thr = np.std(values) * 0.5\n",
    "        [p, t1, t2] = weightstats.ttost_paired(values, np.zeros(np.size(values)), -thr, thr)\n",
    "        results.loc[row_index, 'tost_pval'] = p\n",
    "        results.loc[row_index, 'tost_tupp'] = t1[0]\n",
    "        results.loc[row_index, 'tost_lupp'] = t2[0]\n",
    "        del row_index, p, t1, t2, values, predictor, thr\n",
    "    del outcome\n",
    "\n",
    "# drop contrasts with NaN results\n",
    "results = results.dropna(axis=0, how='any', inplace=False)\n",
    "results = results.reset_index(drop=True, inplace=False)\n",
    "\n",
    "# return results\n",
    "print(results)\n",
    "del tail, results, n_freqs, n_outcomes, n_pp, n_predictors, labels_outcome, labels_predictor"
   ],
   "metadata": {
    "collapsed": false,
    "pycharm": {
     "name": "#%%\n"
    }
   }
  },
  {
   "cell_type": "markdown",
   "source": [
    "...plot the short-term memory results..."
   ],
   "metadata": {
    "collapsed": false
   }
  },
  {
   "cell_type": "code",
   "execution_count": 42,
   "outputs": [
    {
     "data": {
      "text/plain": "<Figure size 314.961x314.961 with 1 Axes>",
      "image/png": "[encoded data removed]"
     },
     "metadata": {},
     "output_type": "display_data"
    }
   ],
   "source": [
    "# set local defaults\n",
    "cm = 1 / 2.54\n",
    "\n",
    "values = [[], [], []]\n",
    "for n, predictor in enumerate(['33Hz_encoding', '43Hz_encoding', '65Hz_encoding']):\n",
    "\n",
    "    # get data for dataset/model\n",
    "    sub_models = group_models.query(\"outcome == 'WM' and predictor == '{}'\".format(predictor)).reset_index(drop=True)\n",
    "\n",
    "    # skip if all values are NaN\n",
    "    if all(np.isnan(sub_models['regressor_t'].values.astype('float'))): # skip if empty\n",
    "        continue\n",
    "\n",
    "    # get data of interest\n",
    "    values[n] = sub_models['regressor_t'].astype('float')\n",
    "    values[n] = values[n].dropna().reset_index(drop=True) # drop missing values\n",
    "    del sub_models, n, predictor\n",
    "\n",
    "fig, ax = plt.subplots(1, 1, figsize=(8*cm, 8*cm))\n",
    "for n in range(3):\n",
    "    nppi = np.size(values[n])\n",
    "    ax.scatter(x=np.zeros(nppi)+n+((np.random.rand(nppi)-0.5)/5), y=values[n], s=18, edgecolors='none')\n",
    "    del n, nppi\n",
    "ax.set_xlim([-2/3, 2+2/3])\n",
    "ax.set_xticks([0, 1, 2])\n",
    "ax.set_xticklabels(['32.5Hz', '43.3Hz', '65Hz'])\n",
    "ax.set_yticks([-1.2, -0.6, 0, 0.6, 1.2])\n",
    "ax.set_ylabel('Regressor t-value (t)')\n",
    "\n",
    "plt.savefig(\"{}/figures/supp_figure1a.eps\".format(data_directory), dpi=500, bbox_inches='tight', pad_inches=0,\n",
    "            transparent=True, facecolor=[1, 1, 1])\n",
    "\n",
    "del fig, ax, values"
   ],
   "metadata": {
    "collapsed": false,
    "pycharm": {
     "name": "#%%\n"
    }
   }
  },
  {
   "cell_type": "code",
   "execution_count": 43,
   "outputs": [
    {
     "data": {
      "text/plain": "<Figure size 314.961x314.961 with 1 Axes>",
      "image/png": "[encoded data removed]"
     },
     "metadata": {},
     "output_type": "display_data"
    }
   ],
   "source": [
    "values = [[], [], []]\n",
    "for n, predictor in enumerate(['33Hz_encoding', '43Hz_encoding', '65Hz_encoding']):\n",
    "\n",
    "    # get data for dataset/model\n",
    "    sub_models = group_models.query(\"outcome == 'DM' and predictor == '{}'\".format(predictor)).reset_index(drop=True)\n",
    "\n",
    "    # skip if all values are NaN\n",
    "    if all(np.isnan(sub_models['regressor_t'].values.astype('float'))): # skip if empty\n",
    "        continue\n",
    "\n",
    "    # get data of interest\n",
    "    values[n] = sub_models['regressor_t'].astype('float')\n",
    "    values[n] = values[n].dropna().reset_index(drop=True) # drop missing values\n",
    "\n",
    "    # tidy up\n",
    "    del predictor, n, sub_models\n",
    "\n",
    "fig, ax = plt.subplots(1, 1, figsize=(8*cm, 8*cm))\n",
    "for n in range(3):\n",
    "    nppi = np.size(values[n])\n",
    "    ax.scatter(x=np.zeros(nppi)+n+((np.random.rand(nppi)-0.5)/5), y=values[n], s=18, edgecolors='none')\n",
    "    del n, nppi\n",
    "ax.set_xlim([-2/3, 2+2/3])\n",
    "ax.set_xticks([0, 1, 2])\n",
    "ax.set_xticklabels(['32.5Hz', '43.3Hz', '65Hz'])\n",
    "ax.set_yticks([-2.4, -1.2, 0, 1.2, 2.4])\n",
    "ax.set_ylabel('Regressor t-value (t)')\n",
    "\n",
    "plt.savefig(\"{}/figures/supp_figure1b.eps\".format(data_directory), dpi=500, bbox_inches='tight', pad_inches=0,\n",
    "            transparent=True, facecolor=[1, 1, 1])\n",
    "\n",
    "del ax, fig, cm, values, group_models"
   ],
   "metadata": {
    "collapsed": false,
    "pycharm": {
     "name": "#%%\n"
    }
   }
  },
  {
   "cell_type": "markdown",
   "source": [],
   "metadata": {
    "collapsed": false
   }
  }
 ],
 "metadata": {
  "kernelspec": {
   "display_name": "Python 3",
   "language": "python",
   "name": "python3"
  },
  "language_info": {
   "codemirror_mode": {
    "name": "ipython",
    "version": 2
   },
   "file_extension": ".py",
   "mimetype": "text/x-python",
   "name": "python",
   "nbconvert_exporter": "python",
   "pygments_lexer": "ipython2",
   "version": "2.7.6"
  }
 },
 "nbformat": 4,
 "nbformat_minor": 0
}